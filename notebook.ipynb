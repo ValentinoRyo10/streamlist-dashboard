{
  "cells": [
    {
      "cell_type": "markdown",
      "metadata": {
        "id": "H9wADwK78DCz"
      },
      "source": [
        "# Proyek Analisis Data: E-commerce Public Dataset\n",
        "- **Nama:** Valentino Ryo Koesdarto\n",
        "- **Email:** valentinoryo10@gmail.com\n",
        "- **ID Dicoding:** xvalnsz"
      ]
    },
    {
      "cell_type": "markdown",
      "metadata": {},
      "source": [
        "---"
      ]
    },
    {
      "cell_type": "markdown",
      "metadata": {
        "id": "eE0raob58DC0"
      },
      "source": [
        "## Menentukan Pertanyaan Bisnis"
      ]
    },
    {
      "cell_type": "markdown",
      "metadata": {
        "id": "GmQeQ5YF8DC0"
      },
      "source": [
        "- Bagaimana pengaruh tingkat pembelian suatu produk di wilayah tertentu berdasarkan ukuran produk tersebut ?\n",
        "- Bagaimana pengaruh demografis wilayah customer terhadap lamanya waktu pengiriman produk tersebut ?"
      ]
    },
    {
      "cell_type": "markdown",
      "metadata": {
        "id": "H-z4QGlO8DC1"
      },
      "source": [
        "## Import Semua Packages/Library yang Digunakan"
      ]
    },
    {
      "cell_type": "code",
      "execution_count": 748,
      "metadata": {
        "id": "FVYwaObI8DC1"
      },
      "outputs": [],
      "source": [
        "import numpy as np\n",
        "import pandas as pd\n",
        "import matplotlib.pyplot as plt\n",
        "import seaborn as sns"
      ]
    },
    {
      "cell_type": "markdown",
      "metadata": {},
      "source": [
        "---"
      ]
    },
    {
      "cell_type": "markdown",
      "metadata": {
        "id": "h_Sh51Xy8DC1"
      },
      "source": [
        "## Data Wrangling"
      ]
    },
    {
      "cell_type": "markdown",
      "metadata": {
        "id": "sXU2GBYu8DC1"
      },
      "source": [
        "### Gathering Data"
      ]
    },
    {
      "cell_type": "code",
      "execution_count": 749,
      "metadata": {
        "id": "zjCBk1BI8DC1"
      },
      "outputs": [
        {
          "data": {
            "text/html": [
              "<div>\n",
              "<style scoped>\n",
              "    .dataframe tbody tr th:only-of-type {\n",
              "        vertical-align: middle;\n",
              "    }\n",
              "\n",
              "    .dataframe tbody tr th {\n",
              "        vertical-align: top;\n",
              "    }\n",
              "\n",
              "    .dataframe thead th {\n",
              "        text-align: right;\n",
              "    }\n",
              "</style>\n",
              "<table border=\"1\" class=\"dataframe\">\n",
              "  <thead>\n",
              "    <tr style=\"text-align: right;\">\n",
              "      <th></th>\n",
              "      <th>customer_id</th>\n",
              "      <th>customer_unique_id</th>\n",
              "      <th>customer_zip_code_prefix</th>\n",
              "      <th>customer_city</th>\n",
              "      <th>customer_state</th>\n",
              "    </tr>\n",
              "  </thead>\n",
              "  <tbody>\n",
              "    <tr>\n",
              "      <th>0</th>\n",
              "      <td>06b8999e2fba1a1fbc88172c00ba8bc7</td>\n",
              "      <td>861eff4711a542e4b93843c6dd7febb0</td>\n",
              "      <td>14409.0</td>\n",
              "      <td>franca</td>\n",
              "      <td>SP</td>\n",
              "    </tr>\n",
              "    <tr>\n",
              "      <th>1</th>\n",
              "      <td>18955e83d337fd6b2def6b18a428ac77</td>\n",
              "      <td>290c77bc529b7ac935b93aa66c333dc3</td>\n",
              "      <td>9790.0</td>\n",
              "      <td>sao bernardo do campo</td>\n",
              "      <td>SP</td>\n",
              "    </tr>\n",
              "    <tr>\n",
              "      <th>2</th>\n",
              "      <td>4e7b3e00288586ebd08712fdd0374a03</td>\n",
              "      <td>060e732b5b29e8181a18229c7b0b2b5e</td>\n",
              "      <td>1151.0</td>\n",
              "      <td>sao paulo</td>\n",
              "      <td>SP</td>\n",
              "    </tr>\n",
              "    <tr>\n",
              "      <th>3</th>\n",
              "      <td>b2b6027bc5c5109e529d4dc6358b12c3</td>\n",
              "      <td>259dac757896d24d7702b9acbbff3f3c</td>\n",
              "      <td>8775.0</td>\n",
              "      <td>mogi das cruzes</td>\n",
              "      <td>SP</td>\n",
              "    </tr>\n",
              "    <tr>\n",
              "      <th>4</th>\n",
              "      <td>4f2d8ab171c80ec8364f7c12e35b23ad</td>\n",
              "      <td>345ecd01c38d18a9036ed96c73b8d066</td>\n",
              "      <td>13056.0</td>\n",
              "      <td>campinas</td>\n",
              "      <td>SP</td>\n",
              "    </tr>\n",
              "  </tbody>\n",
              "</table>\n",
              "</div>"
            ],
            "text/plain": [
              "                        customer_id                customer_unique_id  \\\n",
              "0  06b8999e2fba1a1fbc88172c00ba8bc7  861eff4711a542e4b93843c6dd7febb0   \n",
              "1  18955e83d337fd6b2def6b18a428ac77  290c77bc529b7ac935b93aa66c333dc3   \n",
              "2  4e7b3e00288586ebd08712fdd0374a03  060e732b5b29e8181a18229c7b0b2b5e   \n",
              "3  b2b6027bc5c5109e529d4dc6358b12c3  259dac757896d24d7702b9acbbff3f3c   \n",
              "4  4f2d8ab171c80ec8364f7c12e35b23ad  345ecd01c38d18a9036ed96c73b8d066   \n",
              "\n",
              "   customer_zip_code_prefix          customer_city customer_state  \n",
              "0                   14409.0                 franca             SP  \n",
              "1                    9790.0  sao bernardo do campo             SP  \n",
              "2                    1151.0              sao paulo             SP  \n",
              "3                    8775.0        mogi das cruzes             SP  \n",
              "4                   13056.0               campinas             SP  "
            ]
          },
          "execution_count": 749,
          "metadata": {},
          "output_type": "execute_result"
        }
      ],
      "source": [
        "customers_df = pd.read_csv(\"data/customers_dataset.csv\")\n",
        "customers_df.head(5)"
      ]
    },
    {
      "cell_type": "code",
      "execution_count": 750,
      "metadata": {},
      "outputs": [
        {
          "data": {
            "text/html": [
              "<div>\n",
              "<style scoped>\n",
              "    .dataframe tbody tr th:only-of-type {\n",
              "        vertical-align: middle;\n",
              "    }\n",
              "\n",
              "    .dataframe tbody tr th {\n",
              "        vertical-align: top;\n",
              "    }\n",
              "\n",
              "    .dataframe thead th {\n",
              "        text-align: right;\n",
              "    }\n",
              "</style>\n",
              "<table border=\"1\" class=\"dataframe\">\n",
              "  <thead>\n",
              "    <tr style=\"text-align: right;\">\n",
              "      <th></th>\n",
              "      <th>product_id</th>\n",
              "      <th>product_category_name</th>\n",
              "      <th>product_name_lenght</th>\n",
              "      <th>product_description_lenght</th>\n",
              "      <th>product_photos_qty</th>\n",
              "      <th>product_weight_g</th>\n",
              "      <th>product_length_cm</th>\n",
              "      <th>product_height_cm</th>\n",
              "      <th>product_width_cm</th>\n",
              "    </tr>\n",
              "  </thead>\n",
              "  <tbody>\n",
              "    <tr>\n",
              "      <th>0</th>\n",
              "      <td>1e9e8ef04dbcff4541ed26657ea517e5</td>\n",
              "      <td>perfumaria</td>\n",
              "      <td>40.0</td>\n",
              "      <td>287.0</td>\n",
              "      <td>1.0</td>\n",
              "      <td>225.0</td>\n",
              "      <td>16.0</td>\n",
              "      <td>10.0</td>\n",
              "      <td>14.0</td>\n",
              "    </tr>\n",
              "    <tr>\n",
              "      <th>1</th>\n",
              "      <td>3aa071139cb16b67ca9e5dea641aaa2f</td>\n",
              "      <td>artes</td>\n",
              "      <td>44.0</td>\n",
              "      <td>276.0</td>\n",
              "      <td>1.0</td>\n",
              "      <td>1000.0</td>\n",
              "      <td>30.0</td>\n",
              "      <td>18.0</td>\n",
              "      <td>20.0</td>\n",
              "    </tr>\n",
              "    <tr>\n",
              "      <th>2</th>\n",
              "      <td>96bd76ec8810374ed1b65e291975717f</td>\n",
              "      <td>esporte_lazer</td>\n",
              "      <td>46.0</td>\n",
              "      <td>250.0</td>\n",
              "      <td>1.0</td>\n",
              "      <td>154.0</td>\n",
              "      <td>18.0</td>\n",
              "      <td>9.0</td>\n",
              "      <td>15.0</td>\n",
              "    </tr>\n",
              "    <tr>\n",
              "      <th>3</th>\n",
              "      <td>cef67bcfe19066a932b7673e239eb23d</td>\n",
              "      <td>bebes</td>\n",
              "      <td>27.0</td>\n",
              "      <td>261.0</td>\n",
              "      <td>1.0</td>\n",
              "      <td>371.0</td>\n",
              "      <td>26.0</td>\n",
              "      <td>4.0</td>\n",
              "      <td>26.0</td>\n",
              "    </tr>\n",
              "    <tr>\n",
              "      <th>4</th>\n",
              "      <td>9dc1a7de274444849c219cff195d0b71</td>\n",
              "      <td>utilidades_domesticas</td>\n",
              "      <td>37.0</td>\n",
              "      <td>402.0</td>\n",
              "      <td>4.0</td>\n",
              "      <td>625.0</td>\n",
              "      <td>20.0</td>\n",
              "      <td>17.0</td>\n",
              "      <td>13.0</td>\n",
              "    </tr>\n",
              "  </tbody>\n",
              "</table>\n",
              "</div>"
            ],
            "text/plain": [
              "                         product_id  product_category_name  \\\n",
              "0  1e9e8ef04dbcff4541ed26657ea517e5             perfumaria   \n",
              "1  3aa071139cb16b67ca9e5dea641aaa2f                  artes   \n",
              "2  96bd76ec8810374ed1b65e291975717f          esporte_lazer   \n",
              "3  cef67bcfe19066a932b7673e239eb23d                  bebes   \n",
              "4  9dc1a7de274444849c219cff195d0b71  utilidades_domesticas   \n",
              "\n",
              "   product_name_lenght  product_description_lenght  product_photos_qty  \\\n",
              "0                 40.0                       287.0                 1.0   \n",
              "1                 44.0                       276.0                 1.0   \n",
              "2                 46.0                       250.0                 1.0   \n",
              "3                 27.0                       261.0                 1.0   \n",
              "4                 37.0                       402.0                 4.0   \n",
              "\n",
              "   product_weight_g  product_length_cm  product_height_cm  product_width_cm  \n",
              "0             225.0               16.0               10.0              14.0  \n",
              "1            1000.0               30.0               18.0              20.0  \n",
              "2             154.0               18.0                9.0              15.0  \n",
              "3             371.0               26.0                4.0              26.0  \n",
              "4             625.0               20.0               17.0              13.0  "
            ]
          },
          "execution_count": 750,
          "metadata": {},
          "output_type": "execute_result"
        }
      ],
      "source": [
        "products_df = pd.read_csv(\"data/products_dataset.csv\")\n",
        "products_df.head(5)"
      ]
    },
    {
      "cell_type": "code",
      "execution_count": 751,
      "metadata": {},
      "outputs": [
        {
          "data": {
            "text/html": [
              "<div>\n",
              "<style scoped>\n",
              "    .dataframe tbody tr th:only-of-type {\n",
              "        vertical-align: middle;\n",
              "    }\n",
              "\n",
              "    .dataframe tbody tr th {\n",
              "        vertical-align: top;\n",
              "    }\n",
              "\n",
              "    .dataframe thead th {\n",
              "        text-align: right;\n",
              "    }\n",
              "</style>\n",
              "<table border=\"1\" class=\"dataframe\">\n",
              "  <thead>\n",
              "    <tr style=\"text-align: right;\">\n",
              "      <th></th>\n",
              "      <th>order_id</th>\n",
              "      <th>customer_id</th>\n",
              "      <th>order_status</th>\n",
              "      <th>order_purchase_timestamp</th>\n",
              "      <th>order_approved_at</th>\n",
              "      <th>order_delivered_carrier_date</th>\n",
              "      <th>order_delivered_customer_date</th>\n",
              "      <th>order_estimated_delivery_date</th>\n",
              "    </tr>\n",
              "  </thead>\n",
              "  <tbody>\n",
              "    <tr>\n",
              "      <th>0</th>\n",
              "      <td>e481f51cbdc54678b7cc49136f2d6af7</td>\n",
              "      <td>9ef432eb6251297304e76186b10a928d</td>\n",
              "      <td>delivered</td>\n",
              "      <td>2017-10-02 10:56:33</td>\n",
              "      <td>2017-10-02 11:07:15</td>\n",
              "      <td>2017-10-04 19:55:00</td>\n",
              "      <td>2017-10-10 21:25:13</td>\n",
              "      <td>2017-10-18 00:00:00</td>\n",
              "    </tr>\n",
              "    <tr>\n",
              "      <th>1</th>\n",
              "      <td>53cdb2fc8bc7dce0b6741e2150273451</td>\n",
              "      <td>b0830fb4747a6c6d20dea0b8c802d7ef</td>\n",
              "      <td>delivered</td>\n",
              "      <td>2018-07-24 20:41:37</td>\n",
              "      <td>2018-07-26 03:24:27</td>\n",
              "      <td>2018-07-26 14:31:00</td>\n",
              "      <td>2018-08-07 15:27:45</td>\n",
              "      <td>2018-08-13 00:00:00</td>\n",
              "    </tr>\n",
              "    <tr>\n",
              "      <th>2</th>\n",
              "      <td>47770eb9100c2d0c44946d9cf07ec65d</td>\n",
              "      <td>41ce2a54c0b03bf3443c3d931a367089</td>\n",
              "      <td>delivered</td>\n",
              "      <td>2018-08-08 08:38:49</td>\n",
              "      <td>2018-08-08 08:55:23</td>\n",
              "      <td>2018-08-08 13:50:00</td>\n",
              "      <td>2018-08-17 18:06:29</td>\n",
              "      <td>2018-09-04 00:00:00</td>\n",
              "    </tr>\n",
              "    <tr>\n",
              "      <th>3</th>\n",
              "      <td>949d5b44dbf5de918fe9c16f97b45f8a</td>\n",
              "      <td>f88197465ea7920adcdbec7375364d82</td>\n",
              "      <td>delivered</td>\n",
              "      <td>2017-11-18 19:28:06</td>\n",
              "      <td>2017-11-18 19:45:59</td>\n",
              "      <td>2017-11-22 13:39:59</td>\n",
              "      <td>2017-12-02 00:28:42</td>\n",
              "      <td>2017-12-15 00:00:00</td>\n",
              "    </tr>\n",
              "    <tr>\n",
              "      <th>4</th>\n",
              "      <td>ad21c59c0840e6cb83a9ceb5573f8159</td>\n",
              "      <td>8ab97904e6daea8866dbdbc4fb7aad2c</td>\n",
              "      <td>delivered</td>\n",
              "      <td>2018-02-13 21:18:39</td>\n",
              "      <td>2018-02-13 22:20:29</td>\n",
              "      <td>2018-02-14 19:46:34</td>\n",
              "      <td>2018-02-16 18:17:02</td>\n",
              "      <td>2018-02-26 00:00:00</td>\n",
              "    </tr>\n",
              "  </tbody>\n",
              "</table>\n",
              "</div>"
            ],
            "text/plain": [
              "                           order_id                       customer_id  \\\n",
              "0  e481f51cbdc54678b7cc49136f2d6af7  9ef432eb6251297304e76186b10a928d   \n",
              "1  53cdb2fc8bc7dce0b6741e2150273451  b0830fb4747a6c6d20dea0b8c802d7ef   \n",
              "2  47770eb9100c2d0c44946d9cf07ec65d  41ce2a54c0b03bf3443c3d931a367089   \n",
              "3  949d5b44dbf5de918fe9c16f97b45f8a  f88197465ea7920adcdbec7375364d82   \n",
              "4  ad21c59c0840e6cb83a9ceb5573f8159  8ab97904e6daea8866dbdbc4fb7aad2c   \n",
              "\n",
              "  order_status order_purchase_timestamp    order_approved_at  \\\n",
              "0    delivered      2017-10-02 10:56:33  2017-10-02 11:07:15   \n",
              "1    delivered      2018-07-24 20:41:37  2018-07-26 03:24:27   \n",
              "2    delivered      2018-08-08 08:38:49  2018-08-08 08:55:23   \n",
              "3    delivered      2017-11-18 19:28:06  2017-11-18 19:45:59   \n",
              "4    delivered      2018-02-13 21:18:39  2018-02-13 22:20:29   \n",
              "\n",
              "  order_delivered_carrier_date order_delivered_customer_date  \\\n",
              "0          2017-10-04 19:55:00           2017-10-10 21:25:13   \n",
              "1          2018-07-26 14:31:00           2018-08-07 15:27:45   \n",
              "2          2018-08-08 13:50:00           2018-08-17 18:06:29   \n",
              "3          2017-11-22 13:39:59           2017-12-02 00:28:42   \n",
              "4          2018-02-14 19:46:34           2018-02-16 18:17:02   \n",
              "\n",
              "  order_estimated_delivery_date  \n",
              "0           2017-10-18 00:00:00  \n",
              "1           2018-08-13 00:00:00  \n",
              "2           2018-09-04 00:00:00  \n",
              "3           2017-12-15 00:00:00  \n",
              "4           2018-02-26 00:00:00  "
            ]
          },
          "execution_count": 751,
          "metadata": {},
          "output_type": "execute_result"
        }
      ],
      "source": [
        "orders_df = pd.read_csv(\"data/orders_dataset.csv\")\n",
        "orders_df.head(5)"
      ]
    },
    {
      "cell_type": "code",
      "execution_count": 752,
      "metadata": {},
      "outputs": [
        {
          "data": {
            "text/html": [
              "<div>\n",
              "<style scoped>\n",
              "    .dataframe tbody tr th:only-of-type {\n",
              "        vertical-align: middle;\n",
              "    }\n",
              "\n",
              "    .dataframe tbody tr th {\n",
              "        vertical-align: top;\n",
              "    }\n",
              "\n",
              "    .dataframe thead th {\n",
              "        text-align: right;\n",
              "    }\n",
              "</style>\n",
              "<table border=\"1\" class=\"dataframe\">\n",
              "  <thead>\n",
              "    <tr style=\"text-align: right;\">\n",
              "      <th></th>\n",
              "      <th>order_id</th>\n",
              "      <th>order_item_id</th>\n",
              "      <th>product_id</th>\n",
              "      <th>seller_id</th>\n",
              "      <th>shipping_limit_date</th>\n",
              "      <th>price</th>\n",
              "      <th>freight_value</th>\n",
              "    </tr>\n",
              "  </thead>\n",
              "  <tbody>\n",
              "    <tr>\n",
              "      <th>0</th>\n",
              "      <td>00010242fe8c5a6d1ba2dd792cb16214</td>\n",
              "      <td>1</td>\n",
              "      <td>4244733e06e7ecb4970a6e2683c13e61</td>\n",
              "      <td>48436dade18ac8b2bce089ec2a041202</td>\n",
              "      <td>2017-09-19 09:45:35</td>\n",
              "      <td>58.90</td>\n",
              "      <td>13.29</td>\n",
              "    </tr>\n",
              "    <tr>\n",
              "      <th>1</th>\n",
              "      <td>00018f77f2f0320c557190d7a144bdd3</td>\n",
              "      <td>1</td>\n",
              "      <td>e5f2d52b802189ee658865ca93d83a8f</td>\n",
              "      <td>dd7ddc04e1b6c2c614352b383efe2d36</td>\n",
              "      <td>2017-05-03 11:05:13</td>\n",
              "      <td>239.90</td>\n",
              "      <td>19.93</td>\n",
              "    </tr>\n",
              "    <tr>\n",
              "      <th>2</th>\n",
              "      <td>000229ec398224ef6ca0657da4fc703e</td>\n",
              "      <td>1</td>\n",
              "      <td>c777355d18b72b67abbeef9df44fd0fd</td>\n",
              "      <td>5b51032eddd242adc84c38acab88f23d</td>\n",
              "      <td>2018-01-18 14:48:30</td>\n",
              "      <td>199.00</td>\n",
              "      <td>17.87</td>\n",
              "    </tr>\n",
              "    <tr>\n",
              "      <th>3</th>\n",
              "      <td>00024acbcdf0a6daa1e931b038114c75</td>\n",
              "      <td>1</td>\n",
              "      <td>7634da152a4610f1595efa32f14722fc</td>\n",
              "      <td>9d7a1d34a5052409006425275ba1c2b4</td>\n",
              "      <td>2018-08-15 10:10:18</td>\n",
              "      <td>12.99</td>\n",
              "      <td>12.79</td>\n",
              "    </tr>\n",
              "    <tr>\n",
              "      <th>4</th>\n",
              "      <td>00042b26cf59d7ce69dfabb4e55b4fd9</td>\n",
              "      <td>1</td>\n",
              "      <td>ac6c3623068f30de03045865e4e10089</td>\n",
              "      <td>df560393f3a51e74553ab94004ba5c87</td>\n",
              "      <td>2017-02-13 13:57:51</td>\n",
              "      <td>199.90</td>\n",
              "      <td>18.14</td>\n",
              "    </tr>\n",
              "  </tbody>\n",
              "</table>\n",
              "</div>"
            ],
            "text/plain": [
              "                           order_id  order_item_id  \\\n",
              "0  00010242fe8c5a6d1ba2dd792cb16214              1   \n",
              "1  00018f77f2f0320c557190d7a144bdd3              1   \n",
              "2  000229ec398224ef6ca0657da4fc703e              1   \n",
              "3  00024acbcdf0a6daa1e931b038114c75              1   \n",
              "4  00042b26cf59d7ce69dfabb4e55b4fd9              1   \n",
              "\n",
              "                         product_id                         seller_id  \\\n",
              "0  4244733e06e7ecb4970a6e2683c13e61  48436dade18ac8b2bce089ec2a041202   \n",
              "1  e5f2d52b802189ee658865ca93d83a8f  dd7ddc04e1b6c2c614352b383efe2d36   \n",
              "2  c777355d18b72b67abbeef9df44fd0fd  5b51032eddd242adc84c38acab88f23d   \n",
              "3  7634da152a4610f1595efa32f14722fc  9d7a1d34a5052409006425275ba1c2b4   \n",
              "4  ac6c3623068f30de03045865e4e10089  df560393f3a51e74553ab94004ba5c87   \n",
              "\n",
              "   shipping_limit_date   price  freight_value  \n",
              "0  2017-09-19 09:45:35   58.90          13.29  \n",
              "1  2017-05-03 11:05:13  239.90          19.93  \n",
              "2  2018-01-18 14:48:30  199.00          17.87  \n",
              "3  2018-08-15 10:10:18   12.99          12.79  \n",
              "4  2017-02-13 13:57:51  199.90          18.14  "
            ]
          },
          "execution_count": 752,
          "metadata": {},
          "output_type": "execute_result"
        }
      ],
      "source": [
        "order_items_df = pd.read_csv(\"data/order_items_dataset.csv\")\n",
        "order_items_df.head(5)"
      ]
    },
    {
      "cell_type": "markdown",
      "metadata": {
        "id": "MMi6xGaDkbCi"
      },
      "source": [
        "**Insight :**\n",
        "- Insight yang bisa didapat dari `customers dataset (customers_dataset.csv)`, yaitu demografi customers. Hal tersebut dapat kita buat dengan mengelompokkan data berdasarkan *customer_state* dan *customer_city* untuk melihat daerah/kota mana yang memiliki customers terbanyak\n",
        "- Insight yang bisa didapat dati `products dataset (products_dataset.csv)`, yaitu berat dan ukuran products. Informasi data seperti *product_weight_g*, *product_length_cm*, *product_height_cm*, dan *product_width_cm* dapat kita manfaatkan lebih lanjut untuk mengetahui apakah hal-hal tersebut berpengaruh terhadap tingkat pembelian customers maupun biaya pengiriman\n",
        "- Insight yang bisa didapat dari `orders dataset (orders_dataset.csv)`, yaitu status pemesanan. Hal tersebut dapat kita buat dengan memanfaatkan informasi data seperti *order_status* untuk melihat berapa jumlah masing-masing untuk pesanan yang delivered, shipped, dan canceled yang nanti akan berpengaruh terhadap tingkat kepuasan customers\n",
        "- Insight yang bisa didapat dari `order items dataset (order_items_dataset.csv)`, yaitu product dengan penjualan tertinggi. Hal tersebut dapat kita buat dengan mengelompokkan *product_id* dan menghitung total harga nya di kolom *price* yang nanti akan menjadi feedback kira-kira product jenis apa yang mempunyai minat pembelian tertinggi di kalangan customers yang ada"
      ]
    },
    {
      "cell_type": "markdown",
      "metadata": {},
      "source": [
        "---"
      ]
    },
    {
      "cell_type": "markdown",
      "metadata": {
        "id": "FHSiqaZp8DC1"
      },
      "source": [
        "### Assessing Data"
      ]
    },
    {
      "cell_type": "markdown",
      "metadata": {},
      "source": [
        "Menilai tabel `customers_dataset.csv`"
      ]
    },
    {
      "cell_type": "code",
      "execution_count": 753,
      "metadata": {
        "id": "ax-3tEjc9Cj1"
      },
      "outputs": [
        {
          "name": "stdout",
          "output_type": "stream",
          "text": [
            "<class 'pandas.core.frame.DataFrame'>\n",
            "RangeIndex: 99442 entries, 0 to 99441\n",
            "Data columns (total 5 columns):\n",
            " #   Column                    Non-Null Count  Dtype  \n",
            "---  ------                    --------------  -----  \n",
            " 0   customer_id               99442 non-null  object \n",
            " 1   customer_unique_id        99441 non-null  object \n",
            " 2   customer_zip_code_prefix  99441 non-null  float64\n",
            " 3   customer_city             99440 non-null  object \n",
            " 4   customer_state            99440 non-null  object \n",
            "dtypes: float64(1), object(4)\n",
            "memory usage: 3.8+ MB\n"
          ]
        }
      ],
      "source": [
        "customers_df.info()"
      ]
    },
    {
      "cell_type": "markdown",
      "metadata": {},
      "source": [
        "Tidak ada nilai kosong (missing values) di tiap kolomnya, karena setiap kolom memiliki jumlah non-null yang sama dengan total baris, yaitu 99.441. Untuk data type customer_zip_code_prefix, int64 akan tidak tepat jika ada value dengan awalan 0."
      ]
    },
    {
      "cell_type": "code",
      "execution_count": 754,
      "metadata": {},
      "outputs": [
        {
          "data": {
            "text/plain": [
              "customer_id                 0\n",
              "customer_unique_id          1\n",
              "customer_zip_code_prefix    1\n",
              "customer_city               2\n",
              "customer_state              2\n",
              "dtype: int64"
            ]
          },
          "execution_count": 754,
          "metadata": {},
          "output_type": "execute_result"
        }
      ],
      "source": [
        "customers_df.isna().sum()"
      ]
    },
    {
      "cell_type": "markdown",
      "metadata": {},
      "source": [
        "Setiap kolom juga menghasilkan nilai 0, jadi dataframe customers ini tidak memiliki masalah terkait nilai kosong (missing values)"
      ]
    },
    {
      "cell_type": "code",
      "execution_count": 755,
      "metadata": {},
      "outputs": [
        {
          "name": "stdout",
          "output_type": "stream",
          "text": [
            "Jumlah duplikasi:  0\n"
          ]
        }
      ],
      "source": [
        "print(\"Jumlah duplikasi: \", customers_df.duplicated().sum())"
      ]
    },
    {
      "cell_type": "markdown",
      "metadata": {},
      "source": [
        "Tidak ada baris duplikat di dataframe customers yang berarti data tiap barisnya unique dan tidak perlu dilakukan cleaning lebih lanjut terkait duplikasi baris"
      ]
    },
    {
      "cell_type": "code",
      "execution_count": 756,
      "metadata": {},
      "outputs": [
        {
          "data": {
            "text/html": [
              "<div>\n",
              "<style scoped>\n",
              "    .dataframe tbody tr th:only-of-type {\n",
              "        vertical-align: middle;\n",
              "    }\n",
              "\n",
              "    .dataframe tbody tr th {\n",
              "        vertical-align: top;\n",
              "    }\n",
              "\n",
              "    .dataframe thead th {\n",
              "        text-align: right;\n",
              "    }\n",
              "</style>\n",
              "<table border=\"1\" class=\"dataframe\">\n",
              "  <thead>\n",
              "    <tr style=\"text-align: right;\">\n",
              "      <th></th>\n",
              "      <th>customer_zip_code_prefix</th>\n",
              "    </tr>\n",
              "  </thead>\n",
              "  <tbody>\n",
              "    <tr>\n",
              "      <th>count</th>\n",
              "      <td>99441.000000</td>\n",
              "    </tr>\n",
              "    <tr>\n",
              "      <th>mean</th>\n",
              "      <td>35137.474583</td>\n",
              "    </tr>\n",
              "    <tr>\n",
              "      <th>std</th>\n",
              "      <td>29797.938996</td>\n",
              "    </tr>\n",
              "    <tr>\n",
              "      <th>min</th>\n",
              "      <td>1003.000000</td>\n",
              "    </tr>\n",
              "    <tr>\n",
              "      <th>25%</th>\n",
              "      <td>11347.000000</td>\n",
              "    </tr>\n",
              "    <tr>\n",
              "      <th>50%</th>\n",
              "      <td>24416.000000</td>\n",
              "    </tr>\n",
              "    <tr>\n",
              "      <th>75%</th>\n",
              "      <td>58900.000000</td>\n",
              "    </tr>\n",
              "    <tr>\n",
              "      <th>max</th>\n",
              "      <td>99990.000000</td>\n",
              "    </tr>\n",
              "  </tbody>\n",
              "</table>\n",
              "</div>"
            ],
            "text/plain": [
              "       customer_zip_code_prefix\n",
              "count              99441.000000\n",
              "mean               35137.474583\n",
              "std                29797.938996\n",
              "min                 1003.000000\n",
              "25%                11347.000000\n",
              "50%                24416.000000\n",
              "75%                58900.000000\n",
              "max                99990.000000"
            ]
          },
          "execution_count": 756,
          "metadata": {},
          "output_type": "execute_result"
        }
      ],
      "source": [
        "customers_df.describe()"
      ]
    },
    {
      "cell_type": "markdown",
      "metadata": {},
      "source": [
        "Menilai tabel `products_dataset.csv`"
      ]
    },
    {
      "cell_type": "code",
      "execution_count": 757,
      "metadata": {},
      "outputs": [
        {
          "name": "stdout",
          "output_type": "stream",
          "text": [
            "<class 'pandas.core.frame.DataFrame'>\n",
            "RangeIndex: 32951 entries, 0 to 32950\n",
            "Data columns (total 9 columns):\n",
            " #   Column                      Non-Null Count  Dtype  \n",
            "---  ------                      --------------  -----  \n",
            " 0   product_id                  32951 non-null  object \n",
            " 1   product_category_name       32341 non-null  object \n",
            " 2   product_name_lenght         32341 non-null  float64\n",
            " 3   product_description_lenght  32341 non-null  float64\n",
            " 4   product_photos_qty          32341 non-null  float64\n",
            " 5   product_weight_g            32949 non-null  float64\n",
            " 6   product_length_cm           32949 non-null  float64\n",
            " 7   product_height_cm           32949 non-null  float64\n",
            " 8   product_width_cm            32949 non-null  float64\n",
            "dtypes: float64(7), object(2)\n",
            "memory usage: 2.3+ MB\n"
          ]
        }
      ],
      "source": [
        "products_df.info()"
      ]
    },
    {
      "cell_type": "markdown",
      "metadata": {},
      "source": [
        "Hanya kolom product_id yang tidak bermasalah, yaitu tidak ada missing values yang ditemukan. untuk kolom dengan ID 3-8 yang data type nya float terasa kurang sesuai. karena berdasarkan file CSV nya, semua value nya dari kolom 3-8 tidak ada yang desimal"
      ]
    },
    {
      "cell_type": "code",
      "execution_count": 758,
      "metadata": {},
      "outputs": [
        {
          "data": {
            "text/plain": [
              "product_id                      0\n",
              "product_category_name         610\n",
              "product_name_lenght           610\n",
              "product_description_lenght    610\n",
              "product_photos_qty            610\n",
              "product_weight_g                2\n",
              "product_length_cm               2\n",
              "product_height_cm               2\n",
              "product_width_cm                2\n",
              "dtype: int64"
            ]
          },
          "execution_count": 758,
          "metadata": {},
          "output_type": "execute_result"
        }
      ],
      "source": [
        "products_df.isna().sum()"
      ]
    },
    {
      "cell_type": "markdown",
      "metadata": {},
      "source": [
        "Informasi diatas adalah data jumlah missing values tiap kolom nya, kecuali product_id. maka, nanti hal ini akan diselesaikan lebih lanjut di proses cleaning"
      ]
    },
    {
      "cell_type": "code",
      "execution_count": 759,
      "metadata": {},
      "outputs": [
        {
          "name": "stdout",
          "output_type": "stream",
          "text": [
            "Jumlah duplikasi:  0\n"
          ]
        }
      ],
      "source": [
        "print(\"Jumlah duplikasi: \", products_df.duplicated().sum())"
      ]
    },
    {
      "cell_type": "markdown",
      "metadata": {},
      "source": [
        "Tidak ada baris duplikat di dataframe products yang berarti data tiap barisnya unique dan tidak perlu dilakukan cleaning lebih lanjut terkait duplikasi baris"
      ]
    },
    {
      "cell_type": "code",
      "execution_count": 760,
      "metadata": {},
      "outputs": [
        {
          "data": {
            "text/html": [
              "<div>\n",
              "<style scoped>\n",
              "    .dataframe tbody tr th:only-of-type {\n",
              "        vertical-align: middle;\n",
              "    }\n",
              "\n",
              "    .dataframe tbody tr th {\n",
              "        vertical-align: top;\n",
              "    }\n",
              "\n",
              "    .dataframe thead th {\n",
              "        text-align: right;\n",
              "    }\n",
              "</style>\n",
              "<table border=\"1\" class=\"dataframe\">\n",
              "  <thead>\n",
              "    <tr style=\"text-align: right;\">\n",
              "      <th></th>\n",
              "      <th>product_name_lenght</th>\n",
              "      <th>product_description_lenght</th>\n",
              "      <th>product_photos_qty</th>\n",
              "      <th>product_weight_g</th>\n",
              "      <th>product_length_cm</th>\n",
              "      <th>product_height_cm</th>\n",
              "      <th>product_width_cm</th>\n",
              "    </tr>\n",
              "  </thead>\n",
              "  <tbody>\n",
              "    <tr>\n",
              "      <th>count</th>\n",
              "      <td>32341.000000</td>\n",
              "      <td>32341.000000</td>\n",
              "      <td>32341.000000</td>\n",
              "      <td>32949.000000</td>\n",
              "      <td>32949.000000</td>\n",
              "      <td>32949.000000</td>\n",
              "      <td>32949.000000</td>\n",
              "    </tr>\n",
              "    <tr>\n",
              "      <th>mean</th>\n",
              "      <td>48.476949</td>\n",
              "      <td>771.495285</td>\n",
              "      <td>2.188986</td>\n",
              "      <td>2276.472488</td>\n",
              "      <td>30.815078</td>\n",
              "      <td>16.937661</td>\n",
              "      <td>23.196728</td>\n",
              "    </tr>\n",
              "    <tr>\n",
              "      <th>std</th>\n",
              "      <td>10.245741</td>\n",
              "      <td>635.115225</td>\n",
              "      <td>1.736766</td>\n",
              "      <td>4282.038731</td>\n",
              "      <td>16.914458</td>\n",
              "      <td>13.637554</td>\n",
              "      <td>12.079047</td>\n",
              "    </tr>\n",
              "    <tr>\n",
              "      <th>min</th>\n",
              "      <td>5.000000</td>\n",
              "      <td>4.000000</td>\n",
              "      <td>1.000000</td>\n",
              "      <td>0.000000</td>\n",
              "      <td>7.000000</td>\n",
              "      <td>2.000000</td>\n",
              "      <td>6.000000</td>\n",
              "    </tr>\n",
              "    <tr>\n",
              "      <th>25%</th>\n",
              "      <td>42.000000</td>\n",
              "      <td>339.000000</td>\n",
              "      <td>1.000000</td>\n",
              "      <td>300.000000</td>\n",
              "      <td>18.000000</td>\n",
              "      <td>8.000000</td>\n",
              "      <td>15.000000</td>\n",
              "    </tr>\n",
              "    <tr>\n",
              "      <th>50%</th>\n",
              "      <td>51.000000</td>\n",
              "      <td>595.000000</td>\n",
              "      <td>1.000000</td>\n",
              "      <td>700.000000</td>\n",
              "      <td>25.000000</td>\n",
              "      <td>13.000000</td>\n",
              "      <td>20.000000</td>\n",
              "    </tr>\n",
              "    <tr>\n",
              "      <th>75%</th>\n",
              "      <td>57.000000</td>\n",
              "      <td>972.000000</td>\n",
              "      <td>3.000000</td>\n",
              "      <td>1900.000000</td>\n",
              "      <td>38.000000</td>\n",
              "      <td>21.000000</td>\n",
              "      <td>30.000000</td>\n",
              "    </tr>\n",
              "    <tr>\n",
              "      <th>max</th>\n",
              "      <td>76.000000</td>\n",
              "      <td>3992.000000</td>\n",
              "      <td>20.000000</td>\n",
              "      <td>40425.000000</td>\n",
              "      <td>105.000000</td>\n",
              "      <td>105.000000</td>\n",
              "      <td>118.000000</td>\n",
              "    </tr>\n",
              "  </tbody>\n",
              "</table>\n",
              "</div>"
            ],
            "text/plain": [
              "       product_name_lenght  product_description_lenght  product_photos_qty  \\\n",
              "count         32341.000000                32341.000000        32341.000000   \n",
              "mean             48.476949                  771.495285            2.188986   \n",
              "std              10.245741                  635.115225            1.736766   \n",
              "min               5.000000                    4.000000            1.000000   \n",
              "25%              42.000000                  339.000000            1.000000   \n",
              "50%              51.000000                  595.000000            1.000000   \n",
              "75%              57.000000                  972.000000            3.000000   \n",
              "max              76.000000                 3992.000000           20.000000   \n",
              "\n",
              "       product_weight_g  product_length_cm  product_height_cm  \\\n",
              "count      32949.000000       32949.000000       32949.000000   \n",
              "mean        2276.472488          30.815078          16.937661   \n",
              "std         4282.038731          16.914458          13.637554   \n",
              "min            0.000000           7.000000           2.000000   \n",
              "25%          300.000000          18.000000           8.000000   \n",
              "50%          700.000000          25.000000          13.000000   \n",
              "75%         1900.000000          38.000000          21.000000   \n",
              "max        40425.000000         105.000000         105.000000   \n",
              "\n",
              "       product_width_cm  \n",
              "count      32949.000000  \n",
              "mean          23.196728  \n",
              "std           12.079047  \n",
              "min            6.000000  \n",
              "25%           15.000000  \n",
              "50%           20.000000  \n",
              "75%           30.000000  \n",
              "max          118.000000  "
            ]
          },
          "execution_count": 760,
          "metadata": {},
          "output_type": "execute_result"
        }
      ],
      "source": [
        "products_df.describe()"
      ]
    },
    {
      "cell_type": "markdown",
      "metadata": {},
      "source": [
        "Menilai tabel `orders_dataset.csv`"
      ]
    },
    {
      "cell_type": "code",
      "execution_count": 761,
      "metadata": {},
      "outputs": [
        {
          "name": "stdout",
          "output_type": "stream",
          "text": [
            "<class 'pandas.core.frame.DataFrame'>\n",
            "RangeIndex: 99441 entries, 0 to 99440\n",
            "Data columns (total 8 columns):\n",
            " #   Column                         Non-Null Count  Dtype \n",
            "---  ------                         --------------  ----- \n",
            " 0   order_id                       99441 non-null  object\n",
            " 1   customer_id                    99441 non-null  object\n",
            " 2   order_status                   99441 non-null  object\n",
            " 3   order_purchase_timestamp       99441 non-null  object\n",
            " 4   order_approved_at              99281 non-null  object\n",
            " 5   order_delivered_carrier_date   97658 non-null  object\n",
            " 6   order_delivered_customer_date  96476 non-null  object\n",
            " 7   order_estimated_delivery_date  99441 non-null  object\n",
            "dtypes: object(8)\n",
            "memory usage: 6.1+ MB\n"
          ]
        }
      ],
      "source": [
        "orders_df.info()"
      ]
    },
    {
      "cell_type": "markdown",
      "metadata": {},
      "source": [
        "Hanya kolom dengan ID 4-6 yang bermasalah terkait adanya missing values atau nilai NaN. untuk kolom dengan ID 3-7 yang data type nya object, akan diproses di cleaning lebih lanjut karena lebih tepat jika data typenya datetime"
      ]
    },
    {
      "cell_type": "code",
      "execution_count": 762,
      "metadata": {},
      "outputs": [
        {
          "data": {
            "text/plain": [
              "order_id                            0\n",
              "customer_id                         0\n",
              "order_status                        0\n",
              "order_purchase_timestamp            0\n",
              "order_approved_at                 160\n",
              "order_delivered_carrier_date     1783\n",
              "order_delivered_customer_date    2965\n",
              "order_estimated_delivery_date       0\n",
              "dtype: int64"
            ]
          },
          "execution_count": 762,
          "metadata": {},
          "output_type": "execute_result"
        }
      ],
      "source": [
        "orders_df.isna().sum()"
      ]
    },
    {
      "cell_type": "markdown",
      "metadata": {},
      "source": [
        "Informasi diatas adalah data jumlah missing values tiap kolom nya. maka, nanti hal ini akan diselesaikan lebih lanjut di proses cleaning"
      ]
    },
    {
      "cell_type": "code",
      "execution_count": 763,
      "metadata": {},
      "outputs": [
        {
          "name": "stdout",
          "output_type": "stream",
          "text": [
            "Jumlah duplikasi:  0\n"
          ]
        }
      ],
      "source": [
        "print(\"Jumlah duplikasi: \", products_df.duplicated().sum())"
      ]
    },
    {
      "cell_type": "markdown",
      "metadata": {},
      "source": [
        "Tidak ada baris duplikat di dataframe orders yang berarti data tiap barisnya unique dan tidak perlu dilakukan cleaning lebih lanjut terkait duplikasi baris"
      ]
    },
    {
      "cell_type": "code",
      "execution_count": 764,
      "metadata": {},
      "outputs": [
        {
          "data": {
            "text/html": [
              "<div>\n",
              "<style scoped>\n",
              "    .dataframe tbody tr th:only-of-type {\n",
              "        vertical-align: middle;\n",
              "    }\n",
              "\n",
              "    .dataframe tbody tr th {\n",
              "        vertical-align: top;\n",
              "    }\n",
              "\n",
              "    .dataframe thead th {\n",
              "        text-align: right;\n",
              "    }\n",
              "</style>\n",
              "<table border=\"1\" class=\"dataframe\">\n",
              "  <thead>\n",
              "    <tr style=\"text-align: right;\">\n",
              "      <th></th>\n",
              "      <th>order_id</th>\n",
              "      <th>customer_id</th>\n",
              "      <th>order_status</th>\n",
              "      <th>order_purchase_timestamp</th>\n",
              "      <th>order_approved_at</th>\n",
              "      <th>order_delivered_carrier_date</th>\n",
              "      <th>order_delivered_customer_date</th>\n",
              "      <th>order_estimated_delivery_date</th>\n",
              "    </tr>\n",
              "  </thead>\n",
              "  <tbody>\n",
              "    <tr>\n",
              "      <th>count</th>\n",
              "      <td>99441</td>\n",
              "      <td>99441</td>\n",
              "      <td>99441</td>\n",
              "      <td>99441</td>\n",
              "      <td>99281</td>\n",
              "      <td>97658</td>\n",
              "      <td>96476</td>\n",
              "      <td>99441</td>\n",
              "    </tr>\n",
              "    <tr>\n",
              "      <th>unique</th>\n",
              "      <td>99441</td>\n",
              "      <td>99441</td>\n",
              "      <td>8</td>\n",
              "      <td>98875</td>\n",
              "      <td>90733</td>\n",
              "      <td>81018</td>\n",
              "      <td>95664</td>\n",
              "      <td>459</td>\n",
              "    </tr>\n",
              "    <tr>\n",
              "      <th>top</th>\n",
              "      <td>e481f51cbdc54678b7cc49136f2d6af7</td>\n",
              "      <td>9ef432eb6251297304e76186b10a928d</td>\n",
              "      <td>delivered</td>\n",
              "      <td>2018-04-11 10:48:14</td>\n",
              "      <td>2018-02-27 04:31:10</td>\n",
              "      <td>2018-05-09 15:48:00</td>\n",
              "      <td>2018-05-08 23:38:46</td>\n",
              "      <td>2017-12-20 00:00:00</td>\n",
              "    </tr>\n",
              "    <tr>\n",
              "      <th>freq</th>\n",
              "      <td>1</td>\n",
              "      <td>1</td>\n",
              "      <td>96478</td>\n",
              "      <td>3</td>\n",
              "      <td>9</td>\n",
              "      <td>47</td>\n",
              "      <td>3</td>\n",
              "      <td>522</td>\n",
              "    </tr>\n",
              "  </tbody>\n",
              "</table>\n",
              "</div>"
            ],
            "text/plain": [
              "                                order_id                       customer_id  \\\n",
              "count                              99441                             99441   \n",
              "unique                             99441                             99441   \n",
              "top     e481f51cbdc54678b7cc49136f2d6af7  9ef432eb6251297304e76186b10a928d   \n",
              "freq                                   1                                 1   \n",
              "\n",
              "       order_status order_purchase_timestamp    order_approved_at  \\\n",
              "count         99441                    99441                99281   \n",
              "unique            8                    98875                90733   \n",
              "top       delivered      2018-04-11 10:48:14  2018-02-27 04:31:10   \n",
              "freq          96478                        3                    9   \n",
              "\n",
              "       order_delivered_carrier_date order_delivered_customer_date  \\\n",
              "count                         97658                         96476   \n",
              "unique                        81018                         95664   \n",
              "top             2018-05-09 15:48:00           2018-05-08 23:38:46   \n",
              "freq                             47                             3   \n",
              "\n",
              "       order_estimated_delivery_date  \n",
              "count                          99441  \n",
              "unique                           459  \n",
              "top              2017-12-20 00:00:00  \n",
              "freq                             522  "
            ]
          },
          "execution_count": 764,
          "metadata": {},
          "output_type": "execute_result"
        }
      ],
      "source": [
        "orders_df.describe()"
      ]
    },
    {
      "cell_type": "markdown",
      "metadata": {},
      "source": [
        "Menilai tabel `order_items_dataset.csv`"
      ]
    },
    {
      "cell_type": "code",
      "execution_count": 765,
      "metadata": {},
      "outputs": [
        {
          "name": "stdout",
          "output_type": "stream",
          "text": [
            "<class 'pandas.core.frame.DataFrame'>\n",
            "RangeIndex: 112650 entries, 0 to 112649\n",
            "Data columns (total 7 columns):\n",
            " #   Column               Non-Null Count   Dtype  \n",
            "---  ------               --------------   -----  \n",
            " 0   order_id             112650 non-null  object \n",
            " 1   order_item_id        112650 non-null  int64  \n",
            " 2   product_id           112650 non-null  object \n",
            " 3   seller_id            112650 non-null  object \n",
            " 4   shipping_limit_date  112650 non-null  object \n",
            " 5   price                112650 non-null  float64\n",
            " 6   freight_value        112650 non-null  float64\n",
            "dtypes: float64(2), int64(1), object(4)\n",
            "memory usage: 6.0+ MB\n"
          ]
        }
      ],
      "source": [
        "order_items_df.info()"
      ]
    },
    {
      "cell_type": "markdown",
      "metadata": {},
      "source": [
        "Tidak ada nilai kosong (missing values) di tiap kolomnya, karena setiap kolom memiliki jumlah non-null yang sama dengan total baris, yaitu 112.650. Untuk data type shipping_limit_date, object kurang tepat karena value kolom tersebut adalah tanggal dan waktu. maka, akan diproses lebih lanjut di cleaning terkait perubahan data type"
      ]
    },
    {
      "cell_type": "code",
      "execution_count": 766,
      "metadata": {},
      "outputs": [
        {
          "data": {
            "text/plain": [
              "order_id               0\n",
              "order_item_id          0\n",
              "product_id             0\n",
              "seller_id              0\n",
              "shipping_limit_date    0\n",
              "price                  0\n",
              "freight_value          0\n",
              "dtype: int64"
            ]
          },
          "execution_count": 766,
          "metadata": {},
          "output_type": "execute_result"
        }
      ],
      "source": [
        "order_items_df.isna().sum()"
      ]
    },
    {
      "cell_type": "markdown",
      "metadata": {},
      "source": [
        "Setiap kolom juga menghasilkan nilai 0, jadi dataframe customers ini tidak memiliki masalah terkait nilai kosong (missing values)"
      ]
    },
    {
      "cell_type": "code",
      "execution_count": 767,
      "metadata": {},
      "outputs": [
        {
          "name": "stdout",
          "output_type": "stream",
          "text": [
            "Jumlah duplikasi:  0\n"
          ]
        }
      ],
      "source": [
        "print(\"Jumlah duplikasi: \", products_df.duplicated().sum())"
      ]
    },
    {
      "cell_type": "markdown",
      "metadata": {},
      "source": [
        "Tidak ada baris duplikat di dataframe order items yang berarti data tiap barisnya unique dan tidak perlu dilakukan cleaning lebih lanjut terkait duplikasi baris"
      ]
    },
    {
      "cell_type": "code",
      "execution_count": 768,
      "metadata": {},
      "outputs": [
        {
          "data": {
            "text/html": [
              "<div>\n",
              "<style scoped>\n",
              "    .dataframe tbody tr th:only-of-type {\n",
              "        vertical-align: middle;\n",
              "    }\n",
              "\n",
              "    .dataframe tbody tr th {\n",
              "        vertical-align: top;\n",
              "    }\n",
              "\n",
              "    .dataframe thead th {\n",
              "        text-align: right;\n",
              "    }\n",
              "</style>\n",
              "<table border=\"1\" class=\"dataframe\">\n",
              "  <thead>\n",
              "    <tr style=\"text-align: right;\">\n",
              "      <th></th>\n",
              "      <th>order_item_id</th>\n",
              "      <th>price</th>\n",
              "      <th>freight_value</th>\n",
              "    </tr>\n",
              "  </thead>\n",
              "  <tbody>\n",
              "    <tr>\n",
              "      <th>count</th>\n",
              "      <td>112650.000000</td>\n",
              "      <td>112650.000000</td>\n",
              "      <td>112650.000000</td>\n",
              "    </tr>\n",
              "    <tr>\n",
              "      <th>mean</th>\n",
              "      <td>1.197834</td>\n",
              "      <td>120.653739</td>\n",
              "      <td>19.990320</td>\n",
              "    </tr>\n",
              "    <tr>\n",
              "      <th>std</th>\n",
              "      <td>0.705124</td>\n",
              "      <td>183.633928</td>\n",
              "      <td>15.806405</td>\n",
              "    </tr>\n",
              "    <tr>\n",
              "      <th>min</th>\n",
              "      <td>1.000000</td>\n",
              "      <td>0.850000</td>\n",
              "      <td>0.000000</td>\n",
              "    </tr>\n",
              "    <tr>\n",
              "      <th>25%</th>\n",
              "      <td>1.000000</td>\n",
              "      <td>39.900000</td>\n",
              "      <td>13.080000</td>\n",
              "    </tr>\n",
              "    <tr>\n",
              "      <th>50%</th>\n",
              "      <td>1.000000</td>\n",
              "      <td>74.990000</td>\n",
              "      <td>16.260000</td>\n",
              "    </tr>\n",
              "    <tr>\n",
              "      <th>75%</th>\n",
              "      <td>1.000000</td>\n",
              "      <td>134.900000</td>\n",
              "      <td>21.150000</td>\n",
              "    </tr>\n",
              "    <tr>\n",
              "      <th>max</th>\n",
              "      <td>21.000000</td>\n",
              "      <td>6735.000000</td>\n",
              "      <td>409.680000</td>\n",
              "    </tr>\n",
              "  </tbody>\n",
              "</table>\n",
              "</div>"
            ],
            "text/plain": [
              "       order_item_id          price  freight_value\n",
              "count  112650.000000  112650.000000  112650.000000\n",
              "mean        1.197834     120.653739      19.990320\n",
              "std         0.705124     183.633928      15.806405\n",
              "min         1.000000       0.850000       0.000000\n",
              "25%         1.000000      39.900000      13.080000\n",
              "50%         1.000000      74.990000      16.260000\n",
              "75%         1.000000     134.900000      21.150000\n",
              "max        21.000000    6735.000000     409.680000"
            ]
          },
          "execution_count": 768,
          "metadata": {},
          "output_type": "execute_result"
        }
      ],
      "source": [
        "order_items_df.describe()"
      ]
    },
    {
      "cell_type": "markdown",
      "metadata": {
        "id": "7dtxhAPrkhPL"
      },
      "source": [
        "**Insight:**\n",
        "- review tabel customers_dataset.csv : \n",
        "    1. tidak ada missing values pada tiap kolomnya, jadi tidak diperlukan proses cleaning lebih lanjut terkait masalah tsb\n",
        "    2. perlu dilakukan cleaning terkait mengganti data type untuk kolom customer_zip_code_prefix dari int64 menjadi object atau string\n",
        "<br><br>\n",
        "- review tabel products_dataset.csv : \n",
        "    1. ada 8 dari 9 kolom yang terdapat kasus missing values, jadi akan diperlukan proses cleaning lebih lanjut\n",
        "    2. perlu dilakukan cleaning terkait mengganti data type untuk kolom dengan ID 3-8 dari float64 ke int64\n",
        "<br><br>\n",
        "- review tabel orders_dataset.csv :\n",
        "    1. ada 3 dari 8 kolom yang terdapat kasus missing values, jadi akan diperlukan proses cleaning lebih lanjut\n",
        "    2. perlu dilakukan cleaning terkait mengganti data type untuk kolom dengan ID 3-7 dari object ke datetime\n",
        "<br><br>\n",
        "- review tabel order_items_dataset.csv :\n",
        "    1. tidak ada missing values pada tiap kolomnya, jadi tidak diperlukan proses cleaning lebih lanjut terkait masalah tsb\n",
        "    2. perlu dilakukan cleaning terkait mengganti data type untuk kolom shipping_limit_date dari object ke datetime"
      ]
    },
    {
      "cell_type": "markdown",
      "metadata": {},
      "source": [
        "---"
      ]
    },
    {
      "cell_type": "markdown",
      "metadata": {
        "id": "EhN5R4hr8DC1"
      },
      "source": [
        "### Cleaning Data"
      ]
    },
    {
      "cell_type": "markdown",
      "metadata": {},
      "source": [
        "Membersihkan tabel `customers_dataset.csv`"
      ]
    },
    {
      "cell_type": "code",
      "execution_count": 769,
      "metadata": {
        "id": "jVnYpprE9Evz"
      },
      "outputs": [
        {
          "name": "stdout",
          "output_type": "stream",
          "text": [
            "<class 'pandas.core.frame.DataFrame'>\n",
            "RangeIndex: 99442 entries, 0 to 99441\n",
            "Data columns (total 5 columns):\n",
            " #   Column                    Non-Null Count  Dtype \n",
            "---  ------                    --------------  ----- \n",
            " 0   customer_id               99442 non-null  object\n",
            " 1   customer_unique_id        99441 non-null  object\n",
            " 2   customer_zip_code_prefix  99442 non-null  object\n",
            " 3   customer_city             99440 non-null  object\n",
            " 4   customer_state            99440 non-null  object\n",
            "dtypes: object(5)\n",
            "memory usage: 3.8+ MB\n"
          ]
        }
      ],
      "source": [
        "customers_df['customer_zip_code_prefix'] = customers_df['customer_zip_code_prefix'].astype(str)\n",
        "customers_df.info()"
      ]
    },
    {
      "cell_type": "markdown",
      "metadata": {},
      "source": [
        "Sekarang, data type untuk kolom zipcode sudah sesuai yaitu object atau string. Tapi, ada 1 masalah lagi. yaitu value zipcode yang awalannya 0 di CSV sudah hilang ketika diproses function read_csv() di awal tadi karena data type pada saat itu masih int64. jadi, kita akan menambahkan angka 0 di depan untuk semua zipcode yang panjangnya kurang dari 6 angka. "
      ]
    },
    {
      "cell_type": "code",
      "execution_count": 770,
      "metadata": {},
      "outputs": [
        {
          "data": {
            "text/html": [
              "<div>\n",
              "<style scoped>\n",
              "    .dataframe tbody tr th:only-of-type {\n",
              "        vertical-align: middle;\n",
              "    }\n",
              "\n",
              "    .dataframe tbody tr th {\n",
              "        vertical-align: top;\n",
              "    }\n",
              "\n",
              "    .dataframe thead th {\n",
              "        text-align: right;\n",
              "    }\n",
              "</style>\n",
              "<table border=\"1\" class=\"dataframe\">\n",
              "  <thead>\n",
              "    <tr style=\"text-align: right;\">\n",
              "      <th></th>\n",
              "      <th>customer_id</th>\n",
              "      <th>customer_unique_id</th>\n",
              "      <th>customer_zip_code_prefix</th>\n",
              "      <th>customer_city</th>\n",
              "      <th>customer_state</th>\n",
              "    </tr>\n",
              "  </thead>\n",
              "  <tbody>\n",
              "    <tr>\n",
              "      <th>0</th>\n",
              "      <td>06b8999e2fba1a1fbc88172c00ba8bc7</td>\n",
              "      <td>861eff4711a542e4b93843c6dd7febb0</td>\n",
              "      <td>14409.0</td>\n",
              "      <td>franca</td>\n",
              "      <td>SP</td>\n",
              "    </tr>\n",
              "    <tr>\n",
              "      <th>1</th>\n",
              "      <td>18955e83d337fd6b2def6b18a428ac77</td>\n",
              "      <td>290c77bc529b7ac935b93aa66c333dc3</td>\n",
              "      <td>9790.0</td>\n",
              "      <td>sao bernardo do campo</td>\n",
              "      <td>SP</td>\n",
              "    </tr>\n",
              "    <tr>\n",
              "      <th>2</th>\n",
              "      <td>4e7b3e00288586ebd08712fdd0374a03</td>\n",
              "      <td>060e732b5b29e8181a18229c7b0b2b5e</td>\n",
              "      <td>1151.0</td>\n",
              "      <td>sao paulo</td>\n",
              "      <td>SP</td>\n",
              "    </tr>\n",
              "    <tr>\n",
              "      <th>3</th>\n",
              "      <td>b2b6027bc5c5109e529d4dc6358b12c3</td>\n",
              "      <td>259dac757896d24d7702b9acbbff3f3c</td>\n",
              "      <td>8775.0</td>\n",
              "      <td>mogi das cruzes</td>\n",
              "      <td>SP</td>\n",
              "    </tr>\n",
              "    <tr>\n",
              "      <th>4</th>\n",
              "      <td>4f2d8ab171c80ec8364f7c12e35b23ad</td>\n",
              "      <td>345ecd01c38d18a9036ed96c73b8d066</td>\n",
              "      <td>13056.0</td>\n",
              "      <td>campinas</td>\n",
              "      <td>SP</td>\n",
              "    </tr>\n",
              "  </tbody>\n",
              "</table>\n",
              "</div>"
            ],
            "text/plain": [
              "                        customer_id                customer_unique_id  \\\n",
              "0  06b8999e2fba1a1fbc88172c00ba8bc7  861eff4711a542e4b93843c6dd7febb0   \n",
              "1  18955e83d337fd6b2def6b18a428ac77  290c77bc529b7ac935b93aa66c333dc3   \n",
              "2  4e7b3e00288586ebd08712fdd0374a03  060e732b5b29e8181a18229c7b0b2b5e   \n",
              "3  b2b6027bc5c5109e529d4dc6358b12c3  259dac757896d24d7702b9acbbff3f3c   \n",
              "4  4f2d8ab171c80ec8364f7c12e35b23ad  345ecd01c38d18a9036ed96c73b8d066   \n",
              "\n",
              "  customer_zip_code_prefix          customer_city customer_state  \n",
              "0                  14409.0                 franca             SP  \n",
              "1                   9790.0  sao bernardo do campo             SP  \n",
              "2                   1151.0              sao paulo             SP  \n",
              "3                   8775.0        mogi das cruzes             SP  \n",
              "4                  13056.0               campinas             SP  "
            ]
          },
          "execution_count": 770,
          "metadata": {},
          "output_type": "execute_result"
        }
      ],
      "source": [
        "customers_df['customer_zip_code_prefix'] = customers_df['customer_zip_code_prefix'].str.zfill(5)\n",
        "customers_df.head(5)"
      ]
    },
    {
      "cell_type": "markdown",
      "metadata": {},
      "source": [
        "Dengan seperti itu, maka masalah untuk kolom zipcode sudah selesai karena data type nya sudah object dan value zipcode dengan awalan 0 yang sebelumnya hilang sudah dikembalikan dan sekarang value nya sama dengan yang ada di file CSV"
      ]
    },
    {
      "cell_type": "markdown",
      "metadata": {},
      "source": [
        "Membersihkan tabel `products_dataset.csv`"
      ]
    },
    {
      "cell_type": "code",
      "execution_count": 771,
      "metadata": {},
      "outputs": [
        {
          "name": "stdout",
          "output_type": "stream",
          "text": [
            "<class 'pandas.core.frame.DataFrame'>\n",
            "RangeIndex: 32951 entries, 0 to 32950\n",
            "Data columns (total 9 columns):\n",
            " #   Column                      Non-Null Count  Dtype  \n",
            "---  ------                      --------------  -----  \n",
            " 0   product_id                  32951 non-null  object \n",
            " 1   product_category_name       32341 non-null  object \n",
            " 2   product_name_lenght         32341 non-null  float64\n",
            " 3   product_description_lenght  32341 non-null  float64\n",
            " 4   product_photos_qty          32341 non-null  float64\n",
            " 5   product_weight_g            32949 non-null  float64\n",
            " 6   product_length_cm           32949 non-null  float64\n",
            " 7   product_height_cm           32949 non-null  float64\n",
            " 8   product_width_cm            32949 non-null  float64\n",
            "dtypes: float64(7), object(2)\n",
            "memory usage: 2.3+ MB\n"
          ]
        }
      ],
      "source": [
        "products_df.info()"
      ]
    },
    {
      "cell_type": "code",
      "execution_count": 772,
      "metadata": {},
      "outputs": [],
      "source": [
        "products_df.dropna(subset=['product_category_name'], inplace=True)"
      ]
    },
    {
      "cell_type": "markdown",
      "metadata": {},
      "source": [
        "untuk kolom product_category_name yang memiliki nilai null, saya memutuskan untuk menghapus entri-entri nya dengan 2 alasan. yaitu :\n",
        "1. jumlah entri yang bermasalah adalah 610 dari 32951 yang berarti hanya sekitar 1.85%. jadi tidak ada masalah signifikan yang berpengaruh terhadap hasil akhir dari analisis data jika menghapus entri-entri tersebut\n",
        "2. kolom kategori produk akan sangat penting untuk diketahui value nya karena ini akan berkelanjutan dengan pertanyaan bisnis yang saya buat di awal. maka, jika value kategori produknya NaN akan membingungkan kesimpulan akhir terkait pertanyaan bisnis yang bersangkutan"
      ]
    },
    {
      "cell_type": "code",
      "execution_count": 773,
      "metadata": {},
      "outputs": [],
      "source": [
        "products_df.dropna(subset=['product_weight_g'], inplace=True)"
      ]
    },
    {
      "cell_type": "markdown",
      "metadata": {},
      "source": [
        "untuk kolom product_weight_g yang memiliki nilai null, saya juga memutuskan untuk menghapus entri-entri nya dengan 2 alasan. yaitu :\n",
        "1. jumlah entri yang bermasalah adalah 2 dari 32951 yang berarti hanya sekitar 0.006%. jadi tidak ada masalah signifikan yang berpengaruh terhadap hasil akhir dari analisis data jika menghapus entri-entri tersebut\n",
        "2. kolom berat dan ukuran juga akan sangat penting untuk diketahui value nya karena ini akan berkelanjutan dengan pertanyaan bisnis yang saya buat di awal. maka, jika value berat dan ukuran produknya NaN akan membingungkan kesimpulan akhir terkait pertanyaan bisnis yang bersangkutan"
      ]
    },
    {
      "cell_type": "code",
      "execution_count": 774,
      "metadata": {},
      "outputs": [],
      "source": [
        "products_df['product_name_lenght'] = products_df['product_name_lenght'].astype('int64')\n",
        "products_df['product_description_lenght'] = products_df['product_description_lenght'].astype('int64')\n",
        "products_df['product_photos_qty'] = products_df['product_photos_qty'].astype('int64')\n",
        "products_df['product_weight_g'] = products_df['product_weight_g'].astype('int64')\n",
        "products_df['product_length_cm'] = products_df['product_length_cm'].astype('int64')\n",
        "products_df['product_height_cm'] = products_df['product_height_cm'].astype('int64')\n",
        "products_df['product_width_cm'] = products_df['product_width_cm'].astype('int64')\n",
        "\n",
        "products_df.rename(columns={\n",
        "    'product_name_lenght': 'product_name_length',\n",
        "    'product_description_lenght': 'product_description_length'\n",
        "}, inplace=True)\n"
      ]
    },
    {
      "cell_type": "markdown",
      "metadata": {},
      "source": [
        "kode di atas adalah proses cleaning dengan mengganti data type dari float ke integer dan juga memperbaiki kesalahan penulisan kata \"length\" dari 2 kolom"
      ]
    },
    {
      "cell_type": "markdown",
      "metadata": {},
      "source": [
        "Membersihkan tabel `orders_dataset.csv`"
      ]
    },
    {
      "cell_type": "code",
      "execution_count": 775,
      "metadata": {},
      "outputs": [
        {
          "name": "stdout",
          "output_type": "stream",
          "text": [
            "<class 'pandas.core.frame.DataFrame'>\n",
            "RangeIndex: 99441 entries, 0 to 99440\n",
            "Data columns (total 8 columns):\n",
            " #   Column                         Non-Null Count  Dtype \n",
            "---  ------                         --------------  ----- \n",
            " 0   order_id                       99441 non-null  object\n",
            " 1   customer_id                    99441 non-null  object\n",
            " 2   order_status                   99441 non-null  object\n",
            " 3   order_purchase_timestamp       99441 non-null  object\n",
            " 4   order_approved_at              99281 non-null  object\n",
            " 5   order_delivered_carrier_date   97658 non-null  object\n",
            " 6   order_delivered_customer_date  96476 non-null  object\n",
            " 7   order_estimated_delivery_date  99441 non-null  object\n",
            "dtypes: object(8)\n",
            "memory usage: 6.1+ MB\n"
          ]
        }
      ],
      "source": [
        "orders_df.info()"
      ]
    },
    {
      "cell_type": "code",
      "execution_count": 776,
      "metadata": {},
      "outputs": [],
      "source": [
        "orders_df.dropna(subset=['order_approved_at', 'order_delivered_carrier_date', 'order_delivered_customer_date'], inplace=True)"
      ]
    },
    {
      "cell_type": "markdown",
      "metadata": {},
      "source": [
        "untuk kolom dengan ID 4-6 yang memiliki nilai null, saya memutuskan untuk menghapus entri-entri tsb dengan alasan, yaitu :\n",
        "1. kolom-kolom tersebut sebenarnya tidak mengandung informasi yang terlalu penting yang akan digunakan nantinya untuk menjawab pertanyaan bisnis. dan akan lebih rumit nanti jika variasi value nya ada yang unknown (type: object) dan ada yang bertipe datetime. maka, saya memilih untuk menghapus saja entri yang NaN"
      ]
    },
    {
      "cell_type": "code",
      "execution_count": 777,
      "metadata": {},
      "outputs": [],
      "source": [
        "orders_df['order_purchase_timestamp'] = pd.to_datetime(orders_df['order_purchase_timestamp'])\n",
        "orders_df['order_approved_at'] = pd.to_datetime(orders_df['order_approved_at'])\n",
        "orders_df['order_delivered_carrier_date'] = pd.to_datetime(orders_df['order_delivered_carrier_date'])\n",
        "orders_df['order_delivered_customer_date'] = pd.to_datetime(orders_df['order_delivered_customer_date'])\n",
        "orders_df['order_estimated_delivery_date'] = pd.to_datetime(orders_df['order_estimated_delivery_date'])"
      ]
    },
    {
      "cell_type": "code",
      "execution_count": 778,
      "metadata": {},
      "outputs": [
        {
          "name": "stdout",
          "output_type": "stream",
          "text": [
            "<class 'pandas.core.frame.DataFrame'>\n",
            "Index: 96461 entries, 0 to 99440\n",
            "Data columns (total 8 columns):\n",
            " #   Column                         Non-Null Count  Dtype         \n",
            "---  ------                         --------------  -----         \n",
            " 0   order_id                       96461 non-null  object        \n",
            " 1   customer_id                    96461 non-null  object        \n",
            " 2   order_status                   96461 non-null  object        \n",
            " 3   order_purchase_timestamp       96461 non-null  datetime64[ns]\n",
            " 4   order_approved_at              96461 non-null  datetime64[ns]\n",
            " 5   order_delivered_carrier_date   96461 non-null  datetime64[ns]\n",
            " 6   order_delivered_customer_date  96461 non-null  datetime64[ns]\n",
            " 7   order_estimated_delivery_date  96461 non-null  datetime64[ns]\n",
            "dtypes: datetime64[ns](5), object(3)\n",
            "memory usage: 6.6+ MB\n"
          ]
        }
      ],
      "source": [
        "orders_df.info()"
      ]
    },
    {
      "cell_type": "markdown",
      "metadata": {},
      "source": [
        "Membersihkan tabel `order_items_dataset.csv`"
      ]
    },
    {
      "cell_type": "code",
      "execution_count": 779,
      "metadata": {},
      "outputs": [
        {
          "name": "stdout",
          "output_type": "stream",
          "text": [
            "<class 'pandas.core.frame.DataFrame'>\n",
            "RangeIndex: 112650 entries, 0 to 112649\n",
            "Data columns (total 7 columns):\n",
            " #   Column               Non-Null Count   Dtype         \n",
            "---  ------               --------------   -----         \n",
            " 0   order_id             112650 non-null  object        \n",
            " 1   order_item_id        112650 non-null  int64         \n",
            " 2   product_id           112650 non-null  object        \n",
            " 3   seller_id            112650 non-null  object        \n",
            " 4   shipping_limit_date  112650 non-null  datetime64[ns]\n",
            " 5   price                112650 non-null  float64       \n",
            " 6   freight_value        112650 non-null  float64       \n",
            "dtypes: datetime64[ns](1), float64(2), int64(1), object(3)\n",
            "memory usage: 6.0+ MB\n"
          ]
        }
      ],
      "source": [
        "order_items_df['shipping_limit_date'] = pd.to_datetime(order_items_df['shipping_limit_date'], errors='coerce')\n",
        "order_items_df.info()"
      ]
    },
    {
      "cell_type": "markdown",
      "metadata": {},
      "source": [
        "setelah cleaning dengan mengganti data type dan melihat informasi diatas, sekarang dataset order_items sudah bersih dan tidak memiliki masalah lagi"
      ]
    },
    {
      "cell_type": "markdown",
      "metadata": {
        "id": "Q_5ejIqckiSP"
      },
      "source": [
        "**Insight:**\n",
        "- review tabel customers_dataset.csv : \n",
        "    1. proses cleaning untuk kolom customer_zip_code_prefix dengan mengganti data type int64 ke object\n",
        "<br><br>\n",
        "- review tabel products_dataset.csv :\n",
        "    1. proses cleaning untuk menghapus entri yang kolom nya bernilai null atau NaN\n",
        "    2. proses cleaning untuk kolom-kolom yang data type nya float dengan mengganti ke data type int64\n",
        "    3. proses cleaning untuk kolom-kolom yang ada sedikit typo dalam penulisan kosakata\n",
        "<br><br>\n",
        "- review tabel orders_dataset.csv :\n",
        "    1. proses cleaning untuk menghapus entri yang kolom nya bernilai null atau NaN\n",
        "    2. proses cleaning untuk kolom ID 3-7 dengan mengganti yang data type nya object menjadi datetime\n",
        "<br><br>\n",
        "- review tabel order_items_dataset.csv :\n",
        "    1. proses cleaning untuk kolom shipping_limit_date dengan mengganti data type object ke datetime\n"
      ]
    },
    {
      "cell_type": "markdown",
      "metadata": {},
      "source": [
        "---"
      ]
    },
    {
      "cell_type": "markdown",
      "metadata": {
        "id": "gp-Y6wU38DC1"
      },
      "source": [
        "## Exploratory Data Analysis (EDA)"
      ]
    },
    {
      "cell_type": "markdown",
      "metadata": {
        "id": "MW7WF2kr8DC1"
      },
      "source": [
        "### Explore customers_df"
      ]
    },
    {
      "cell_type": "markdown",
      "metadata": {},
      "source": [
        "Pertama, kita melihat rangkuman parameter statistik dari data customers_df menggunakan method describe()"
      ]
    },
    {
      "cell_type": "code",
      "execution_count": 780,
      "metadata": {},
      "outputs": [
        {
          "data": {
            "text/html": [
              "<div>\n",
              "<style scoped>\n",
              "    .dataframe tbody tr th:only-of-type {\n",
              "        vertical-align: middle;\n",
              "    }\n",
              "\n",
              "    .dataframe tbody tr th {\n",
              "        vertical-align: top;\n",
              "    }\n",
              "\n",
              "    .dataframe thead th {\n",
              "        text-align: right;\n",
              "    }\n",
              "</style>\n",
              "<table border=\"1\" class=\"dataframe\">\n",
              "  <thead>\n",
              "    <tr style=\"text-align: right;\">\n",
              "      <th></th>\n",
              "      <th>customer_id</th>\n",
              "      <th>customer_unique_id</th>\n",
              "      <th>customer_zip_code_prefix</th>\n",
              "      <th>customer_city</th>\n",
              "      <th>customer_state</th>\n",
              "    </tr>\n",
              "  </thead>\n",
              "  <tbody>\n",
              "    <tr>\n",
              "      <th>count</th>\n",
              "      <td>99442</td>\n",
              "      <td>99441</td>\n",
              "      <td>99442</td>\n",
              "      <td>99440</td>\n",
              "      <td>99440</td>\n",
              "    </tr>\n",
              "    <tr>\n",
              "      <th>unique</th>\n",
              "      <td>99442</td>\n",
              "      <td>96096</td>\n",
              "      <td>14995</td>\n",
              "      <td>4119</td>\n",
              "      <td>27</td>\n",
              "    </tr>\n",
              "    <tr>\n",
              "      <th>top</th>\n",
              "      <td>06b8999e2fba1a1fbc88172c00ba8bc7</td>\n",
              "      <td>8d50f5eadf50201ccdcedfb9e2ac8455</td>\n",
              "      <td>22790.0</td>\n",
              "      <td>sao paulo</td>\n",
              "      <td>SP</td>\n",
              "    </tr>\n",
              "    <tr>\n",
              "      <th>freq</th>\n",
              "      <td>1</td>\n",
              "      <td>17</td>\n",
              "      <td>142</td>\n",
              "      <td>15540</td>\n",
              "      <td>41746</td>\n",
              "    </tr>\n",
              "  </tbody>\n",
              "</table>\n",
              "</div>"
            ],
            "text/plain": [
              "                             customer_id                customer_unique_id  \\\n",
              "count                              99442                             99441   \n",
              "unique                             99442                             96096   \n",
              "top     06b8999e2fba1a1fbc88172c00ba8bc7  8d50f5eadf50201ccdcedfb9e2ac8455   \n",
              "freq                                   1                                17   \n",
              "\n",
              "       customer_zip_code_prefix customer_city customer_state  \n",
              "count                     99442         99440          99440  \n",
              "unique                    14995          4119             27  \n",
              "top                     22790.0     sao paulo             SP  \n",
              "freq                        142         15540          41746  "
            ]
          },
          "execution_count": 780,
          "metadata": {},
          "output_type": "execute_result"
        }
      ],
      "source": [
        "customers_df.describe(include=\"all\")"
      ]
    },
    {
      "cell_type": "markdown",
      "metadata": {},
      "source": [
        "Lalu, kita coba mengelompokkan customers berdasarkan demografis nya dengan memanfaatkan kolom \"customer_city\" dan \"customer_state\""
      ]
    },
    {
      "cell_type": "code",
      "execution_count": 781,
      "metadata": {},
      "outputs": [
        {
          "data": {
            "text/html": [
              "<div>\n",
              "<style scoped>\n",
              "    .dataframe tbody tr th:only-of-type {\n",
              "        vertical-align: middle;\n",
              "    }\n",
              "\n",
              "    .dataframe tbody tr th {\n",
              "        vertical-align: top;\n",
              "    }\n",
              "\n",
              "    .dataframe thead th {\n",
              "        text-align: right;\n",
              "    }\n",
              "</style>\n",
              "<table border=\"1\" class=\"dataframe\">\n",
              "  <thead>\n",
              "    <tr style=\"text-align: right;\">\n",
              "      <th></th>\n",
              "      <th>customer_id</th>\n",
              "    </tr>\n",
              "    <tr>\n",
              "      <th>customer_city</th>\n",
              "      <th></th>\n",
              "    </tr>\n",
              "  </thead>\n",
              "  <tbody>\n",
              "    <tr>\n",
              "      <th>abaete</th>\n",
              "      <td>11</td>\n",
              "    </tr>\n",
              "    <tr>\n",
              "      <th>abaetetuba</th>\n",
              "      <td>11</td>\n",
              "    </tr>\n",
              "    <tr>\n",
              "      <th>abadia dos dourados</th>\n",
              "      <td>3</td>\n",
              "    </tr>\n",
              "    <tr>\n",
              "      <th>abaiara</th>\n",
              "      <td>2</td>\n",
              "    </tr>\n",
              "    <tr>\n",
              "      <th>abadiania</th>\n",
              "      <td>1</td>\n",
              "    </tr>\n",
              "  </tbody>\n",
              "</table>\n",
              "</div>"
            ],
            "text/plain": [
              "                     customer_id\n",
              "customer_city                   \n",
              "abaete                        11\n",
              "abaetetuba                    11\n",
              "abadia dos dourados            3\n",
              "abaiara                        2\n",
              "abadiania                      1"
            ]
          },
          "execution_count": 781,
          "metadata": {},
          "output_type": "execute_result"
        }
      ],
      "source": [
        "customers_df.groupby(by=\"customer_city\").agg({\n",
        "    \"customer_id\": \"nunique\"\n",
        "}).head(5).sort_values(by=\"customer_id\", ascending=False)"
      ]
    },
    {
      "cell_type": "code",
      "execution_count": 782,
      "metadata": {},
      "outputs": [
        {
          "data": {
            "text/html": [
              "<div>\n",
              "<style scoped>\n",
              "    .dataframe tbody tr th:only-of-type {\n",
              "        vertical-align: middle;\n",
              "    }\n",
              "\n",
              "    .dataframe tbody tr th {\n",
              "        vertical-align: top;\n",
              "    }\n",
              "\n",
              "    .dataframe thead th {\n",
              "        text-align: right;\n",
              "    }\n",
              "</style>\n",
              "<table border=\"1\" class=\"dataframe\">\n",
              "  <thead>\n",
              "    <tr style=\"text-align: right;\">\n",
              "      <th></th>\n",
              "      <th>customer_id</th>\n",
              "    </tr>\n",
              "    <tr>\n",
              "      <th>customer_state</th>\n",
              "      <th></th>\n",
              "    </tr>\n",
              "  </thead>\n",
              "  <tbody>\n",
              "    <tr>\n",
              "      <th>BA</th>\n",
              "      <td>3380</td>\n",
              "    </tr>\n",
              "    <tr>\n",
              "      <th>AL</th>\n",
              "      <td>413</td>\n",
              "    </tr>\n",
              "    <tr>\n",
              "      <th>AM</th>\n",
              "      <td>148</td>\n",
              "    </tr>\n",
              "    <tr>\n",
              "      <th>AC</th>\n",
              "      <td>81</td>\n",
              "    </tr>\n",
              "    <tr>\n",
              "      <th>AP</th>\n",
              "      <td>68</td>\n",
              "    </tr>\n",
              "  </tbody>\n",
              "</table>\n",
              "</div>"
            ],
            "text/plain": [
              "                customer_id\n",
              "customer_state             \n",
              "BA                     3380\n",
              "AL                      413\n",
              "AM                      148\n",
              "AC                       81\n",
              "AP                       68"
            ]
          },
          "execution_count": 782,
          "metadata": {},
          "output_type": "execute_result"
        }
      ],
      "source": [
        "customers_df.groupby(by=\"customer_state\").agg({\n",
        "    \"customer_id\": \"nunique\"\n",
        "}).head(5).sort_values(by=\"customer_id\", ascending=False)"
      ]
    },
    {
      "cell_type": "markdown",
      "metadata": {},
      "source": [
        "kedua kode dan output diatas memberikan kita informasi top 5 city (kota) dan top5 state (wilayah) dengan persebaran jumlah customer tertinggi. tentu hasil eksplorasi informasi ini akan bermanfaat kedepannya untuk menjadi strategi pemasaran atau pengembangan produk-produk tersebut lebih lanjut"
      ]
    },
    {
      "cell_type": "markdown",
      "metadata": {},
      "source": [
        "### Explore products_df"
      ]
    },
    {
      "cell_type": "markdown",
      "metadata": {},
      "source": [
        "Pertama, kita melihat rangkuman parameter statistik dari data customers_df menggunakan method describe()"
      ]
    },
    {
      "cell_type": "code",
      "execution_count": 783,
      "metadata": {},
      "outputs": [
        {
          "data": {
            "text/html": [
              "<div>\n",
              "<style scoped>\n",
              "    .dataframe tbody tr th:only-of-type {\n",
              "        vertical-align: middle;\n",
              "    }\n",
              "\n",
              "    .dataframe tbody tr th {\n",
              "        vertical-align: top;\n",
              "    }\n",
              "\n",
              "    .dataframe thead th {\n",
              "        text-align: right;\n",
              "    }\n",
              "</style>\n",
              "<table border=\"1\" class=\"dataframe\">\n",
              "  <thead>\n",
              "    <tr style=\"text-align: right;\">\n",
              "      <th></th>\n",
              "      <th>product_id</th>\n",
              "      <th>product_category_name</th>\n",
              "      <th>product_name_length</th>\n",
              "      <th>product_description_length</th>\n",
              "      <th>product_photos_qty</th>\n",
              "      <th>product_weight_g</th>\n",
              "      <th>product_length_cm</th>\n",
              "      <th>product_height_cm</th>\n",
              "      <th>product_width_cm</th>\n",
              "    </tr>\n",
              "  </thead>\n",
              "  <tbody>\n",
              "    <tr>\n",
              "      <th>count</th>\n",
              "      <td>32340</td>\n",
              "      <td>32340</td>\n",
              "      <td>32340.000000</td>\n",
              "      <td>32340.000000</td>\n",
              "      <td>32340.000000</td>\n",
              "      <td>32340.000000</td>\n",
              "      <td>32340.000000</td>\n",
              "      <td>32340.000000</td>\n",
              "      <td>32340.000000</td>\n",
              "    </tr>\n",
              "    <tr>\n",
              "      <th>unique</th>\n",
              "      <td>32340</td>\n",
              "      <td>73</td>\n",
              "      <td>NaN</td>\n",
              "      <td>NaN</td>\n",
              "      <td>NaN</td>\n",
              "      <td>NaN</td>\n",
              "      <td>NaN</td>\n",
              "      <td>NaN</td>\n",
              "      <td>NaN</td>\n",
              "    </tr>\n",
              "    <tr>\n",
              "      <th>top</th>\n",
              "      <td>1e9e8ef04dbcff4541ed26657ea517e5</td>\n",
              "      <td>cama_mesa_banho</td>\n",
              "      <td>NaN</td>\n",
              "      <td>NaN</td>\n",
              "      <td>NaN</td>\n",
              "      <td>NaN</td>\n",
              "      <td>NaN</td>\n",
              "      <td>NaN</td>\n",
              "      <td>NaN</td>\n",
              "    </tr>\n",
              "    <tr>\n",
              "      <th>freq</th>\n",
              "      <td>1</td>\n",
              "      <td>3029</td>\n",
              "      <td>NaN</td>\n",
              "      <td>NaN</td>\n",
              "      <td>NaN</td>\n",
              "      <td>NaN</td>\n",
              "      <td>NaN</td>\n",
              "      <td>NaN</td>\n",
              "      <td>NaN</td>\n",
              "    </tr>\n",
              "    <tr>\n",
              "      <th>mean</th>\n",
              "      <td>NaN</td>\n",
              "      <td>NaN</td>\n",
              "      <td>48.476592</td>\n",
              "      <td>771.492393</td>\n",
              "      <td>2.188961</td>\n",
              "      <td>2276.956586</td>\n",
              "      <td>30.854545</td>\n",
              "      <td>16.958813</td>\n",
              "      <td>23.208596</td>\n",
              "    </tr>\n",
              "    <tr>\n",
              "      <th>std</th>\n",
              "      <td>NaN</td>\n",
              "      <td>NaN</td>\n",
              "      <td>10.245699</td>\n",
              "      <td>635.124831</td>\n",
              "      <td>1.736787</td>\n",
              "      <td>4279.291845</td>\n",
              "      <td>16.955965</td>\n",
              "      <td>13.636115</td>\n",
              "      <td>12.078762</td>\n",
              "    </tr>\n",
              "    <tr>\n",
              "      <th>min</th>\n",
              "      <td>NaN</td>\n",
              "      <td>NaN</td>\n",
              "      <td>5.000000</td>\n",
              "      <td>4.000000</td>\n",
              "      <td>1.000000</td>\n",
              "      <td>0.000000</td>\n",
              "      <td>7.000000</td>\n",
              "      <td>2.000000</td>\n",
              "      <td>6.000000</td>\n",
              "    </tr>\n",
              "    <tr>\n",
              "      <th>25%</th>\n",
              "      <td>NaN</td>\n",
              "      <td>NaN</td>\n",
              "      <td>42.000000</td>\n",
              "      <td>339.000000</td>\n",
              "      <td>1.000000</td>\n",
              "      <td>300.000000</td>\n",
              "      <td>18.000000</td>\n",
              "      <td>8.000000</td>\n",
              "      <td>15.000000</td>\n",
              "    </tr>\n",
              "    <tr>\n",
              "      <th>50%</th>\n",
              "      <td>NaN</td>\n",
              "      <td>NaN</td>\n",
              "      <td>51.000000</td>\n",
              "      <td>595.000000</td>\n",
              "      <td>1.000000</td>\n",
              "      <td>700.000000</td>\n",
              "      <td>25.000000</td>\n",
              "      <td>13.000000</td>\n",
              "      <td>20.000000</td>\n",
              "    </tr>\n",
              "    <tr>\n",
              "      <th>75%</th>\n",
              "      <td>NaN</td>\n",
              "      <td>NaN</td>\n",
              "      <td>57.000000</td>\n",
              "      <td>972.000000</td>\n",
              "      <td>3.000000</td>\n",
              "      <td>1900.000000</td>\n",
              "      <td>38.000000</td>\n",
              "      <td>21.000000</td>\n",
              "      <td>30.000000</td>\n",
              "    </tr>\n",
              "    <tr>\n",
              "      <th>max</th>\n",
              "      <td>NaN</td>\n",
              "      <td>NaN</td>\n",
              "      <td>76.000000</td>\n",
              "      <td>3992.000000</td>\n",
              "      <td>20.000000</td>\n",
              "      <td>40425.000000</td>\n",
              "      <td>105.000000</td>\n",
              "      <td>105.000000</td>\n",
              "      <td>118.000000</td>\n",
              "    </tr>\n",
              "  </tbody>\n",
              "</table>\n",
              "</div>"
            ],
            "text/plain": [
              "                              product_id product_category_name  \\\n",
              "count                              32340                 32340   \n",
              "unique                             32340                    73   \n",
              "top     1e9e8ef04dbcff4541ed26657ea517e5       cama_mesa_banho   \n",
              "freq                                   1                  3029   \n",
              "mean                                 NaN                   NaN   \n",
              "std                                  NaN                   NaN   \n",
              "min                                  NaN                   NaN   \n",
              "25%                                  NaN                   NaN   \n",
              "50%                                  NaN                   NaN   \n",
              "75%                                  NaN                   NaN   \n",
              "max                                  NaN                   NaN   \n",
              "\n",
              "        product_name_length  product_description_length  product_photos_qty  \\\n",
              "count          32340.000000                32340.000000        32340.000000   \n",
              "unique                  NaN                         NaN                 NaN   \n",
              "top                     NaN                         NaN                 NaN   \n",
              "freq                    NaN                         NaN                 NaN   \n",
              "mean              48.476592                  771.492393            2.188961   \n",
              "std               10.245699                  635.124831            1.736787   \n",
              "min                5.000000                    4.000000            1.000000   \n",
              "25%               42.000000                  339.000000            1.000000   \n",
              "50%               51.000000                  595.000000            1.000000   \n",
              "75%               57.000000                  972.000000            3.000000   \n",
              "max               76.000000                 3992.000000           20.000000   \n",
              "\n",
              "        product_weight_g  product_length_cm  product_height_cm  \\\n",
              "count       32340.000000       32340.000000       32340.000000   \n",
              "unique               NaN                NaN                NaN   \n",
              "top                  NaN                NaN                NaN   \n",
              "freq                 NaN                NaN                NaN   \n",
              "mean         2276.956586          30.854545          16.958813   \n",
              "std          4279.291845          16.955965          13.636115   \n",
              "min             0.000000           7.000000           2.000000   \n",
              "25%           300.000000          18.000000           8.000000   \n",
              "50%           700.000000          25.000000          13.000000   \n",
              "75%          1900.000000          38.000000          21.000000   \n",
              "max         40425.000000         105.000000         105.000000   \n",
              "\n",
              "        product_width_cm  \n",
              "count       32340.000000  \n",
              "unique               NaN  \n",
              "top                  NaN  \n",
              "freq                 NaN  \n",
              "mean           23.208596  \n",
              "std            12.078762  \n",
              "min             6.000000  \n",
              "25%            15.000000  \n",
              "50%            20.000000  \n",
              "75%            30.000000  \n",
              "max           118.000000  "
            ]
          },
          "execution_count": 783,
          "metadata": {},
          "output_type": "execute_result"
        }
      ],
      "source": [
        "products_df.describe(include=\"all\")"
      ]
    },
    {
      "cell_type": "markdown",
      "metadata": {},
      "source": [
        "dataframe products ini akan menjawab salah satu dari kedua pertanyaan bisnis yang sudah saya definisikan di awal, yaitu mengenai berat dan ukuran product. agar proses perbandingan nanti lebih mudah dilakukan, saya akan membuat kolom baru yaitu volume product dalam satuan cm^3. hal ini tentu akan memudahkan proses analisis dari pertanyaan bisnis di awal. maka, dalam eksplorasi ini saya memanfaatkan kolom \"product_length_cm\", \"product_height_cm\", dan \"product_width_cm\" untuk menghitung volume produk"
      ]
    },
    {
      "cell_type": "code",
      "execution_count": 784,
      "metadata": {},
      "outputs": [],
      "source": [
        "products_df['product_volume_cm3'] = products_df['product_length_cm'] * products_df['product_height_cm'] * products_df['product_width_cm']\n"
      ]
    },
    {
      "cell_type": "code",
      "execution_count": 785,
      "metadata": {},
      "outputs": [
        {
          "name": "stdout",
          "output_type": "stream",
          "text": [
            "                    product_weight_g  product_volume_cm3\n",
            "product_weight_g            1.000000            0.801891\n",
            "product_volume_cm3          0.801891            1.000000\n"
          ]
        }
      ],
      "source": [
        "correlation = products_df[['product_weight_g', 'product_volume_cm3']].corr()\n",
        "print(correlation)"
      ]
    },
    {
      "cell_type": "markdown",
      "metadata": {},
      "source": [
        "kode diatas saya melakukan eksplorasi terkait kolom berat dan volume menggunakan function corr(). dapat disimpulkan bahwa keduanya berkaitan dan kita tidak bisa hanya memilih salah satu dari keduanya untuk dilanjutkan dalam menjawab pertanyaan bisnis"
      ]
    },
    {
      "cell_type": "markdown",
      "metadata": {},
      "source": [
        "### Explore orders_df"
      ]
    },
    {
      "cell_type": "markdown",
      "metadata": {},
      "source": [
        "Pertama, kita melihat rangkuman parameter statistik dari data orders_df menggunakan method describe()"
      ]
    },
    {
      "cell_type": "code",
      "execution_count": 786,
      "metadata": {},
      "outputs": [
        {
          "data": {
            "text/html": [
              "<div>\n",
              "<style scoped>\n",
              "    .dataframe tbody tr th:only-of-type {\n",
              "        vertical-align: middle;\n",
              "    }\n",
              "\n",
              "    .dataframe tbody tr th {\n",
              "        vertical-align: top;\n",
              "    }\n",
              "\n",
              "    .dataframe thead th {\n",
              "        text-align: right;\n",
              "    }\n",
              "</style>\n",
              "<table border=\"1\" class=\"dataframe\">\n",
              "  <thead>\n",
              "    <tr style=\"text-align: right;\">\n",
              "      <th></th>\n",
              "      <th>order_id</th>\n",
              "      <th>customer_id</th>\n",
              "      <th>order_status</th>\n",
              "      <th>order_purchase_timestamp</th>\n",
              "      <th>order_approved_at</th>\n",
              "      <th>order_delivered_carrier_date</th>\n",
              "      <th>order_delivered_customer_date</th>\n",
              "      <th>order_estimated_delivery_date</th>\n",
              "    </tr>\n",
              "  </thead>\n",
              "  <tbody>\n",
              "    <tr>\n",
              "      <th>count</th>\n",
              "      <td>96461</td>\n",
              "      <td>96461</td>\n",
              "      <td>96461</td>\n",
              "      <td>96461</td>\n",
              "      <td>96461</td>\n",
              "      <td>96461</td>\n",
              "      <td>96461</td>\n",
              "      <td>96461</td>\n",
              "    </tr>\n",
              "    <tr>\n",
              "      <th>unique</th>\n",
              "      <td>96461</td>\n",
              "      <td>96461</td>\n",
              "      <td>2</td>\n",
              "      <td>NaN</td>\n",
              "      <td>NaN</td>\n",
              "      <td>NaN</td>\n",
              "      <td>NaN</td>\n",
              "      <td>NaN</td>\n",
              "    </tr>\n",
              "    <tr>\n",
              "      <th>top</th>\n",
              "      <td>e481f51cbdc54678b7cc49136f2d6af7</td>\n",
              "      <td>9ef432eb6251297304e76186b10a928d</td>\n",
              "      <td>delivered</td>\n",
              "      <td>NaN</td>\n",
              "      <td>NaN</td>\n",
              "      <td>NaN</td>\n",
              "      <td>NaN</td>\n",
              "      <td>NaN</td>\n",
              "    </tr>\n",
              "    <tr>\n",
              "      <th>freq</th>\n",
              "      <td>1</td>\n",
              "      <td>1</td>\n",
              "      <td>96455</td>\n",
              "      <td>NaN</td>\n",
              "      <td>NaN</td>\n",
              "      <td>NaN</td>\n",
              "      <td>NaN</td>\n",
              "      <td>NaN</td>\n",
              "    </tr>\n",
              "    <tr>\n",
              "      <th>mean</th>\n",
              "      <td>NaN</td>\n",
              "      <td>NaN</td>\n",
              "      <td>NaN</td>\n",
              "      <td>2018-01-01 23:53:26.642249216</td>\n",
              "      <td>2018-01-02 10:10:06.480142336</td>\n",
              "      <td>2018-01-05 05:21:04.508827392</td>\n",
              "      <td>2018-01-14 13:17:13.228102400</td>\n",
              "      <td>2018-01-25 17:33:14.236012544</td>\n",
              "    </tr>\n",
              "    <tr>\n",
              "      <th>min</th>\n",
              "      <td>NaN</td>\n",
              "      <td>NaN</td>\n",
              "      <td>NaN</td>\n",
              "      <td>2016-09-15 12:16:38</td>\n",
              "      <td>2016-09-15 12:16:38</td>\n",
              "      <td>2016-10-08 10:34:01</td>\n",
              "      <td>2016-10-11 13:46:32</td>\n",
              "      <td>2016-10-04 00:00:00</td>\n",
              "    </tr>\n",
              "    <tr>\n",
              "      <th>25%</th>\n",
              "      <td>NaN</td>\n",
              "      <td>NaN</td>\n",
              "      <td>NaN</td>\n",
              "      <td>2017-09-14 09:28:28</td>\n",
              "      <td>2017-09-14 14:30:14</td>\n",
              "      <td>2017-09-18 16:52:19</td>\n",
              "      <td>2017-09-25 22:31:59</td>\n",
              "      <td>2017-10-05 00:00:00</td>\n",
              "    </tr>\n",
              "    <tr>\n",
              "      <th>50%</th>\n",
              "      <td>NaN</td>\n",
              "      <td>NaN</td>\n",
              "      <td>NaN</td>\n",
              "      <td>2018-01-20 19:59:42</td>\n",
              "      <td>2018-01-22 13:49:00</td>\n",
              "      <td>2018-01-24 16:19:03</td>\n",
              "      <td>2018-02-02 19:50:56</td>\n",
              "      <td>2018-02-16 00:00:00</td>\n",
              "    </tr>\n",
              "    <tr>\n",
              "      <th>75%</th>\n",
              "      <td>NaN</td>\n",
              "      <td>NaN</td>\n",
              "      <td>NaN</td>\n",
              "      <td>2018-05-05 18:33:24</td>\n",
              "      <td>2018-05-06 10:30:49</td>\n",
              "      <td>2018-05-08 14:33:00</td>\n",
              "      <td>2018-05-15 23:08:54</td>\n",
              "      <td>2018-05-28 00:00:00</td>\n",
              "    </tr>\n",
              "    <tr>\n",
              "      <th>max</th>\n",
              "      <td>NaN</td>\n",
              "      <td>NaN</td>\n",
              "      <td>NaN</td>\n",
              "      <td>2018-08-29 15:00:37</td>\n",
              "      <td>2018-08-29 15:10:26</td>\n",
              "      <td>2018-09-11 19:48:28</td>\n",
              "      <td>2018-10-17 13:22:46</td>\n",
              "      <td>2018-10-25 00:00:00</td>\n",
              "    </tr>\n",
              "  </tbody>\n",
              "</table>\n",
              "</div>"
            ],
            "text/plain": [
              "                                order_id                       customer_id  \\\n",
              "count                              96461                             96461   \n",
              "unique                             96461                             96461   \n",
              "top     e481f51cbdc54678b7cc49136f2d6af7  9ef432eb6251297304e76186b10a928d   \n",
              "freq                                   1                                 1   \n",
              "mean                                 NaN                               NaN   \n",
              "min                                  NaN                               NaN   \n",
              "25%                                  NaN                               NaN   \n",
              "50%                                  NaN                               NaN   \n",
              "75%                                  NaN                               NaN   \n",
              "max                                  NaN                               NaN   \n",
              "\n",
              "       order_status       order_purchase_timestamp  \\\n",
              "count         96461                          96461   \n",
              "unique            2                            NaN   \n",
              "top       delivered                            NaN   \n",
              "freq          96455                            NaN   \n",
              "mean            NaN  2018-01-01 23:53:26.642249216   \n",
              "min             NaN            2016-09-15 12:16:38   \n",
              "25%             NaN            2017-09-14 09:28:28   \n",
              "50%             NaN            2018-01-20 19:59:42   \n",
              "75%             NaN            2018-05-05 18:33:24   \n",
              "max             NaN            2018-08-29 15:00:37   \n",
              "\n",
              "                    order_approved_at   order_delivered_carrier_date  \\\n",
              "count                           96461                          96461   \n",
              "unique                            NaN                            NaN   \n",
              "top                               NaN                            NaN   \n",
              "freq                              NaN                            NaN   \n",
              "mean    2018-01-02 10:10:06.480142336  2018-01-05 05:21:04.508827392   \n",
              "min               2016-09-15 12:16:38            2016-10-08 10:34:01   \n",
              "25%               2017-09-14 14:30:14            2017-09-18 16:52:19   \n",
              "50%               2018-01-22 13:49:00            2018-01-24 16:19:03   \n",
              "75%               2018-05-06 10:30:49            2018-05-08 14:33:00   \n",
              "max               2018-08-29 15:10:26            2018-09-11 19:48:28   \n",
              "\n",
              "        order_delivered_customer_date  order_estimated_delivery_date  \n",
              "count                           96461                          96461  \n",
              "unique                            NaN                            NaN  \n",
              "top                               NaN                            NaN  \n",
              "freq                              NaN                            NaN  \n",
              "mean    2018-01-14 13:17:13.228102400  2018-01-25 17:33:14.236012544  \n",
              "min               2016-10-11 13:46:32            2016-10-04 00:00:00  \n",
              "25%               2017-09-25 22:31:59            2017-10-05 00:00:00  \n",
              "50%               2018-02-02 19:50:56            2018-02-16 00:00:00  \n",
              "75%               2018-05-15 23:08:54            2018-05-28 00:00:00  \n",
              "max               2018-10-17 13:22:46            2018-10-25 00:00:00  "
            ]
          },
          "execution_count": 786,
          "metadata": {},
          "output_type": "execute_result"
        }
      ],
      "source": [
        "orders_df.describe(include=\"all\")"
      ]
    },
    {
      "cell_type": "code",
      "execution_count": 787,
      "metadata": {},
      "outputs": [
        {
          "data": {
            "text/html": [
              "<div>\n",
              "<style scoped>\n",
              "    .dataframe tbody tr th:only-of-type {\n",
              "        vertical-align: middle;\n",
              "    }\n",
              "\n",
              "    .dataframe tbody tr th {\n",
              "        vertical-align: top;\n",
              "    }\n",
              "\n",
              "    .dataframe thead th {\n",
              "        text-align: right;\n",
              "    }\n",
              "</style>\n",
              "<table border=\"1\" class=\"dataframe\">\n",
              "  <thead>\n",
              "    <tr style=\"text-align: right;\">\n",
              "      <th></th>\n",
              "      <th>order_id</th>\n",
              "    </tr>\n",
              "    <tr>\n",
              "      <th>order_status</th>\n",
              "      <th></th>\n",
              "    </tr>\n",
              "  </thead>\n",
              "  <tbody>\n",
              "    <tr>\n",
              "      <th>delivered</th>\n",
              "      <td>96455</td>\n",
              "    </tr>\n",
              "    <tr>\n",
              "      <th>canceled</th>\n",
              "      <td>6</td>\n",
              "    </tr>\n",
              "  </tbody>\n",
              "</table>\n",
              "</div>"
            ],
            "text/plain": [
              "              order_id\n",
              "order_status          \n",
              "delivered        96455\n",
              "canceled             6"
            ]
          },
          "execution_count": 787,
          "metadata": {},
          "output_type": "execute_result"
        }
      ],
      "source": [
        "orders_df.groupby('order_status').agg({\n",
        "    'order_id': 'nunique',\n",
        "}).sort_values(by='order_id', ascending=False)\n"
      ]
    },
    {
      "cell_type": "markdown",
      "metadata": {},
      "source": [
        "kode dan output diatas itu adalah hasil eksplorasi data untuk melihat jumlah masing-masing status pemesanan yang telah dilakukan"
      ]
    },
    {
      "cell_type": "code",
      "execution_count": 788,
      "metadata": {},
      "outputs": [],
      "source": [
        "orders_df['delivery_time (day)'] = (orders_df['order_delivered_customer_date'] - orders_df['order_purchase_timestamp']).dt.days"
      ]
    },
    {
      "cell_type": "markdown",
      "metadata": {},
      "source": [
        "lalu eksplorasi berikutnya pada kode di atas, saya membuat kolom baru yaitu delivery time dalam satuan hari yang akan berguna untuk melihat berapa lama pesanan tersebut dikirim sejak customer memesan dan membayar. hal ini akan berguna di banyak hal yang berkaitan dengan feedback dan kepuasan customer"
      ]
    },
    {
      "cell_type": "code",
      "execution_count": 789,
      "metadata": {},
      "outputs": [
        {
          "data": {
            "text/html": [
              "<div>\n",
              "<style scoped>\n",
              "    .dataframe tbody tr th:only-of-type {\n",
              "        vertical-align: middle;\n",
              "    }\n",
              "\n",
              "    .dataframe tbody tr th {\n",
              "        vertical-align: top;\n",
              "    }\n",
              "\n",
              "    .dataframe thead th {\n",
              "        text-align: right;\n",
              "    }\n",
              "</style>\n",
              "<table border=\"1\" class=\"dataframe\">\n",
              "  <thead>\n",
              "    <tr style=\"text-align: right;\">\n",
              "      <th></th>\n",
              "      <th>order_id</th>\n",
              "      <th>customer_id</th>\n",
              "      <th>order_status</th>\n",
              "      <th>order_purchase_timestamp</th>\n",
              "      <th>order_approved_at</th>\n",
              "      <th>order_delivered_carrier_date</th>\n",
              "      <th>order_delivered_customer_date</th>\n",
              "      <th>order_estimated_delivery_date</th>\n",
              "      <th>delivery_time (day)</th>\n",
              "    </tr>\n",
              "  </thead>\n",
              "  <tbody>\n",
              "    <tr>\n",
              "      <th>0</th>\n",
              "      <td>e481f51cbdc54678b7cc49136f2d6af7</td>\n",
              "      <td>9ef432eb6251297304e76186b10a928d</td>\n",
              "      <td>delivered</td>\n",
              "      <td>2017-10-02 10:56:33</td>\n",
              "      <td>2017-10-02 11:07:15</td>\n",
              "      <td>2017-10-04 19:55:00</td>\n",
              "      <td>2017-10-10 21:25:13</td>\n",
              "      <td>2017-10-18</td>\n",
              "      <td>8</td>\n",
              "    </tr>\n",
              "    <tr>\n",
              "      <th>1</th>\n",
              "      <td>53cdb2fc8bc7dce0b6741e2150273451</td>\n",
              "      <td>b0830fb4747a6c6d20dea0b8c802d7ef</td>\n",
              "      <td>delivered</td>\n",
              "      <td>2018-07-24 20:41:37</td>\n",
              "      <td>2018-07-26 03:24:27</td>\n",
              "      <td>2018-07-26 14:31:00</td>\n",
              "      <td>2018-08-07 15:27:45</td>\n",
              "      <td>2018-08-13</td>\n",
              "      <td>13</td>\n",
              "    </tr>\n",
              "    <tr>\n",
              "      <th>2</th>\n",
              "      <td>47770eb9100c2d0c44946d9cf07ec65d</td>\n",
              "      <td>41ce2a54c0b03bf3443c3d931a367089</td>\n",
              "      <td>delivered</td>\n",
              "      <td>2018-08-08 08:38:49</td>\n",
              "      <td>2018-08-08 08:55:23</td>\n",
              "      <td>2018-08-08 13:50:00</td>\n",
              "      <td>2018-08-17 18:06:29</td>\n",
              "      <td>2018-09-04</td>\n",
              "      <td>9</td>\n",
              "    </tr>\n",
              "    <tr>\n",
              "      <th>3</th>\n",
              "      <td>949d5b44dbf5de918fe9c16f97b45f8a</td>\n",
              "      <td>f88197465ea7920adcdbec7375364d82</td>\n",
              "      <td>delivered</td>\n",
              "      <td>2017-11-18 19:28:06</td>\n",
              "      <td>2017-11-18 19:45:59</td>\n",
              "      <td>2017-11-22 13:39:59</td>\n",
              "      <td>2017-12-02 00:28:42</td>\n",
              "      <td>2017-12-15</td>\n",
              "      <td>13</td>\n",
              "    </tr>\n",
              "    <tr>\n",
              "      <th>4</th>\n",
              "      <td>ad21c59c0840e6cb83a9ceb5573f8159</td>\n",
              "      <td>8ab97904e6daea8866dbdbc4fb7aad2c</td>\n",
              "      <td>delivered</td>\n",
              "      <td>2018-02-13 21:18:39</td>\n",
              "      <td>2018-02-13 22:20:29</td>\n",
              "      <td>2018-02-14 19:46:34</td>\n",
              "      <td>2018-02-16 18:17:02</td>\n",
              "      <td>2018-02-26</td>\n",
              "      <td>2</td>\n",
              "    </tr>\n",
              "  </tbody>\n",
              "</table>\n",
              "</div>"
            ],
            "text/plain": [
              "                           order_id                       customer_id  \\\n",
              "0  e481f51cbdc54678b7cc49136f2d6af7  9ef432eb6251297304e76186b10a928d   \n",
              "1  53cdb2fc8bc7dce0b6741e2150273451  b0830fb4747a6c6d20dea0b8c802d7ef   \n",
              "2  47770eb9100c2d0c44946d9cf07ec65d  41ce2a54c0b03bf3443c3d931a367089   \n",
              "3  949d5b44dbf5de918fe9c16f97b45f8a  f88197465ea7920adcdbec7375364d82   \n",
              "4  ad21c59c0840e6cb83a9ceb5573f8159  8ab97904e6daea8866dbdbc4fb7aad2c   \n",
              "\n",
              "  order_status order_purchase_timestamp   order_approved_at  \\\n",
              "0    delivered      2017-10-02 10:56:33 2017-10-02 11:07:15   \n",
              "1    delivered      2018-07-24 20:41:37 2018-07-26 03:24:27   \n",
              "2    delivered      2018-08-08 08:38:49 2018-08-08 08:55:23   \n",
              "3    delivered      2017-11-18 19:28:06 2017-11-18 19:45:59   \n",
              "4    delivered      2018-02-13 21:18:39 2018-02-13 22:20:29   \n",
              "\n",
              "  order_delivered_carrier_date order_delivered_customer_date  \\\n",
              "0          2017-10-04 19:55:00           2017-10-10 21:25:13   \n",
              "1          2018-07-26 14:31:00           2018-08-07 15:27:45   \n",
              "2          2018-08-08 13:50:00           2018-08-17 18:06:29   \n",
              "3          2017-11-22 13:39:59           2017-12-02 00:28:42   \n",
              "4          2018-02-14 19:46:34           2018-02-16 18:17:02   \n",
              "\n",
              "  order_estimated_delivery_date  delivery_time (day)  \n",
              "0                    2017-10-18                    8  \n",
              "1                    2018-08-13                   13  \n",
              "2                    2018-09-04                    9  \n",
              "3                    2017-12-15                   13  \n",
              "4                    2018-02-26                    2  "
            ]
          },
          "execution_count": 789,
          "metadata": {},
          "output_type": "execute_result"
        }
      ],
      "source": [
        "orders_df.head(5)"
      ]
    },
    {
      "cell_type": "markdown",
      "metadata": {},
      "source": [
        "### Explore order_items_df"
      ]
    },
    {
      "cell_type": "markdown",
      "metadata": {},
      "source": [
        "Pertama, kita melihat rangkuman parameter statistik dari data orders_df menggunakan method describe()"
      ]
    },
    {
      "cell_type": "code",
      "execution_count": 790,
      "metadata": {},
      "outputs": [
        {
          "data": {
            "text/html": [
              "<div>\n",
              "<style scoped>\n",
              "    .dataframe tbody tr th:only-of-type {\n",
              "        vertical-align: middle;\n",
              "    }\n",
              "\n",
              "    .dataframe tbody tr th {\n",
              "        vertical-align: top;\n",
              "    }\n",
              "\n",
              "    .dataframe thead th {\n",
              "        text-align: right;\n",
              "    }\n",
              "</style>\n",
              "<table border=\"1\" class=\"dataframe\">\n",
              "  <thead>\n",
              "    <tr style=\"text-align: right;\">\n",
              "      <th></th>\n",
              "      <th>order_id</th>\n",
              "      <th>order_item_id</th>\n",
              "      <th>product_id</th>\n",
              "      <th>seller_id</th>\n",
              "      <th>shipping_limit_date</th>\n",
              "      <th>price</th>\n",
              "      <th>freight_value</th>\n",
              "    </tr>\n",
              "  </thead>\n",
              "  <tbody>\n",
              "    <tr>\n",
              "      <th>count</th>\n",
              "      <td>112650</td>\n",
              "      <td>112650.000000</td>\n",
              "      <td>112650</td>\n",
              "      <td>112650</td>\n",
              "      <td>112650</td>\n",
              "      <td>112650.000000</td>\n",
              "      <td>112650.000000</td>\n",
              "    </tr>\n",
              "    <tr>\n",
              "      <th>unique</th>\n",
              "      <td>98666</td>\n",
              "      <td>NaN</td>\n",
              "      <td>32951</td>\n",
              "      <td>3095</td>\n",
              "      <td>NaN</td>\n",
              "      <td>NaN</td>\n",
              "      <td>NaN</td>\n",
              "    </tr>\n",
              "    <tr>\n",
              "      <th>top</th>\n",
              "      <td>8272b63d03f5f79c56e9e4120aec44ef</td>\n",
              "      <td>NaN</td>\n",
              "      <td>aca2eb7d00ea1a7b8ebd4e68314663af</td>\n",
              "      <td>6560211a19b47992c3666cc44a7e94c0</td>\n",
              "      <td>NaN</td>\n",
              "      <td>NaN</td>\n",
              "      <td>NaN</td>\n",
              "    </tr>\n",
              "    <tr>\n",
              "      <th>freq</th>\n",
              "      <td>21</td>\n",
              "      <td>NaN</td>\n",
              "      <td>527</td>\n",
              "      <td>2033</td>\n",
              "      <td>NaN</td>\n",
              "      <td>NaN</td>\n",
              "      <td>NaN</td>\n",
              "    </tr>\n",
              "    <tr>\n",
              "      <th>mean</th>\n",
              "      <td>NaN</td>\n",
              "      <td>1.197834</td>\n",
              "      <td>NaN</td>\n",
              "      <td>NaN</td>\n",
              "      <td>2018-01-07 15:36:52.192685312</td>\n",
              "      <td>120.653739</td>\n",
              "      <td>19.990320</td>\n",
              "    </tr>\n",
              "    <tr>\n",
              "      <th>min</th>\n",
              "      <td>NaN</td>\n",
              "      <td>1.000000</td>\n",
              "      <td>NaN</td>\n",
              "      <td>NaN</td>\n",
              "      <td>2016-09-19 00:15:34</td>\n",
              "      <td>0.850000</td>\n",
              "      <td>0.000000</td>\n",
              "    </tr>\n",
              "    <tr>\n",
              "      <th>25%</th>\n",
              "      <td>NaN</td>\n",
              "      <td>1.000000</td>\n",
              "      <td>NaN</td>\n",
              "      <td>NaN</td>\n",
              "      <td>2017-09-20 20:57:27.500000</td>\n",
              "      <td>39.900000</td>\n",
              "      <td>13.080000</td>\n",
              "    </tr>\n",
              "    <tr>\n",
              "      <th>50%</th>\n",
              "      <td>NaN</td>\n",
              "      <td>1.000000</td>\n",
              "      <td>NaN</td>\n",
              "      <td>NaN</td>\n",
              "      <td>2018-01-26 13:59:35</td>\n",
              "      <td>74.990000</td>\n",
              "      <td>16.260000</td>\n",
              "    </tr>\n",
              "    <tr>\n",
              "      <th>75%</th>\n",
              "      <td>NaN</td>\n",
              "      <td>1.000000</td>\n",
              "      <td>NaN</td>\n",
              "      <td>NaN</td>\n",
              "      <td>2018-05-10 14:34:00.750000128</td>\n",
              "      <td>134.900000</td>\n",
              "      <td>21.150000</td>\n",
              "    </tr>\n",
              "    <tr>\n",
              "      <th>max</th>\n",
              "      <td>NaN</td>\n",
              "      <td>21.000000</td>\n",
              "      <td>NaN</td>\n",
              "      <td>NaN</td>\n",
              "      <td>2020-04-09 22:35:08</td>\n",
              "      <td>6735.000000</td>\n",
              "      <td>409.680000</td>\n",
              "    </tr>\n",
              "    <tr>\n",
              "      <th>std</th>\n",
              "      <td>NaN</td>\n",
              "      <td>0.705124</td>\n",
              "      <td>NaN</td>\n",
              "      <td>NaN</td>\n",
              "      <td>NaN</td>\n",
              "      <td>183.633928</td>\n",
              "      <td>15.806405</td>\n",
              "    </tr>\n",
              "  </tbody>\n",
              "</table>\n",
              "</div>"
            ],
            "text/plain": [
              "                                order_id  order_item_id  \\\n",
              "count                             112650  112650.000000   \n",
              "unique                             98666            NaN   \n",
              "top     8272b63d03f5f79c56e9e4120aec44ef            NaN   \n",
              "freq                                  21            NaN   \n",
              "mean                                 NaN       1.197834   \n",
              "min                                  NaN       1.000000   \n",
              "25%                                  NaN       1.000000   \n",
              "50%                                  NaN       1.000000   \n",
              "75%                                  NaN       1.000000   \n",
              "max                                  NaN      21.000000   \n",
              "std                                  NaN       0.705124   \n",
              "\n",
              "                              product_id                         seller_id  \\\n",
              "count                             112650                            112650   \n",
              "unique                             32951                              3095   \n",
              "top     aca2eb7d00ea1a7b8ebd4e68314663af  6560211a19b47992c3666cc44a7e94c0   \n",
              "freq                                 527                              2033   \n",
              "mean                                 NaN                               NaN   \n",
              "min                                  NaN                               NaN   \n",
              "25%                                  NaN                               NaN   \n",
              "50%                                  NaN                               NaN   \n",
              "75%                                  NaN                               NaN   \n",
              "max                                  NaN                               NaN   \n",
              "std                                  NaN                               NaN   \n",
              "\n",
              "                  shipping_limit_date          price  freight_value  \n",
              "count                          112650  112650.000000  112650.000000  \n",
              "unique                            NaN            NaN            NaN  \n",
              "top                               NaN            NaN            NaN  \n",
              "freq                              NaN            NaN            NaN  \n",
              "mean    2018-01-07 15:36:52.192685312     120.653739      19.990320  \n",
              "min               2016-09-19 00:15:34       0.850000       0.000000  \n",
              "25%        2017-09-20 20:57:27.500000      39.900000      13.080000  \n",
              "50%               2018-01-26 13:59:35      74.990000      16.260000  \n",
              "75%     2018-05-10 14:34:00.750000128     134.900000      21.150000  \n",
              "max               2020-04-09 22:35:08    6735.000000     409.680000  \n",
              "std                               NaN     183.633928      15.806405  "
            ]
          },
          "execution_count": 790,
          "metadata": {},
          "output_type": "execute_result"
        }
      ],
      "source": [
        "order_items_df.describe(include=\"all\")"
      ]
    },
    {
      "cell_type": "code",
      "execution_count": 791,
      "metadata": {},
      "outputs": [
        {
          "data": {
            "text/html": [
              "<div>\n",
              "<style scoped>\n",
              "    .dataframe tbody tr th:only-of-type {\n",
              "        vertical-align: middle;\n",
              "    }\n",
              "\n",
              "    .dataframe tbody tr th {\n",
              "        vertical-align: top;\n",
              "    }\n",
              "\n",
              "    .dataframe thead th {\n",
              "        text-align: right;\n",
              "    }\n",
              "</style>\n",
              "<table border=\"1\" class=\"dataframe\">\n",
              "  <thead>\n",
              "    <tr style=\"text-align: right;\">\n",
              "      <th></th>\n",
              "      <th>order_id</th>\n",
              "      <th>order_item_id</th>\n",
              "      <th>product_id</th>\n",
              "      <th>seller_id</th>\n",
              "      <th>shipping_limit_date</th>\n",
              "      <th>price</th>\n",
              "      <th>freight_value</th>\n",
              "      <th>total_cost</th>\n",
              "    </tr>\n",
              "  </thead>\n",
              "  <tbody>\n",
              "    <tr>\n",
              "      <th>0</th>\n",
              "      <td>00010242fe8c5a6d1ba2dd792cb16214</td>\n",
              "      <td>1</td>\n",
              "      <td>4244733e06e7ecb4970a6e2683c13e61</td>\n",
              "      <td>48436dade18ac8b2bce089ec2a041202</td>\n",
              "      <td>2017-09-19 09:45:35</td>\n",
              "      <td>58.90</td>\n",
              "      <td>13.29</td>\n",
              "      <td>72.19</td>\n",
              "    </tr>\n",
              "    <tr>\n",
              "      <th>1</th>\n",
              "      <td>00018f77f2f0320c557190d7a144bdd3</td>\n",
              "      <td>1</td>\n",
              "      <td>e5f2d52b802189ee658865ca93d83a8f</td>\n",
              "      <td>dd7ddc04e1b6c2c614352b383efe2d36</td>\n",
              "      <td>2017-05-03 11:05:13</td>\n",
              "      <td>239.90</td>\n",
              "      <td>19.93</td>\n",
              "      <td>259.83</td>\n",
              "    </tr>\n",
              "    <tr>\n",
              "      <th>2</th>\n",
              "      <td>000229ec398224ef6ca0657da4fc703e</td>\n",
              "      <td>1</td>\n",
              "      <td>c777355d18b72b67abbeef9df44fd0fd</td>\n",
              "      <td>5b51032eddd242adc84c38acab88f23d</td>\n",
              "      <td>2018-01-18 14:48:30</td>\n",
              "      <td>199.00</td>\n",
              "      <td>17.87</td>\n",
              "      <td>216.87</td>\n",
              "    </tr>\n",
              "    <tr>\n",
              "      <th>3</th>\n",
              "      <td>00024acbcdf0a6daa1e931b038114c75</td>\n",
              "      <td>1</td>\n",
              "      <td>7634da152a4610f1595efa32f14722fc</td>\n",
              "      <td>9d7a1d34a5052409006425275ba1c2b4</td>\n",
              "      <td>2018-08-15 10:10:18</td>\n",
              "      <td>12.99</td>\n",
              "      <td>12.79</td>\n",
              "      <td>25.78</td>\n",
              "    </tr>\n",
              "    <tr>\n",
              "      <th>4</th>\n",
              "      <td>00042b26cf59d7ce69dfabb4e55b4fd9</td>\n",
              "      <td>1</td>\n",
              "      <td>ac6c3623068f30de03045865e4e10089</td>\n",
              "      <td>df560393f3a51e74553ab94004ba5c87</td>\n",
              "      <td>2017-02-13 13:57:51</td>\n",
              "      <td>199.90</td>\n",
              "      <td>18.14</td>\n",
              "      <td>218.04</td>\n",
              "    </tr>\n",
              "  </tbody>\n",
              "</table>\n",
              "</div>"
            ],
            "text/plain": [
              "                           order_id  order_item_id  \\\n",
              "0  00010242fe8c5a6d1ba2dd792cb16214              1   \n",
              "1  00018f77f2f0320c557190d7a144bdd3              1   \n",
              "2  000229ec398224ef6ca0657da4fc703e              1   \n",
              "3  00024acbcdf0a6daa1e931b038114c75              1   \n",
              "4  00042b26cf59d7ce69dfabb4e55b4fd9              1   \n",
              "\n",
              "                         product_id                         seller_id  \\\n",
              "0  4244733e06e7ecb4970a6e2683c13e61  48436dade18ac8b2bce089ec2a041202   \n",
              "1  e5f2d52b802189ee658865ca93d83a8f  dd7ddc04e1b6c2c614352b383efe2d36   \n",
              "2  c777355d18b72b67abbeef9df44fd0fd  5b51032eddd242adc84c38acab88f23d   \n",
              "3  7634da152a4610f1595efa32f14722fc  9d7a1d34a5052409006425275ba1c2b4   \n",
              "4  ac6c3623068f30de03045865e4e10089  df560393f3a51e74553ab94004ba5c87   \n",
              "\n",
              "  shipping_limit_date   price  freight_value  total_cost  \n",
              "0 2017-09-19 09:45:35   58.90          13.29       72.19  \n",
              "1 2017-05-03 11:05:13  239.90          19.93      259.83  \n",
              "2 2018-01-18 14:48:30  199.00          17.87      216.87  \n",
              "3 2018-08-15 10:10:18   12.99          12.79       25.78  \n",
              "4 2017-02-13 13:57:51  199.90          18.14      218.04  "
            ]
          },
          "execution_count": 791,
          "metadata": {},
          "output_type": "execute_result"
        }
      ],
      "source": [
        "order_items_df['total_cost'] = order_items_df['price'] + order_items_df['freight_value']\n",
        "\n",
        "order_items_df.head(5)\n"
      ]
    },
    {
      "cell_type": "markdown",
      "metadata": {},
      "source": [
        "eksplorasi data pertama saya untuk dataframe ini adalah saya membuat kolom baru yang bernama total_cost. kolom baru ini akan menghitung total harga produk yang dibeli dan juga biaya pengirimannya"
      ]
    },
    {
      "cell_type": "code",
      "execution_count": 792,
      "metadata": {},
      "outputs": [
        {
          "data": {
            "text/html": [
              "<div>\n",
              "<style scoped>\n",
              "    .dataframe tbody tr th:only-of-type {\n",
              "        vertical-align: middle;\n",
              "    }\n",
              "\n",
              "    .dataframe tbody tr th {\n",
              "        vertical-align: top;\n",
              "    }\n",
              "\n",
              "    .dataframe thead th {\n",
              "        text-align: right;\n",
              "    }\n",
              "</style>\n",
              "<table border=\"1\" class=\"dataframe\">\n",
              "  <thead>\n",
              "    <tr style=\"text-align: right;\">\n",
              "      <th></th>\n",
              "      <th>product_id</th>\n",
              "      <th>freight_value</th>\n",
              "    </tr>\n",
              "  </thead>\n",
              "  <tbody>\n",
              "    <tr>\n",
              "      <th>3</th>\n",
              "      <td>000b8f95fcb9e0096488278317764d19</td>\n",
              "      <td>19.60</td>\n",
              "    </tr>\n",
              "    <tr>\n",
              "      <th>4</th>\n",
              "      <td>000d9be29b5207b54e86aa1b1ac54872</td>\n",
              "      <td>19.27</td>\n",
              "    </tr>\n",
              "    <tr>\n",
              "      <th>0</th>\n",
              "      <td>00066f42aeeb9f3007548bb9d3f33c38</td>\n",
              "      <td>18.59</td>\n",
              "    </tr>\n",
              "    <tr>\n",
              "      <th>1</th>\n",
              "      <td>00088930e925c41fd95ebfe695fd2655</td>\n",
              "      <td>13.93</td>\n",
              "    </tr>\n",
              "    <tr>\n",
              "      <th>2</th>\n",
              "      <td>0009406fd7479715e4bef61dd91f2462</td>\n",
              "      <td>13.10</td>\n",
              "    </tr>\n",
              "  </tbody>\n",
              "</table>\n",
              "</div>"
            ],
            "text/plain": [
              "                         product_id  freight_value\n",
              "3  000b8f95fcb9e0096488278317764d19          19.60\n",
              "4  000d9be29b5207b54e86aa1b1ac54872          19.27\n",
              "0  00066f42aeeb9f3007548bb9d3f33c38          18.59\n",
              "1  00088930e925c41fd95ebfe695fd2655          13.93\n",
              "2  0009406fd7479715e4bef61dd91f2462          13.10"
            ]
          },
          "execution_count": 792,
          "metadata": {},
          "output_type": "execute_result"
        }
      ],
      "source": [
        "avg_freight_per_product = order_items_df.groupby('product_id')['freight_value'].mean().reset_index()\n",
        "\n",
        "avg_freight_per_product.head(5).sort_values(by='freight_value', ascending=False)"
      ]
    },
    {
      "cell_type": "markdown",
      "metadata": {},
      "source": [
        "eksplorasi data kedua diatas adalah saya ingin mengetahui rata-rata biaya pengiriman untuk masing-masing product nya. kemudian saya membuat list top 5 product dengan biaya pengiriman tertinggi."
      ]
    },
    {
      "cell_type": "markdown",
      "metadata": {},
      "source": [
        "### Explore orders_df dan customers_df :"
      ]
    },
    {
      "cell_type": "markdown",
      "metadata": {},
      "source": [
        "untuk membuat semua data csv nya menjadi satu, langkah pertama saya adalah menggabungkan kedua dataframe tersebut, saya menggunakan function merge() dan menggabungkan berdasarkan customer_id"
      ]
    },
    {
      "cell_type": "code",
      "execution_count": 793,
      "metadata": {},
      "outputs": [
        {
          "data": {
            "text/html": [
              "<div>\n",
              "<style scoped>\n",
              "    .dataframe tbody tr th:only-of-type {\n",
              "        vertical-align: middle;\n",
              "    }\n",
              "\n",
              "    .dataframe tbody tr th {\n",
              "        vertical-align: top;\n",
              "    }\n",
              "\n",
              "    .dataframe thead th {\n",
              "        text-align: right;\n",
              "    }\n",
              "</style>\n",
              "<table border=\"1\" class=\"dataframe\">\n",
              "  <thead>\n",
              "    <tr style=\"text-align: right;\">\n",
              "      <th></th>\n",
              "      <th>order_id</th>\n",
              "      <th>customer_id</th>\n",
              "      <th>order_status</th>\n",
              "      <th>order_purchase_timestamp</th>\n",
              "      <th>order_approved_at</th>\n",
              "      <th>order_delivered_carrier_date</th>\n",
              "      <th>order_delivered_customer_date</th>\n",
              "      <th>order_estimated_delivery_date</th>\n",
              "      <th>delivery_time (day)</th>\n",
              "      <th>customer_unique_id</th>\n",
              "      <th>customer_zip_code_prefix</th>\n",
              "      <th>customer_city</th>\n",
              "      <th>customer_state</th>\n",
              "    </tr>\n",
              "  </thead>\n",
              "  <tbody>\n",
              "    <tr>\n",
              "      <th>0</th>\n",
              "      <td>e481f51cbdc54678b7cc49136f2d6af7</td>\n",
              "      <td>9ef432eb6251297304e76186b10a928d</td>\n",
              "      <td>delivered</td>\n",
              "      <td>2017-10-02 10:56:33</td>\n",
              "      <td>2017-10-02 11:07:15</td>\n",
              "      <td>2017-10-04 19:55:00</td>\n",
              "      <td>2017-10-10 21:25:13</td>\n",
              "      <td>2017-10-18</td>\n",
              "      <td>8</td>\n",
              "      <td>7c396fd4830fd04220f754e42b4e5bff</td>\n",
              "      <td>3149.0</td>\n",
              "      <td>sao paulo</td>\n",
              "      <td>SP</td>\n",
              "    </tr>\n",
              "    <tr>\n",
              "      <th>1</th>\n",
              "      <td>53cdb2fc8bc7dce0b6741e2150273451</td>\n",
              "      <td>b0830fb4747a6c6d20dea0b8c802d7ef</td>\n",
              "      <td>delivered</td>\n",
              "      <td>2018-07-24 20:41:37</td>\n",
              "      <td>2018-07-26 03:24:27</td>\n",
              "      <td>2018-07-26 14:31:00</td>\n",
              "      <td>2018-08-07 15:27:45</td>\n",
              "      <td>2018-08-13</td>\n",
              "      <td>13</td>\n",
              "      <td>af07308b275d755c9edb36a90c618231</td>\n",
              "      <td>47813.0</td>\n",
              "      <td>barreiras</td>\n",
              "      <td>BA</td>\n",
              "    </tr>\n",
              "    <tr>\n",
              "      <th>2</th>\n",
              "      <td>47770eb9100c2d0c44946d9cf07ec65d</td>\n",
              "      <td>41ce2a54c0b03bf3443c3d931a367089</td>\n",
              "      <td>delivered</td>\n",
              "      <td>2018-08-08 08:38:49</td>\n",
              "      <td>2018-08-08 08:55:23</td>\n",
              "      <td>2018-08-08 13:50:00</td>\n",
              "      <td>2018-08-17 18:06:29</td>\n",
              "      <td>2018-09-04</td>\n",
              "      <td>9</td>\n",
              "      <td>3a653a41f6f9fc3d2a113cf8398680e8</td>\n",
              "      <td>75265.0</td>\n",
              "      <td>vianopolis</td>\n",
              "      <td>GO</td>\n",
              "    </tr>\n",
              "    <tr>\n",
              "      <th>3</th>\n",
              "      <td>949d5b44dbf5de918fe9c16f97b45f8a</td>\n",
              "      <td>f88197465ea7920adcdbec7375364d82</td>\n",
              "      <td>delivered</td>\n",
              "      <td>2017-11-18 19:28:06</td>\n",
              "      <td>2017-11-18 19:45:59</td>\n",
              "      <td>2017-11-22 13:39:59</td>\n",
              "      <td>2017-12-02 00:28:42</td>\n",
              "      <td>2017-12-15</td>\n",
              "      <td>13</td>\n",
              "      <td>7c142cf63193a1473d2e66489a9ae977</td>\n",
              "      <td>59296.0</td>\n",
              "      <td>sao goncalo do amarante</td>\n",
              "      <td>RN</td>\n",
              "    </tr>\n",
              "    <tr>\n",
              "      <th>4</th>\n",
              "      <td>ad21c59c0840e6cb83a9ceb5573f8159</td>\n",
              "      <td>8ab97904e6daea8866dbdbc4fb7aad2c</td>\n",
              "      <td>delivered</td>\n",
              "      <td>2018-02-13 21:18:39</td>\n",
              "      <td>2018-02-13 22:20:29</td>\n",
              "      <td>2018-02-14 19:46:34</td>\n",
              "      <td>2018-02-16 18:17:02</td>\n",
              "      <td>2018-02-26</td>\n",
              "      <td>2</td>\n",
              "      <td>72632f0f9dd73dfee390c9b22eb56dd6</td>\n",
              "      <td>9195.0</td>\n",
              "      <td>santo andre</td>\n",
              "      <td>SP</td>\n",
              "    </tr>\n",
              "  </tbody>\n",
              "</table>\n",
              "</div>"
            ],
            "text/plain": [
              "                           order_id                       customer_id  \\\n",
              "0  e481f51cbdc54678b7cc49136f2d6af7  9ef432eb6251297304e76186b10a928d   \n",
              "1  53cdb2fc8bc7dce0b6741e2150273451  b0830fb4747a6c6d20dea0b8c802d7ef   \n",
              "2  47770eb9100c2d0c44946d9cf07ec65d  41ce2a54c0b03bf3443c3d931a367089   \n",
              "3  949d5b44dbf5de918fe9c16f97b45f8a  f88197465ea7920adcdbec7375364d82   \n",
              "4  ad21c59c0840e6cb83a9ceb5573f8159  8ab97904e6daea8866dbdbc4fb7aad2c   \n",
              "\n",
              "  order_status order_purchase_timestamp   order_approved_at  \\\n",
              "0    delivered      2017-10-02 10:56:33 2017-10-02 11:07:15   \n",
              "1    delivered      2018-07-24 20:41:37 2018-07-26 03:24:27   \n",
              "2    delivered      2018-08-08 08:38:49 2018-08-08 08:55:23   \n",
              "3    delivered      2017-11-18 19:28:06 2017-11-18 19:45:59   \n",
              "4    delivered      2018-02-13 21:18:39 2018-02-13 22:20:29   \n",
              "\n",
              "  order_delivered_carrier_date order_delivered_customer_date  \\\n",
              "0          2017-10-04 19:55:00           2017-10-10 21:25:13   \n",
              "1          2018-07-26 14:31:00           2018-08-07 15:27:45   \n",
              "2          2018-08-08 13:50:00           2018-08-17 18:06:29   \n",
              "3          2017-11-22 13:39:59           2017-12-02 00:28:42   \n",
              "4          2018-02-14 19:46:34           2018-02-16 18:17:02   \n",
              "\n",
              "  order_estimated_delivery_date  delivery_time (day)  \\\n",
              "0                    2017-10-18                    8   \n",
              "1                    2018-08-13                   13   \n",
              "2                    2018-09-04                    9   \n",
              "3                    2017-12-15                   13   \n",
              "4                    2018-02-26                    2   \n",
              "\n",
              "                 customer_unique_id customer_zip_code_prefix  \\\n",
              "0  7c396fd4830fd04220f754e42b4e5bff                   3149.0   \n",
              "1  af07308b275d755c9edb36a90c618231                  47813.0   \n",
              "2  3a653a41f6f9fc3d2a113cf8398680e8                  75265.0   \n",
              "3  7c142cf63193a1473d2e66489a9ae977                  59296.0   \n",
              "4  72632f0f9dd73dfee390c9b22eb56dd6                   9195.0   \n",
              "\n",
              "             customer_city customer_state  \n",
              "0                sao paulo             SP  \n",
              "1                barreiras             BA  \n",
              "2               vianopolis             GO  \n",
              "3  sao goncalo do amarante             RN  \n",
              "4              santo andre             SP  "
            ]
          },
          "execution_count": 793,
          "metadata": {},
          "output_type": "execute_result"
        }
      ],
      "source": [
        "orders_customers_df = pd.merge(orders_df, customers_df, on='customer_id', how='left')\n",
        "\n",
        "orders_customers_df.head(5)\n"
      ]
    },
    {
      "cell_type": "markdown",
      "metadata": {},
      "source": [
        "### Explore orders_customers_df dan order_items_df : "
      ]
    },
    {
      "cell_type": "markdown",
      "metadata": {},
      "source": [
        "langkah berikutnya adalah saya menggabungkan dataframe orders_customers dengan order_items menggunakan function merge() dan menggabungkan berdasarkan order_id"
      ]
    },
    {
      "cell_type": "code",
      "execution_count": 794,
      "metadata": {},
      "outputs": [
        {
          "data": {
            "text/html": [
              "<div>\n",
              "<style scoped>\n",
              "    .dataframe tbody tr th:only-of-type {\n",
              "        vertical-align: middle;\n",
              "    }\n",
              "\n",
              "    .dataframe tbody tr th {\n",
              "        vertical-align: top;\n",
              "    }\n",
              "\n",
              "    .dataframe thead th {\n",
              "        text-align: right;\n",
              "    }\n",
              "</style>\n",
              "<table border=\"1\" class=\"dataframe\">\n",
              "  <thead>\n",
              "    <tr style=\"text-align: right;\">\n",
              "      <th></th>\n",
              "      <th>order_id</th>\n",
              "      <th>customer_id</th>\n",
              "      <th>order_status</th>\n",
              "      <th>order_purchase_timestamp</th>\n",
              "      <th>order_approved_at</th>\n",
              "      <th>order_delivered_carrier_date</th>\n",
              "      <th>order_delivered_customer_date</th>\n",
              "      <th>order_estimated_delivery_date</th>\n",
              "      <th>delivery_time (day)</th>\n",
              "      <th>customer_unique_id</th>\n",
              "      <th>customer_zip_code_prefix</th>\n",
              "      <th>customer_city</th>\n",
              "      <th>customer_state</th>\n",
              "      <th>order_item_id</th>\n",
              "      <th>product_id</th>\n",
              "      <th>seller_id</th>\n",
              "      <th>shipping_limit_date</th>\n",
              "      <th>price</th>\n",
              "      <th>freight_value</th>\n",
              "      <th>total_cost</th>\n",
              "    </tr>\n",
              "  </thead>\n",
              "  <tbody>\n",
              "    <tr>\n",
              "      <th>0</th>\n",
              "      <td>e481f51cbdc54678b7cc49136f2d6af7</td>\n",
              "      <td>9ef432eb6251297304e76186b10a928d</td>\n",
              "      <td>delivered</td>\n",
              "      <td>2017-10-02 10:56:33</td>\n",
              "      <td>2017-10-02 11:07:15</td>\n",
              "      <td>2017-10-04 19:55:00</td>\n",
              "      <td>2017-10-10 21:25:13</td>\n",
              "      <td>2017-10-18</td>\n",
              "      <td>8</td>\n",
              "      <td>7c396fd4830fd04220f754e42b4e5bff</td>\n",
              "      <td>3149.0</td>\n",
              "      <td>sao paulo</td>\n",
              "      <td>SP</td>\n",
              "      <td>1</td>\n",
              "      <td>87285b34884572647811a353c7ac498a</td>\n",
              "      <td>3504c0cb71d7fa48d967e0e4c94d59d9</td>\n",
              "      <td>2017-10-06 11:07:15</td>\n",
              "      <td>29.99</td>\n",
              "      <td>8.72</td>\n",
              "      <td>38.71</td>\n",
              "    </tr>\n",
              "    <tr>\n",
              "      <th>1</th>\n",
              "      <td>53cdb2fc8bc7dce0b6741e2150273451</td>\n",
              "      <td>b0830fb4747a6c6d20dea0b8c802d7ef</td>\n",
              "      <td>delivered</td>\n",
              "      <td>2018-07-24 20:41:37</td>\n",
              "      <td>2018-07-26 03:24:27</td>\n",
              "      <td>2018-07-26 14:31:00</td>\n",
              "      <td>2018-08-07 15:27:45</td>\n",
              "      <td>2018-08-13</td>\n",
              "      <td>13</td>\n",
              "      <td>af07308b275d755c9edb36a90c618231</td>\n",
              "      <td>47813.0</td>\n",
              "      <td>barreiras</td>\n",
              "      <td>BA</td>\n",
              "      <td>1</td>\n",
              "      <td>595fac2a385ac33a80bd5114aec74eb8</td>\n",
              "      <td>289cdb325fb7e7f891c38608bf9e0962</td>\n",
              "      <td>2018-07-30 03:24:27</td>\n",
              "      <td>118.70</td>\n",
              "      <td>22.76</td>\n",
              "      <td>141.46</td>\n",
              "    </tr>\n",
              "    <tr>\n",
              "      <th>2</th>\n",
              "      <td>47770eb9100c2d0c44946d9cf07ec65d</td>\n",
              "      <td>41ce2a54c0b03bf3443c3d931a367089</td>\n",
              "      <td>delivered</td>\n",
              "      <td>2018-08-08 08:38:49</td>\n",
              "      <td>2018-08-08 08:55:23</td>\n",
              "      <td>2018-08-08 13:50:00</td>\n",
              "      <td>2018-08-17 18:06:29</td>\n",
              "      <td>2018-09-04</td>\n",
              "      <td>9</td>\n",
              "      <td>3a653a41f6f9fc3d2a113cf8398680e8</td>\n",
              "      <td>75265.0</td>\n",
              "      <td>vianopolis</td>\n",
              "      <td>GO</td>\n",
              "      <td>1</td>\n",
              "      <td>aa4383b373c6aca5d8797843e5594415</td>\n",
              "      <td>4869f7a5dfa277a7dca6462dcf3b52b2</td>\n",
              "      <td>2018-08-13 08:55:23</td>\n",
              "      <td>159.90</td>\n",
              "      <td>19.22</td>\n",
              "      <td>179.12</td>\n",
              "    </tr>\n",
              "    <tr>\n",
              "      <th>3</th>\n",
              "      <td>949d5b44dbf5de918fe9c16f97b45f8a</td>\n",
              "      <td>f88197465ea7920adcdbec7375364d82</td>\n",
              "      <td>delivered</td>\n",
              "      <td>2017-11-18 19:28:06</td>\n",
              "      <td>2017-11-18 19:45:59</td>\n",
              "      <td>2017-11-22 13:39:59</td>\n",
              "      <td>2017-12-02 00:28:42</td>\n",
              "      <td>2017-12-15</td>\n",
              "      <td>13</td>\n",
              "      <td>7c142cf63193a1473d2e66489a9ae977</td>\n",
              "      <td>59296.0</td>\n",
              "      <td>sao goncalo do amarante</td>\n",
              "      <td>RN</td>\n",
              "      <td>1</td>\n",
              "      <td>d0b61bfb1de832b15ba9d266ca96e5b0</td>\n",
              "      <td>66922902710d126a0e7d26b0e3805106</td>\n",
              "      <td>2017-11-23 19:45:59</td>\n",
              "      <td>45.00</td>\n",
              "      <td>27.20</td>\n",
              "      <td>72.20</td>\n",
              "    </tr>\n",
              "    <tr>\n",
              "      <th>4</th>\n",
              "      <td>ad21c59c0840e6cb83a9ceb5573f8159</td>\n",
              "      <td>8ab97904e6daea8866dbdbc4fb7aad2c</td>\n",
              "      <td>delivered</td>\n",
              "      <td>2018-02-13 21:18:39</td>\n",
              "      <td>2018-02-13 22:20:29</td>\n",
              "      <td>2018-02-14 19:46:34</td>\n",
              "      <td>2018-02-16 18:17:02</td>\n",
              "      <td>2018-02-26</td>\n",
              "      <td>2</td>\n",
              "      <td>72632f0f9dd73dfee390c9b22eb56dd6</td>\n",
              "      <td>9195.0</td>\n",
              "      <td>santo andre</td>\n",
              "      <td>SP</td>\n",
              "      <td>1</td>\n",
              "      <td>65266b2da20d04dbe00c5c2d3bb7859e</td>\n",
              "      <td>2c9e548be18521d1c43cde1c582c6de8</td>\n",
              "      <td>2018-02-19 20:31:37</td>\n",
              "      <td>19.90</td>\n",
              "      <td>8.72</td>\n",
              "      <td>28.62</td>\n",
              "    </tr>\n",
              "  </tbody>\n",
              "</table>\n",
              "</div>"
            ],
            "text/plain": [
              "                           order_id                       customer_id  \\\n",
              "0  e481f51cbdc54678b7cc49136f2d6af7  9ef432eb6251297304e76186b10a928d   \n",
              "1  53cdb2fc8bc7dce0b6741e2150273451  b0830fb4747a6c6d20dea0b8c802d7ef   \n",
              "2  47770eb9100c2d0c44946d9cf07ec65d  41ce2a54c0b03bf3443c3d931a367089   \n",
              "3  949d5b44dbf5de918fe9c16f97b45f8a  f88197465ea7920adcdbec7375364d82   \n",
              "4  ad21c59c0840e6cb83a9ceb5573f8159  8ab97904e6daea8866dbdbc4fb7aad2c   \n",
              "\n",
              "  order_status order_purchase_timestamp   order_approved_at  \\\n",
              "0    delivered      2017-10-02 10:56:33 2017-10-02 11:07:15   \n",
              "1    delivered      2018-07-24 20:41:37 2018-07-26 03:24:27   \n",
              "2    delivered      2018-08-08 08:38:49 2018-08-08 08:55:23   \n",
              "3    delivered      2017-11-18 19:28:06 2017-11-18 19:45:59   \n",
              "4    delivered      2018-02-13 21:18:39 2018-02-13 22:20:29   \n",
              "\n",
              "  order_delivered_carrier_date order_delivered_customer_date  \\\n",
              "0          2017-10-04 19:55:00           2017-10-10 21:25:13   \n",
              "1          2018-07-26 14:31:00           2018-08-07 15:27:45   \n",
              "2          2018-08-08 13:50:00           2018-08-17 18:06:29   \n",
              "3          2017-11-22 13:39:59           2017-12-02 00:28:42   \n",
              "4          2018-02-14 19:46:34           2018-02-16 18:17:02   \n",
              "\n",
              "  order_estimated_delivery_date  delivery_time (day)  \\\n",
              "0                    2017-10-18                    8   \n",
              "1                    2018-08-13                   13   \n",
              "2                    2018-09-04                    9   \n",
              "3                    2017-12-15                   13   \n",
              "4                    2018-02-26                    2   \n",
              "\n",
              "                 customer_unique_id customer_zip_code_prefix  \\\n",
              "0  7c396fd4830fd04220f754e42b4e5bff                   3149.0   \n",
              "1  af07308b275d755c9edb36a90c618231                  47813.0   \n",
              "2  3a653a41f6f9fc3d2a113cf8398680e8                  75265.0   \n",
              "3  7c142cf63193a1473d2e66489a9ae977                  59296.0   \n",
              "4  72632f0f9dd73dfee390c9b22eb56dd6                   9195.0   \n",
              "\n",
              "             customer_city customer_state  order_item_id  \\\n",
              "0                sao paulo             SP              1   \n",
              "1                barreiras             BA              1   \n",
              "2               vianopolis             GO              1   \n",
              "3  sao goncalo do amarante             RN              1   \n",
              "4              santo andre             SP              1   \n",
              "\n",
              "                         product_id                         seller_id  \\\n",
              "0  87285b34884572647811a353c7ac498a  3504c0cb71d7fa48d967e0e4c94d59d9   \n",
              "1  595fac2a385ac33a80bd5114aec74eb8  289cdb325fb7e7f891c38608bf9e0962   \n",
              "2  aa4383b373c6aca5d8797843e5594415  4869f7a5dfa277a7dca6462dcf3b52b2   \n",
              "3  d0b61bfb1de832b15ba9d266ca96e5b0  66922902710d126a0e7d26b0e3805106   \n",
              "4  65266b2da20d04dbe00c5c2d3bb7859e  2c9e548be18521d1c43cde1c582c6de8   \n",
              "\n",
              "  shipping_limit_date   price  freight_value  total_cost  \n",
              "0 2017-10-06 11:07:15   29.99           8.72       38.71  \n",
              "1 2018-07-30 03:24:27  118.70          22.76      141.46  \n",
              "2 2018-08-13 08:55:23  159.90          19.22      179.12  \n",
              "3 2017-11-23 19:45:59   45.00          27.20       72.20  \n",
              "4 2018-02-19 20:31:37   19.90           8.72       28.62  "
            ]
          },
          "execution_count": 794,
          "metadata": {},
          "output_type": "execute_result"
        }
      ],
      "source": [
        "orders_items_df = pd.merge(orders_customers_df, order_items_df, on='order_id', how='left')\n",
        "\n",
        "orders_items_df.head(5)"
      ]
    },
    {
      "cell_type": "markdown",
      "metadata": {},
      "source": [
        "### Explore Merge all data : "
      ]
    },
    {
      "cell_type": "markdown",
      "metadata": {},
      "source": [
        "langkah terakhir untuk menggabungkan seluruh data adalah menggabungkan hasil sebelumnya dengan products_df menggunakan function merge() dan menggabungkan berdasarkan product_id"
      ]
    },
    {
      "cell_type": "code",
      "execution_count": 795,
      "metadata": {},
      "outputs": [
        {
          "data": {
            "text/html": [
              "<div>\n",
              "<style scoped>\n",
              "    .dataframe tbody tr th:only-of-type {\n",
              "        vertical-align: middle;\n",
              "    }\n",
              "\n",
              "    .dataframe tbody tr th {\n",
              "        vertical-align: top;\n",
              "    }\n",
              "\n",
              "    .dataframe thead th {\n",
              "        text-align: right;\n",
              "    }\n",
              "</style>\n",
              "<table border=\"1\" class=\"dataframe\">\n",
              "  <thead>\n",
              "    <tr style=\"text-align: right;\">\n",
              "      <th></th>\n",
              "      <th>order_id</th>\n",
              "      <th>customer_id</th>\n",
              "      <th>order_status</th>\n",
              "      <th>order_purchase_timestamp</th>\n",
              "      <th>order_approved_at</th>\n",
              "      <th>order_delivered_carrier_date</th>\n",
              "      <th>order_delivered_customer_date</th>\n",
              "      <th>order_estimated_delivery_date</th>\n",
              "      <th>delivery_time (day)</th>\n",
              "      <th>customer_unique_id</th>\n",
              "      <th>...</th>\n",
              "      <th>total_cost</th>\n",
              "      <th>product_category_name</th>\n",
              "      <th>product_name_length</th>\n",
              "      <th>product_description_length</th>\n",
              "      <th>product_photos_qty</th>\n",
              "      <th>product_weight_g</th>\n",
              "      <th>product_length_cm</th>\n",
              "      <th>product_height_cm</th>\n",
              "      <th>product_width_cm</th>\n",
              "      <th>product_volume_cm3</th>\n",
              "    </tr>\n",
              "  </thead>\n",
              "  <tbody>\n",
              "    <tr>\n",
              "      <th>0</th>\n",
              "      <td>e481f51cbdc54678b7cc49136f2d6af7</td>\n",
              "      <td>9ef432eb6251297304e76186b10a928d</td>\n",
              "      <td>delivered</td>\n",
              "      <td>2017-10-02 10:56:33</td>\n",
              "      <td>2017-10-02 11:07:15</td>\n",
              "      <td>2017-10-04 19:55:00</td>\n",
              "      <td>2017-10-10 21:25:13</td>\n",
              "      <td>2017-10-18</td>\n",
              "      <td>8</td>\n",
              "      <td>7c396fd4830fd04220f754e42b4e5bff</td>\n",
              "      <td>...</td>\n",
              "      <td>38.71</td>\n",
              "      <td>utilidades_domesticas</td>\n",
              "      <td>40.0</td>\n",
              "      <td>268.0</td>\n",
              "      <td>4.0</td>\n",
              "      <td>500.0</td>\n",
              "      <td>19.0</td>\n",
              "      <td>8.0</td>\n",
              "      <td>13.0</td>\n",
              "      <td>1976.0</td>\n",
              "    </tr>\n",
              "    <tr>\n",
              "      <th>1</th>\n",
              "      <td>53cdb2fc8bc7dce0b6741e2150273451</td>\n",
              "      <td>b0830fb4747a6c6d20dea0b8c802d7ef</td>\n",
              "      <td>delivered</td>\n",
              "      <td>2018-07-24 20:41:37</td>\n",
              "      <td>2018-07-26 03:24:27</td>\n",
              "      <td>2018-07-26 14:31:00</td>\n",
              "      <td>2018-08-07 15:27:45</td>\n",
              "      <td>2018-08-13</td>\n",
              "      <td>13</td>\n",
              "      <td>af07308b275d755c9edb36a90c618231</td>\n",
              "      <td>...</td>\n",
              "      <td>141.46</td>\n",
              "      <td>perfumaria</td>\n",
              "      <td>29.0</td>\n",
              "      <td>178.0</td>\n",
              "      <td>1.0</td>\n",
              "      <td>400.0</td>\n",
              "      <td>19.0</td>\n",
              "      <td>13.0</td>\n",
              "      <td>19.0</td>\n",
              "      <td>4693.0</td>\n",
              "    </tr>\n",
              "    <tr>\n",
              "      <th>2</th>\n",
              "      <td>47770eb9100c2d0c44946d9cf07ec65d</td>\n",
              "      <td>41ce2a54c0b03bf3443c3d931a367089</td>\n",
              "      <td>delivered</td>\n",
              "      <td>2018-08-08 08:38:49</td>\n",
              "      <td>2018-08-08 08:55:23</td>\n",
              "      <td>2018-08-08 13:50:00</td>\n",
              "      <td>2018-08-17 18:06:29</td>\n",
              "      <td>2018-09-04</td>\n",
              "      <td>9</td>\n",
              "      <td>3a653a41f6f9fc3d2a113cf8398680e8</td>\n",
              "      <td>...</td>\n",
              "      <td>179.12</td>\n",
              "      <td>automotivo</td>\n",
              "      <td>46.0</td>\n",
              "      <td>232.0</td>\n",
              "      <td>1.0</td>\n",
              "      <td>420.0</td>\n",
              "      <td>24.0</td>\n",
              "      <td>19.0</td>\n",
              "      <td>21.0</td>\n",
              "      <td>9576.0</td>\n",
              "    </tr>\n",
              "    <tr>\n",
              "      <th>3</th>\n",
              "      <td>949d5b44dbf5de918fe9c16f97b45f8a</td>\n",
              "      <td>f88197465ea7920adcdbec7375364d82</td>\n",
              "      <td>delivered</td>\n",
              "      <td>2017-11-18 19:28:06</td>\n",
              "      <td>2017-11-18 19:45:59</td>\n",
              "      <td>2017-11-22 13:39:59</td>\n",
              "      <td>2017-12-02 00:28:42</td>\n",
              "      <td>2017-12-15</td>\n",
              "      <td>13</td>\n",
              "      <td>7c142cf63193a1473d2e66489a9ae977</td>\n",
              "      <td>...</td>\n",
              "      <td>72.20</td>\n",
              "      <td>pet_shop</td>\n",
              "      <td>59.0</td>\n",
              "      <td>468.0</td>\n",
              "      <td>3.0</td>\n",
              "      <td>450.0</td>\n",
              "      <td>30.0</td>\n",
              "      <td>10.0</td>\n",
              "      <td>20.0</td>\n",
              "      <td>6000.0</td>\n",
              "    </tr>\n",
              "    <tr>\n",
              "      <th>4</th>\n",
              "      <td>ad21c59c0840e6cb83a9ceb5573f8159</td>\n",
              "      <td>8ab97904e6daea8866dbdbc4fb7aad2c</td>\n",
              "      <td>delivered</td>\n",
              "      <td>2018-02-13 21:18:39</td>\n",
              "      <td>2018-02-13 22:20:29</td>\n",
              "      <td>2018-02-14 19:46:34</td>\n",
              "      <td>2018-02-16 18:17:02</td>\n",
              "      <td>2018-02-26</td>\n",
              "      <td>2</td>\n",
              "      <td>72632f0f9dd73dfee390c9b22eb56dd6</td>\n",
              "      <td>...</td>\n",
              "      <td>28.62</td>\n",
              "      <td>papelaria</td>\n",
              "      <td>38.0</td>\n",
              "      <td>316.0</td>\n",
              "      <td>4.0</td>\n",
              "      <td>250.0</td>\n",
              "      <td>51.0</td>\n",
              "      <td>15.0</td>\n",
              "      <td>15.0</td>\n",
              "      <td>11475.0</td>\n",
              "    </tr>\n",
              "  </tbody>\n",
              "</table>\n",
              "<p>5 rows × 29 columns</p>\n",
              "</div>"
            ],
            "text/plain": [
              "                           order_id                       customer_id  \\\n",
              "0  e481f51cbdc54678b7cc49136f2d6af7  9ef432eb6251297304e76186b10a928d   \n",
              "1  53cdb2fc8bc7dce0b6741e2150273451  b0830fb4747a6c6d20dea0b8c802d7ef   \n",
              "2  47770eb9100c2d0c44946d9cf07ec65d  41ce2a54c0b03bf3443c3d931a367089   \n",
              "3  949d5b44dbf5de918fe9c16f97b45f8a  f88197465ea7920adcdbec7375364d82   \n",
              "4  ad21c59c0840e6cb83a9ceb5573f8159  8ab97904e6daea8866dbdbc4fb7aad2c   \n",
              "\n",
              "  order_status order_purchase_timestamp   order_approved_at  \\\n",
              "0    delivered      2017-10-02 10:56:33 2017-10-02 11:07:15   \n",
              "1    delivered      2018-07-24 20:41:37 2018-07-26 03:24:27   \n",
              "2    delivered      2018-08-08 08:38:49 2018-08-08 08:55:23   \n",
              "3    delivered      2017-11-18 19:28:06 2017-11-18 19:45:59   \n",
              "4    delivered      2018-02-13 21:18:39 2018-02-13 22:20:29   \n",
              "\n",
              "  order_delivered_carrier_date order_delivered_customer_date  \\\n",
              "0          2017-10-04 19:55:00           2017-10-10 21:25:13   \n",
              "1          2018-07-26 14:31:00           2018-08-07 15:27:45   \n",
              "2          2018-08-08 13:50:00           2018-08-17 18:06:29   \n",
              "3          2017-11-22 13:39:59           2017-12-02 00:28:42   \n",
              "4          2018-02-14 19:46:34           2018-02-16 18:17:02   \n",
              "\n",
              "  order_estimated_delivery_date  delivery_time (day)  \\\n",
              "0                    2017-10-18                    8   \n",
              "1                    2018-08-13                   13   \n",
              "2                    2018-09-04                    9   \n",
              "3                    2017-12-15                   13   \n",
              "4                    2018-02-26                    2   \n",
              "\n",
              "                 customer_unique_id  ... total_cost  product_category_name  \\\n",
              "0  7c396fd4830fd04220f754e42b4e5bff  ...      38.71  utilidades_domesticas   \n",
              "1  af07308b275d755c9edb36a90c618231  ...     141.46             perfumaria   \n",
              "2  3a653a41f6f9fc3d2a113cf8398680e8  ...     179.12             automotivo   \n",
              "3  7c142cf63193a1473d2e66489a9ae977  ...      72.20               pet_shop   \n",
              "4  72632f0f9dd73dfee390c9b22eb56dd6  ...      28.62              papelaria   \n",
              "\n",
              "  product_name_length  product_description_length product_photos_qty  \\\n",
              "0                40.0                       268.0                4.0   \n",
              "1                29.0                       178.0                1.0   \n",
              "2                46.0                       232.0                1.0   \n",
              "3                59.0                       468.0                3.0   \n",
              "4                38.0                       316.0                4.0   \n",
              "\n",
              "  product_weight_g product_length_cm  product_height_cm  product_width_cm  \\\n",
              "0            500.0              19.0                8.0              13.0   \n",
              "1            400.0              19.0               13.0              19.0   \n",
              "2            420.0              24.0               19.0              21.0   \n",
              "3            450.0              30.0               10.0              20.0   \n",
              "4            250.0              51.0               15.0              15.0   \n",
              "\n",
              "   product_volume_cm3  \n",
              "0              1976.0  \n",
              "1              4693.0  \n",
              "2              9576.0  \n",
              "3              6000.0  \n",
              "4             11475.0  \n",
              "\n",
              "[5 rows x 29 columns]"
            ]
          },
          "execution_count": 795,
          "metadata": {},
          "output_type": "execute_result"
        }
      ],
      "source": [
        "all_data_df = pd.merge(orders_items_df, products_df, on='product_id', how='left')\n",
        "\n",
        "all_data_df.head(5)"
      ]
    },
    {
      "cell_type": "code",
      "execution_count": 796,
      "metadata": {},
      "outputs": [],
      "source": [
        "all_data_df.to_csv('dashboard/main_data.csv', index=False)"
      ]
    },
    {
      "cell_type": "markdown",
      "metadata": {},
      "source": [
        "lalu, saya menyimpannya ke dalam direktori dashboard yang sudah saya inisialisasi di awal"
      ]
    },
    {
      "cell_type": "markdown",
      "metadata": {},
      "source": [
        "### Insight EDA : "
      ]
    },
    {
      "cell_type": "markdown",
      "metadata": {},
      "source": [
        "**Insight:**\n",
        "- Abaete menjadi kota dengan jumlah customer tertinggi, yaitu sebanyak 12 customer. dan negara wilayah/bagian BA menjadi wilayah dengan jumlah customer tertinggi, yaitu sebanyak 3380 customer. hal ini dapat kita manfaatkan lebih lanjut terakit strategi pemasaran\n",
        "- berat dan volume produk dapat menjadi informasi yang penting jika ingin mencari kesimpulannya dengan melihat tingkat pembelian produk tersebut\n",
        "- waktu pengiriman (delivery time) menjadi komponen penting untuk menganalisis lebih dalam terkait feedback kepuasan customer dan peforma seller dalam penjualan\n",
        "- biaya rata-rata pengiriman tertinggi suatu produk ada di angka 19.60$"
      ]
    },
    {
      "cell_type": "markdown",
      "metadata": {},
      "source": [
        "---"
      ]
    },
    {
      "cell_type": "markdown",
      "metadata": {
        "id": "zsyZjqak8DC2"
      },
      "source": [
        "## Visualization & Explanatory Analysis"
      ]
    },
    {
      "cell_type": "markdown",
      "metadata": {
        "id": "HZxOiQ6n8DC2"
      },
      "source": [
        "### Pertanyaan 1 : Bagaimana pengaruh tingkat pembelian suatu produk di wilayah tertentu berdasarkan ukuran produk tersebut ?"
      ]
    },
    {
      "cell_type": "markdown",
      "metadata": {},
      "source": [
        "untuk menjawab pertanyaan itu, hal pertama yang saya lakukan adalah membuat dan mencari top 10 produk yang memiliki tingkat pembelian tertinggi "
      ]
    },
    {
      "cell_type": "code",
      "execution_count": 797,
      "metadata": {
        "id": "1swJUdAD8DC2"
      },
      "outputs": [
        {
          "data": {
            "text/html": [
              "<div>\n",
              "<style scoped>\n",
              "    .dataframe tbody tr th:only-of-type {\n",
              "        vertical-align: middle;\n",
              "    }\n",
              "\n",
              "    .dataframe tbody tr th {\n",
              "        vertical-align: top;\n",
              "    }\n",
              "\n",
              "    .dataframe thead th {\n",
              "        text-align: right;\n",
              "    }\n",
              "</style>\n",
              "<table border=\"1\" class=\"dataframe\">\n",
              "  <thead>\n",
              "    <tr style=\"text-align: right;\">\n",
              "      <th></th>\n",
              "      <th>product_category_name</th>\n",
              "      <th>purchase_count</th>\n",
              "    </tr>\n",
              "  </thead>\n",
              "  <tbody>\n",
              "    <tr>\n",
              "      <th>0</th>\n",
              "      <td>cama_mesa_banho</td>\n",
              "      <td>9271</td>\n",
              "    </tr>\n",
              "    <tr>\n",
              "      <th>1</th>\n",
              "      <td>beleza_saude</td>\n",
              "      <td>8649</td>\n",
              "    </tr>\n",
              "    <tr>\n",
              "      <th>2</th>\n",
              "      <td>esporte_lazer</td>\n",
              "      <td>7528</td>\n",
              "    </tr>\n",
              "    <tr>\n",
              "      <th>3</th>\n",
              "      <td>informatica_acessorios</td>\n",
              "      <td>6529</td>\n",
              "    </tr>\n",
              "    <tr>\n",
              "      <th>4</th>\n",
              "      <td>moveis_decoracao</td>\n",
              "      <td>6303</td>\n",
              "    </tr>\n",
              "    <tr>\n",
              "      <th>5</th>\n",
              "      <td>utilidades_domesticas</td>\n",
              "      <td>5743</td>\n",
              "    </tr>\n",
              "    <tr>\n",
              "      <th>6</th>\n",
              "      <td>relogios_presentes</td>\n",
              "      <td>5493</td>\n",
              "    </tr>\n",
              "    <tr>\n",
              "      <th>7</th>\n",
              "      <td>telefonia</td>\n",
              "      <td>4092</td>\n",
              "    </tr>\n",
              "    <tr>\n",
              "      <th>8</th>\n",
              "      <td>automotivo</td>\n",
              "      <td>3809</td>\n",
              "    </tr>\n",
              "    <tr>\n",
              "      <th>9</th>\n",
              "      <td>brinquedos</td>\n",
              "      <td>3804</td>\n",
              "    </tr>\n",
              "  </tbody>\n",
              "</table>\n",
              "</div>"
            ],
            "text/plain": [
              "    product_category_name  purchase_count\n",
              "0         cama_mesa_banho            9271\n",
              "1            beleza_saude            8649\n",
              "2           esporte_lazer            7528\n",
              "3  informatica_acessorios            6529\n",
              "4        moveis_decoracao            6303\n",
              "5   utilidades_domesticas            5743\n",
              "6      relogios_presentes            5493\n",
              "7               telefonia            4092\n",
              "8              automotivo            3809\n",
              "9              brinquedos            3804"
            ]
          },
          "execution_count": 797,
          "metadata": {},
          "output_type": "execute_result"
        }
      ],
      "source": [
        "top_products = all_data_df.groupby('product_category_name')['order_id'].nunique().reset_index()\n",
        "top_products.columns = ['product_category_name', 'purchase_count']\n",
        "\n",
        "top_10_products = top_products.sort_values(by='purchase_count', ascending=False).head(10)\n",
        "top_10_products.reset_index(drop=True, inplace=True)\n",
        "top_10_products"
      ]
    },
    {
      "cell_type": "markdown",
      "metadata": {},
      "source": [
        "lalu, dibawah ini saya menambahkan informasi, yaitu terkait mayoritas wilayah dan kota customers mana yang melakukan pembelian product-product tersebut"
      ]
    },
    {
      "cell_type": "code",
      "execution_count": 798,
      "metadata": {},
      "outputs": [
        {
          "data": {
            "text/html": [
              "<div>\n",
              "<style scoped>\n",
              "    .dataframe tbody tr th:only-of-type {\n",
              "        vertical-align: middle;\n",
              "    }\n",
              "\n",
              "    .dataframe tbody tr th {\n",
              "        vertical-align: top;\n",
              "    }\n",
              "\n",
              "    .dataframe thead th {\n",
              "        text-align: right;\n",
              "    }\n",
              "</style>\n",
              "<table border=\"1\" class=\"dataframe\">\n",
              "  <thead>\n",
              "    <tr style=\"text-align: right;\">\n",
              "      <th></th>\n",
              "      <th>product_category_name</th>\n",
              "      <th>purchase_count</th>\n",
              "      <th>majority_customer_state</th>\n",
              "      <th>majority_customer_city</th>\n",
              "    </tr>\n",
              "  </thead>\n",
              "  <tbody>\n",
              "    <tr>\n",
              "      <th>0</th>\n",
              "      <td>cama_mesa_banho</td>\n",
              "      <td>9271</td>\n",
              "      <td>SP</td>\n",
              "      <td>sao paulo</td>\n",
              "    </tr>\n",
              "    <tr>\n",
              "      <th>1</th>\n",
              "      <td>beleza_saude</td>\n",
              "      <td>8649</td>\n",
              "      <td>SP</td>\n",
              "      <td>sao paulo</td>\n",
              "    </tr>\n",
              "    <tr>\n",
              "      <th>2</th>\n",
              "      <td>esporte_lazer</td>\n",
              "      <td>7528</td>\n",
              "      <td>SP</td>\n",
              "      <td>sao paulo</td>\n",
              "    </tr>\n",
              "    <tr>\n",
              "      <th>3</th>\n",
              "      <td>informatica_acessorios</td>\n",
              "      <td>6529</td>\n",
              "      <td>SP</td>\n",
              "      <td>sao paulo</td>\n",
              "    </tr>\n",
              "    <tr>\n",
              "      <th>4</th>\n",
              "      <td>moveis_decoracao</td>\n",
              "      <td>6303</td>\n",
              "      <td>SP</td>\n",
              "      <td>sao paulo</td>\n",
              "    </tr>\n",
              "    <tr>\n",
              "      <th>5</th>\n",
              "      <td>utilidades_domesticas</td>\n",
              "      <td>5743</td>\n",
              "      <td>SP</td>\n",
              "      <td>sao paulo</td>\n",
              "    </tr>\n",
              "    <tr>\n",
              "      <th>6</th>\n",
              "      <td>relogios_presentes</td>\n",
              "      <td>5493</td>\n",
              "      <td>SP</td>\n",
              "      <td>sao paulo</td>\n",
              "    </tr>\n",
              "    <tr>\n",
              "      <th>7</th>\n",
              "      <td>telefonia</td>\n",
              "      <td>4092</td>\n",
              "      <td>SP</td>\n",
              "      <td>sao paulo</td>\n",
              "    </tr>\n",
              "    <tr>\n",
              "      <th>8</th>\n",
              "      <td>automotivo</td>\n",
              "      <td>3809</td>\n",
              "      <td>SP</td>\n",
              "      <td>sao paulo</td>\n",
              "    </tr>\n",
              "    <tr>\n",
              "      <th>9</th>\n",
              "      <td>brinquedos</td>\n",
              "      <td>3804</td>\n",
              "      <td>SP</td>\n",
              "      <td>sao paulo</td>\n",
              "    </tr>\n",
              "  </tbody>\n",
              "</table>\n",
              "</div>"
            ],
            "text/plain": [
              "    product_category_name  purchase_count majority_customer_state  \\\n",
              "0         cama_mesa_banho            9271                      SP   \n",
              "1            beleza_saude            8649                      SP   \n",
              "2           esporte_lazer            7528                      SP   \n",
              "3  informatica_acessorios            6529                      SP   \n",
              "4        moveis_decoracao            6303                      SP   \n",
              "5   utilidades_domesticas            5743                      SP   \n",
              "6      relogios_presentes            5493                      SP   \n",
              "7               telefonia            4092                      SP   \n",
              "8              automotivo            3809                      SP   \n",
              "9              brinquedos            3804                      SP   \n",
              "\n",
              "  majority_customer_city  \n",
              "0              sao paulo  \n",
              "1              sao paulo  \n",
              "2              sao paulo  \n",
              "3              sao paulo  \n",
              "4              sao paulo  \n",
              "5              sao paulo  \n",
              "6              sao paulo  \n",
              "7              sao paulo  \n",
              "8              sao paulo  \n",
              "9              sao paulo  "
            ]
          },
          "execution_count": 798,
          "metadata": {},
          "output_type": "execute_result"
        }
      ],
      "source": [
        "wilayah_mayoritas = all_data_df.groupby('product_category_name')['customer_state'].agg(lambda x: x.mode()[0]).reset_index()\n",
        "wilayah_mayoritas.columns = ['product_category_name', 'majority_customer_state']\n",
        "\n",
        "kota_mayoritas = all_data_df.groupby('product_category_name')['customer_city'].agg(lambda x: x.mode()[0]).reset_index()\n",
        "kota_mayoritas.columns = ['product_category_name', 'majority_customer_city']\n",
        "\n",
        "result = pd.merge(top_10_products, wilayah_mayoritas, on='product_category_name')\n",
        "result = pd.merge(result, kota_mayoritas, on='product_category_name')\n",
        "result.reset_index(drop=True, inplace=True)\n",
        "\n",
        "result"
      ]
    },
    {
      "cell_type": "markdown",
      "metadata": {},
      "source": [
        "berikutnya, dibawah ini saya menghitung rata-rata berat dan volume untuk semua product yang ada. nilai rata-rata ini nantinya akan menjadi acuan terhadap top 10 produk dengan pembelian tertinggi"
      ]
    },
    {
      "cell_type": "code",
      "execution_count": 799,
      "metadata": {},
      "outputs": [
        {
          "name": "stdout",
          "output_type": "stream",
          "text": [
            "Rata-rata Berat Produk: 2095.564178087866 g\n",
            "Rata-rata Volume Produk: 15220.920749611112 cm³\n"
          ]
        }
      ],
      "source": [
        "rata_rata_berat = all_data_df['product_weight_g'].mean()\n",
        "rata_rata_volume = all_data_df['product_volume_cm3'].mean()\n",
        "\n",
        "print(f\"Rata-rata Berat Produk: {rata_rata_berat} g\")\n",
        "print(f\"Rata-rata Volume Produk: {rata_rata_volume} cm³\")"
      ]
    },
    {
      "cell_type": "markdown",
      "metadata": {},
      "source": [
        "berikutnya, dibawah ini saya menambahkan 2 kolom yaitu rata2 berat dan volume untuk top 10 product dengan pembelian tertinggi ini"
      ]
    },
    {
      "cell_type": "code",
      "execution_count": 800,
      "metadata": {},
      "outputs": [
        {
          "data": {
            "text/html": [
              "<div>\n",
              "<style scoped>\n",
              "    .dataframe tbody tr th:only-of-type {\n",
              "        vertical-align: middle;\n",
              "    }\n",
              "\n",
              "    .dataframe tbody tr th {\n",
              "        vertical-align: top;\n",
              "    }\n",
              "\n",
              "    .dataframe thead th {\n",
              "        text-align: right;\n",
              "    }\n",
              "</style>\n",
              "<table border=\"1\" class=\"dataframe\">\n",
              "  <thead>\n",
              "    <tr style=\"text-align: right;\">\n",
              "      <th></th>\n",
              "      <th>product_category_name</th>\n",
              "      <th>purchase_count</th>\n",
              "      <th>majority_customer_state</th>\n",
              "      <th>majority_customer_city</th>\n",
              "      <th>average_weight</th>\n",
              "      <th>average_volume</th>\n",
              "    </tr>\n",
              "  </thead>\n",
              "  <tbody>\n",
              "    <tr>\n",
              "      <th>0</th>\n",
              "      <td>cama_mesa_banho</td>\n",
              "      <td>9271</td>\n",
              "      <td>SP</td>\n",
              "      <td>sao paulo</td>\n",
              "      <td>2118.583272</td>\n",
              "      <td>16611.320855</td>\n",
              "    </tr>\n",
              "    <tr>\n",
              "      <th>1</th>\n",
              "      <td>beleza_saude</td>\n",
              "      <td>8649</td>\n",
              "      <td>SP</td>\n",
              "      <td>sao paulo</td>\n",
              "      <td>1047.317418</td>\n",
              "      <td>8275.637794</td>\n",
              "    </tr>\n",
              "    <tr>\n",
              "      <th>2</th>\n",
              "      <td>esporte_lazer</td>\n",
              "      <td>7528</td>\n",
              "      <td>SP</td>\n",
              "      <td>sao paulo</td>\n",
              "      <td>1706.639934</td>\n",
              "      <td>13371.649899</td>\n",
              "    </tr>\n",
              "    <tr>\n",
              "      <th>3</th>\n",
              "      <td>informatica_acessorios</td>\n",
              "      <td>6529</td>\n",
              "      <td>SP</td>\n",
              "      <td>sao paulo</td>\n",
              "      <td>898.341751</td>\n",
              "      <td>5520.099961</td>\n",
              "    </tr>\n",
              "    <tr>\n",
              "      <th>4</th>\n",
              "      <td>moveis_decoracao</td>\n",
              "      <td>6303</td>\n",
              "      <td>SP</td>\n",
              "      <td>sao paulo</td>\n",
              "      <td>2640.274644</td>\n",
              "      <td>19418.070991</td>\n",
              "    </tr>\n",
              "    <tr>\n",
              "      <th>5</th>\n",
              "      <td>utilidades_domesticas</td>\n",
              "      <td>5743</td>\n",
              "      <td>SP</td>\n",
              "      <td>sao paulo</td>\n",
              "      <td>3216.652686</td>\n",
              "      <td>22707.176306</td>\n",
              "    </tr>\n",
              "    <tr>\n",
              "      <th>6</th>\n",
              "      <td>relogios_presentes</td>\n",
              "      <td>5493</td>\n",
              "      <td>SP</td>\n",
              "      <td>sao paulo</td>\n",
              "      <td>584.173126</td>\n",
              "      <td>2851.724432</td>\n",
              "    </tr>\n",
              "    <tr>\n",
              "      <th>7</th>\n",
              "      <td>telefonia</td>\n",
              "      <td>4092</td>\n",
              "      <td>SP</td>\n",
              "      <td>sao paulo</td>\n",
              "      <td>260.829268</td>\n",
              "      <td>1765.921861</td>\n",
              "    </tr>\n",
              "    <tr>\n",
              "      <th>8</th>\n",
              "      <td>automotivo</td>\n",
              "      <td>3809</td>\n",
              "      <td>SP</td>\n",
              "      <td>sao paulo</td>\n",
              "      <td>2595.739309</td>\n",
              "      <td>18085.965934</td>\n",
              "    </tr>\n",
              "    <tr>\n",
              "      <th>9</th>\n",
              "      <td>brinquedos</td>\n",
              "      <td>3804</td>\n",
              "      <td>SP</td>\n",
              "      <td>sao paulo</td>\n",
              "      <td>1853.294293</td>\n",
              "      <td>18922.226551</td>\n",
              "    </tr>\n",
              "  </tbody>\n",
              "</table>\n",
              "</div>"
            ],
            "text/plain": [
              "    product_category_name  purchase_count majority_customer_state  \\\n",
              "0         cama_mesa_banho            9271                      SP   \n",
              "1            beleza_saude            8649                      SP   \n",
              "2           esporte_lazer            7528                      SP   \n",
              "3  informatica_acessorios            6529                      SP   \n",
              "4        moveis_decoracao            6303                      SP   \n",
              "5   utilidades_domesticas            5743                      SP   \n",
              "6      relogios_presentes            5493                      SP   \n",
              "7               telefonia            4092                      SP   \n",
              "8              automotivo            3809                      SP   \n",
              "9              brinquedos            3804                      SP   \n",
              "\n",
              "  majority_customer_city  average_weight  average_volume  \n",
              "0              sao paulo     2118.583272    16611.320855  \n",
              "1              sao paulo     1047.317418     8275.637794  \n",
              "2              sao paulo     1706.639934    13371.649899  \n",
              "3              sao paulo      898.341751     5520.099961  \n",
              "4              sao paulo     2640.274644    19418.070991  \n",
              "5              sao paulo     3216.652686    22707.176306  \n",
              "6              sao paulo      584.173126     2851.724432  \n",
              "7              sao paulo      260.829268     1765.921861  \n",
              "8              sao paulo     2595.739309    18085.965934  \n",
              "9              sao paulo     1853.294293    18922.226551  "
            ]
          },
          "execution_count": 800,
          "metadata": {},
          "output_type": "execute_result"
        }
      ],
      "source": [
        "average_weight_volume = all_data_df.groupby('product_category_name').agg(\n",
        "    average_weight=('product_weight_g', 'mean'),\n",
        "    average_volume=('product_volume_cm3', 'mean')\n",
        ").reset_index()\n",
        "\n",
        "result = pd.merge(result, average_weight_volume, on='product_category_name')\n",
        "\n",
        "result.reset_index(drop=True, inplace=True)\n",
        "result"
      ]
    },
    {
      "cell_type": "markdown",
      "metadata": {},
      "source": [
        "VISUALISASI 1 - PERTANYAAN BISNIS 1 : Menampilkan top 10 kategori produk dengan pembelian tertinggi"
      ]
    },
    {
      "cell_type": "code",
      "execution_count": 801,
      "metadata": {},
      "outputs": [
        {
          "data": {
            "image/png": "[encoded data removed]",
            "text/plain": [
              "<Figure size 1200x600 with 1 Axes>"
            ]
          },
          "metadata": {},
          "output_type": "display_data"
        }
      ],
      "source": [
        "categories = result['product_category_name']\n",
        "purchase_counts = result['purchase_count']\n",
        "\n",
        "plt.figure(figsize=(12, 6))\n",
        "bars = plt.barh(categories, purchase_counts, color='skyblue')\n",
        "plt.xlabel('Jumlah Pembelian')\n",
        "plt.title('Top 10 Kategori Produk dengan Pembelian Tertinggi', fontweight=\"bold\")\n",
        "plt.grid(axis='x')\n",
        "\n",
        "\n",
        "for bar in bars:\n",
        "    plt.text(bar.get_width(), bar.get_y() + bar.get_height() / 2,\n",
        "            f'{int(bar.get_width())}', va='center')\n",
        "\n",
        "plt.show()"
      ]
    },
    {
      "cell_type": "markdown",
      "metadata": {},
      "source": [
        "VISUALISASI 2 - PERTANYAAN BISNIS 1 : Menampilkan rata-rata berat dan volume pada top 10 produk pembelian tertinggi dan perbandingannya dengan rata-rata berat dan volume keseluruhan produk"
      ]
    },
    {
      "cell_type": "code",
      "execution_count": 812,
      "metadata": {},
      "outputs": [
        {
          "data": {
            "image/png": "[encoded data removed]",
            "text/plain": [
              "<Figure size 1200x600 with 2 Axes>"
            ]
          },
          "metadata": {},
          "output_type": "display_data"
        }
      ],
      "source": [
        "weights = result['average_weight']\n",
        "volumes = result['average_volume']\n",
        "\n",
        "fig, ax1 = plt.subplots(figsize=(12, 6))\n",
        "\n",
        "bar_width = 0.4\n",
        "x = np.arange(len(result['product_category_name']))\n",
        "\n",
        "bars_weight = ax1.bar(x, weights, width=bar_width, label='rata-rata berat (gr)', color='skyblue')\n",
        "\n",
        "ax2 = ax1.twinx()\n",
        "bars_volume = ax2.bar(x + bar_width, volumes, width=bar_width, label='rata-rata volume (cm^3)', color='pink')\n",
        "\n",
        "ax1.axhline(rata_rata_berat, color='blue', linestyle='--', label='rata-rata berat total produk')\n",
        "ax2.axhline(rata_rata_volume, color='red', linestyle='--', label='rata-rata volume total produk')\n",
        "\n",
        "ax1.set_xlabel('Kategori Produk')\n",
        "ax1.set_ylabel('Rata-rata Berat (gr)')\n",
        "ax2.set_ylabel('Rata-rata Volume (cm^3)')\n",
        "ax1.set_title('Rata-rata Berat dan Volume Top 10 Produk dengan Pembelian Tertinggi', fontweight='bold')\n",
        "ax1.set_xticks(x + bar_width / 2)\n",
        "ax1.set_xticklabels(result['product_category_name'], rotation=45)\n",
        "\n",
        "ax1.legend(loc='upper left')\n",
        "ax2.legend(loc='upper right')\n",
        "\n",
        "plt.show()"
      ]
    },
    {
      "cell_type": "markdown",
      "metadata": {},
      "source": [
        "### Pertanyaan 2 : Bagaimana pengaruh demografis wilayah customer terhadap lamanya waktu pengiriman produk tersebut ?"
      ]
    },
    {
      "cell_type": "markdown",
      "metadata": {},
      "source": [
        "untuk menjawab pertanyaan bisnis yang kedua itu, langkah pertama yang saya lakukan dibawah ini adalah menghitung rata-rata waktu pengiriman untuk masing-masing kota customers"
      ]
    },
    {
      "cell_type": "markdown",
      "metadata": {},
      "source": [
        "saya mendefinisikan nya dengan mengelompokkan data berdasarkan kota customers dengan value nya adalah delivery time dan menggunakan function mean() untuk mendapat nilai rata-ratanya"
      ]
    },
    {
      "cell_type": "code",
      "execution_count": 807,
      "metadata": {
        "id": "Go0lCsvO8DC2"
      },
      "outputs": [
        {
          "data": {
            "text/html": [
              "<div>\n",
              "<style scoped>\n",
              "    .dataframe tbody tr th:only-of-type {\n",
              "        vertical-align: middle;\n",
              "    }\n",
              "\n",
              "    .dataframe tbody tr th {\n",
              "        vertical-align: top;\n",
              "    }\n",
              "\n",
              "    .dataframe thead th {\n",
              "        text-align: right;\n",
              "    }\n",
              "</style>\n",
              "<table border=\"1\" class=\"dataframe\">\n",
              "  <thead>\n",
              "    <tr style=\"text-align: right;\">\n",
              "      <th></th>\n",
              "      <th>customer_city</th>\n",
              "      <th>avg_delivery_time</th>\n",
              "    </tr>\n",
              "  </thead>\n",
              "  <tbody>\n",
              "    <tr>\n",
              "      <th>0</th>\n",
              "      <td>novo brasil</td>\n",
              "      <td>148.00</td>\n",
              "    </tr>\n",
              "    <tr>\n",
              "      <th>1</th>\n",
              "      <td>capinzal do norte</td>\n",
              "      <td>109.00</td>\n",
              "    </tr>\n",
              "    <tr>\n",
              "      <th>2</th>\n",
              "      <td>adhemar de barros</td>\n",
              "      <td>97.00</td>\n",
              "    </tr>\n",
              "    <tr>\n",
              "      <th>3</th>\n",
              "      <td>santa cruz de goias</td>\n",
              "      <td>86.00</td>\n",
              "    </tr>\n",
              "    <tr>\n",
              "      <th>4</th>\n",
              "      <td>arace</td>\n",
              "      <td>85.75</td>\n",
              "    </tr>\n",
              "    <tr>\n",
              "      <th>5</th>\n",
              "      <td>marcelino vieira</td>\n",
              "      <td>78.00</td>\n",
              "    </tr>\n",
              "    <tr>\n",
              "      <th>6</th>\n",
              "      <td>serra dos dourados</td>\n",
              "      <td>74.00</td>\n",
              "    </tr>\n",
              "    <tr>\n",
              "      <th>7</th>\n",
              "      <td>aramari</td>\n",
              "      <td>73.00</td>\n",
              "    </tr>\n",
              "    <tr>\n",
              "      <th>8</th>\n",
              "      <td>humildes</td>\n",
              "      <td>71.00</td>\n",
              "    </tr>\n",
              "    <tr>\n",
              "      <th>9</th>\n",
              "      <td>machadinho</td>\n",
              "      <td>65.00</td>\n",
              "    </tr>\n",
              "  </tbody>\n",
              "</table>\n",
              "</div>"
            ],
            "text/plain": [
              "         customer_city  avg_delivery_time\n",
              "0          novo brasil             148.00\n",
              "1    capinzal do norte             109.00\n",
              "2    adhemar de barros              97.00\n",
              "3  santa cruz de goias              86.00\n",
              "4                arace              85.75\n",
              "5     marcelino vieira              78.00\n",
              "6   serra dos dourados              74.00\n",
              "7              aramari              73.00\n",
              "8             humildes              71.00\n",
              "9           machadinho              65.00"
            ]
          },
          "execution_count": 807,
          "metadata": {},
          "output_type": "execute_result"
        }
      ],
      "source": [
        "avg_delivery_time_per_city = all_data_df.groupby('customer_city')['delivery_time (day)'].mean().reset_index()\n",
        "avg_delivery_time_per_city.columns = ['customer_city', 'avg_delivery_time']\n",
        "avg_delivery_time_per_city = avg_delivery_time_per_city.sort_values(by='avg_delivery_time', ascending=False).reset_index(drop=True)\n",
        "avg_delivery_time_per_city.head(10)"
      ]
    },
    {
      "cell_type": "markdown",
      "metadata": {},
      "source": [
        "dibawah ini, saya melakukan perhitungan yang sama, tetapi kali ini menghitung rata-rata waktu pengiriman untuk masing-masing wilayah/state customers"
      ]
    },
    {
      "cell_type": "code",
      "execution_count": 804,
      "metadata": {},
      "outputs": [
        {
          "data": {
            "text/html": [
              "<div>\n",
              "<style scoped>\n",
              "    .dataframe tbody tr th:only-of-type {\n",
              "        vertical-align: middle;\n",
              "    }\n",
              "\n",
              "    .dataframe tbody tr th {\n",
              "        vertical-align: top;\n",
              "    }\n",
              "\n",
              "    .dataframe thead th {\n",
              "        text-align: right;\n",
              "    }\n",
              "</style>\n",
              "<table border=\"1\" class=\"dataframe\">\n",
              "  <thead>\n",
              "    <tr style=\"text-align: right;\">\n",
              "      <th></th>\n",
              "      <th>customer_state</th>\n",
              "      <th>avg_delivery_time</th>\n",
              "    </tr>\n",
              "  </thead>\n",
              "  <tbody>\n",
              "    <tr>\n",
              "      <th>0</th>\n",
              "      <td>RR</td>\n",
              "      <td>27.826087</td>\n",
              "    </tr>\n",
              "    <tr>\n",
              "      <th>1</th>\n",
              "      <td>AP</td>\n",
              "      <td>27.753086</td>\n",
              "    </tr>\n",
              "    <tr>\n",
              "      <th>2</th>\n",
              "      <td>AM</td>\n",
              "      <td>25.963190</td>\n",
              "    </tr>\n",
              "    <tr>\n",
              "      <th>3</th>\n",
              "      <td>AL</td>\n",
              "      <td>23.992974</td>\n",
              "    </tr>\n",
              "    <tr>\n",
              "      <th>4</th>\n",
              "      <td>PA</td>\n",
              "      <td>23.301708</td>\n",
              "    </tr>\n",
              "    <tr>\n",
              "      <th>5</th>\n",
              "      <td>MA</td>\n",
              "      <td>21.214018</td>\n",
              "    </tr>\n",
              "    <tr>\n",
              "      <th>6</th>\n",
              "      <td>SE</td>\n",
              "      <td>20.978667</td>\n",
              "    </tr>\n",
              "    <tr>\n",
              "      <th>7</th>\n",
              "      <td>CE</td>\n",
              "      <td>20.538947</td>\n",
              "    </tr>\n",
              "    <tr>\n",
              "      <th>8</th>\n",
              "      <td>AC</td>\n",
              "      <td>20.329670</td>\n",
              "    </tr>\n",
              "    <tr>\n",
              "      <th>9</th>\n",
              "      <td>PB</td>\n",
              "      <td>20.119454</td>\n",
              "    </tr>\n",
              "  </tbody>\n",
              "</table>\n",
              "</div>"
            ],
            "text/plain": [
              "  customer_state  avg_delivery_time\n",
              "0             RR          27.826087\n",
              "1             AP          27.753086\n",
              "2             AM          25.963190\n",
              "3             AL          23.992974\n",
              "4             PA          23.301708\n",
              "5             MA          21.214018\n",
              "6             SE          20.978667\n",
              "7             CE          20.538947\n",
              "8             AC          20.329670\n",
              "9             PB          20.119454"
            ]
          },
          "execution_count": 804,
          "metadata": {},
          "output_type": "execute_result"
        }
      ],
      "source": [
        "avg_delivery_time_per_state = all_data_df.groupby('customer_state')['delivery_time (day)'].mean().reset_index()\n",
        "avg_delivery_time_per_state.columns = ['customer_state', 'avg_delivery_time']\n",
        "avg_delivery_time_per_state = avg_delivery_time_per_state.sort_values(by='avg_delivery_time', ascending=False).reset_index(drop=True)\n",
        "avg_delivery_time_per_state.head(10)"
      ]
    },
    {
      "cell_type": "markdown",
      "metadata": {},
      "source": [
        "lalu dibawah ini, saya ingin mengembangkan informasi terkait data rata-rata waktu pengiriman untuk masing-masing wilayah/state customers. saya menambahkan jumlah penjualan atau berapa banyak customer dari 10 wilayah tersebut melakukan pembelian"
      ]
    },
    {
      "cell_type": "code",
      "execution_count": 805,
      "metadata": {},
      "outputs": [
        {
          "data": {
            "text/html": [
              "<div>\n",
              "<style scoped>\n",
              "    .dataframe tbody tr th:only-of-type {\n",
              "        vertical-align: middle;\n",
              "    }\n",
              "\n",
              "    .dataframe tbody tr th {\n",
              "        vertical-align: top;\n",
              "    }\n",
              "\n",
              "    .dataframe thead th {\n",
              "        text-align: right;\n",
              "    }\n",
              "</style>\n",
              "<table border=\"1\" class=\"dataframe\">\n",
              "  <thead>\n",
              "    <tr style=\"text-align: right;\">\n",
              "      <th></th>\n",
              "      <th>customer_state</th>\n",
              "      <th>avg_delivery_time</th>\n",
              "      <th>sales_count</th>\n",
              "    </tr>\n",
              "  </thead>\n",
              "  <tbody>\n",
              "    <tr>\n",
              "      <th>0</th>\n",
              "      <td>RR</td>\n",
              "      <td>27.826087</td>\n",
              "      <td>41</td>\n",
              "    </tr>\n",
              "    <tr>\n",
              "      <th>1</th>\n",
              "      <td>AP</td>\n",
              "      <td>27.753086</td>\n",
              "      <td>67</td>\n",
              "    </tr>\n",
              "    <tr>\n",
              "      <th>2</th>\n",
              "      <td>AM</td>\n",
              "      <td>25.963190</td>\n",
              "      <td>145</td>\n",
              "    </tr>\n",
              "    <tr>\n",
              "      <th>3</th>\n",
              "      <td>AL</td>\n",
              "      <td>23.992974</td>\n",
              "      <td>397</td>\n",
              "    </tr>\n",
              "    <tr>\n",
              "      <th>4</th>\n",
              "      <td>PA</td>\n",
              "      <td>23.301708</td>\n",
              "      <td>946</td>\n",
              "    </tr>\n",
              "    <tr>\n",
              "      <th>5</th>\n",
              "      <td>MA</td>\n",
              "      <td>21.214018</td>\n",
              "      <td>716</td>\n",
              "    </tr>\n",
              "    <tr>\n",
              "      <th>6</th>\n",
              "      <td>SE</td>\n",
              "      <td>20.978667</td>\n",
              "      <td>335</td>\n",
              "    </tr>\n",
              "    <tr>\n",
              "      <th>7</th>\n",
              "      <td>CE</td>\n",
              "      <td>20.538947</td>\n",
              "      <td>1278</td>\n",
              "    </tr>\n",
              "    <tr>\n",
              "      <th>8</th>\n",
              "      <td>AC</td>\n",
              "      <td>20.329670</td>\n",
              "      <td>80</td>\n",
              "    </tr>\n",
              "    <tr>\n",
              "      <th>9</th>\n",
              "      <td>PB</td>\n",
              "      <td>20.119454</td>\n",
              "      <td>517</td>\n",
              "    </tr>\n",
              "  </tbody>\n",
              "</table>\n",
              "</div>"
            ],
            "text/plain": [
              "  customer_state  avg_delivery_time  sales_count\n",
              "0             RR          27.826087           41\n",
              "1             AP          27.753086           67\n",
              "2             AM          25.963190          145\n",
              "3             AL          23.992974          397\n",
              "4             PA          23.301708          946\n",
              "5             MA          21.214018          716\n",
              "6             SE          20.978667          335\n",
              "7             CE          20.538947         1278\n",
              "8             AC          20.329670           80\n",
              "9             PB          20.119454          517"
            ]
          },
          "execution_count": 805,
          "metadata": {},
          "output_type": "execute_result"
        }
      ],
      "source": [
        "penjualan_tiap_wilayah = all_data_df.groupby('customer_state')['order_id'].nunique().reset_index()\n",
        "penjualan_tiap_wilayah.columns = ['customer_state', 'sales_count']\n",
        "\n",
        "state_analysis = pd.merge(avg_delivery_time_per_state, penjualan_tiap_wilayah, on='customer_state')\n",
        "state_analysis.head(10)"
      ]
    },
    {
      "cell_type": "markdown",
      "metadata": {},
      "source": [
        "VISUALISASI 1 - PERTANYAAN BISNIS 2 : Menampilkan top 10 rata-rata waktu pengiriman tiap kota customers"
      ]
    },
    {
      "cell_type": "code",
      "execution_count": 810,
      "metadata": {},
      "outputs": [
        {
          "data": {
            "image/png": "[encoded data removed]",
            "text/plain": [
              "<Figure size 1000x600 with 1 Axes>"
            ]
          },
          "metadata": {},
          "output_type": "display_data"
        }
      ],
      "source": [
        "top_10_avg_delivery_time_per_city = avg_delivery_time_per_city.sort_values(by='avg_delivery_time', ascending=False).head(10)\n",
        "\n",
        "plt.figure(figsize=(10, 6))\n",
        "plt.bar(top_10_avg_delivery_time_per_city['customer_city'], top_10_avg_delivery_time_per_city['avg_delivery_time'], color='skyblue')\n",
        "plt.xlabel('Kota Customer')\n",
        "plt.ylabel('Rata-rata Waktu Pengiriman (hari)')\n",
        "plt.title('Top 10 Rata-rata Waktu Pengiriman berdasarkan Kota Customers', fontweight='bold')\n",
        "plt.xticks(rotation=45)\n",
        "plt.grid(axis='y')\n",
        "\n",
        "for index, value in enumerate(top_10_avg_delivery_time_per_city['avg_delivery_time']):\n",
        "    plt.text(index, value, f'{value:.2f}', ha='center', va='bottom')\n",
        "\n",
        "plt.show()"
      ]
    },
    {
      "cell_type": "markdown",
      "metadata": {},
      "source": [
        "VISUALISASI 2 - PERTANYAAN BISNIS 2 : Menampilkan hubungan jumlah pembelian suatu produk terhadap rata-rata waktu pengirimannya"
      ]
    },
    {
      "cell_type": "code",
      "execution_count": 811,
      "metadata": {},
      "outputs": [
        {
          "data": {
            "image/png": "[encoded data removed]",
            "text/plain": [
              "<Figure size 1200x600 with 1 Axes>"
            ]
          },
          "metadata": {},
          "output_type": "display_data"
        }
      ],
      "source": [
        "plt.figure(figsize=(12, 6))\n",
        "plt.scatter(state_analysis['sales_count'], state_analysis['avg_delivery_time'], color='blue')\n",
        "plt.xlabel('Jumlah Pembelian (order)')\n",
        "plt.ylabel('Rata-rata Waktu Pengiriman (hari)')\n",
        "plt.title('Hubungan Jumlah Pembelian dan Rata-rata Waktu Pengiriman', fontweight='bold')\n",
        "plt.grid()\n",
        "plt.show()\n"
      ]
    },
    {
      "cell_type": "markdown",
      "metadata": {
        "id": "_0-36BDLklRg"
      },
      "source": [
        "**Insight:**\n",
        "- \"cama_mesa_banho\" merupakan kategori produk dengan tingkat pembelian tertinggi sebesar 9271 penjualan produk dan merupakan produk yang paling diminati customers, terutama customers dari wilayah SP kota Sao Paulo\n",
        "- rata-rata ukuran(berat dan volume) suatu produk tidak berpengaruh signifikan terhadap tingkat pembelian atau seberapa laku produk tersebut\n",
        "- novo brasil menjadi kota customers dengan rata-rata waktu pengiriman produk terlama, yaitu 148 hari. Dan RR menjadi wilayah customers dengan rata-rata waktu pengiriman produk terlama, yaitu sekitar 27 hari\n",
        "- rata-rata waktu pengiriman suatu produk memiliki dampak yang sangat signifikan terhadap jumlah pembelian yang dilakukan customers"
      ]
    },
    {
      "cell_type": "markdown",
      "metadata": {
        "id": "9y4VUsmcYNZ5"
      },
      "source": [
        "## Analisis Lanjutan (Opsional) - RFM Analysis"
      ]
    },
    {
      "cell_type": "markdown",
      "metadata": {},
      "source": [
        "data relevan yang akan saya gunakan untuk melakukan RFM Analysis ini adalah customer_unique_id, order_purchase_timestamp, dan total_cost dari dataset keseluruhan"
      ]
    },
    {
      "cell_type": "code",
      "execution_count": 813,
      "metadata": {
        "id": "iWhnzsJGYUCO"
      },
      "outputs": [
        {
          "data": {
            "text/html": [
              "<div>\n",
              "<style scoped>\n",
              "    .dataframe tbody tr th:only-of-type {\n",
              "        vertical-align: middle;\n",
              "    }\n",
              "\n",
              "    .dataframe tbody tr th {\n",
              "        vertical-align: top;\n",
              "    }\n",
              "\n",
              "    .dataframe thead th {\n",
              "        text-align: right;\n",
              "    }\n",
              "</style>\n",
              "<table border=\"1\" class=\"dataframe\">\n",
              "  <thead>\n",
              "    <tr style=\"text-align: right;\">\n",
              "      <th></th>\n",
              "      <th>customer_unique_id</th>\n",
              "      <th>Recency</th>\n",
              "      <th>Frequency</th>\n",
              "      <th>Monetary</th>\n",
              "    </tr>\n",
              "  </thead>\n",
              "  <tbody>\n",
              "    <tr>\n",
              "      <th>0</th>\n",
              "      <td>0000366f3b9a7992bf8c76cfdf3221e2</td>\n",
              "      <td>2327</td>\n",
              "      <td>1</td>\n",
              "      <td>141.90</td>\n",
              "    </tr>\n",
              "    <tr>\n",
              "      <th>1</th>\n",
              "      <td>0000b849f77a49e4a4ce2b2a4ca5be3f</td>\n",
              "      <td>2330</td>\n",
              "      <td>1</td>\n",
              "      <td>27.19</td>\n",
              "    </tr>\n",
              "    <tr>\n",
              "      <th>2</th>\n",
              "      <td>0000f46a3911fa3c0805444483337064</td>\n",
              "      <td>2753</td>\n",
              "      <td>1</td>\n",
              "      <td>86.22</td>\n",
              "    </tr>\n",
              "    <tr>\n",
              "      <th>3</th>\n",
              "      <td>0000f6ccb0745a6a4b88665a16c9f078</td>\n",
              "      <td>2537</td>\n",
              "      <td>1</td>\n",
              "      <td>43.62</td>\n",
              "    </tr>\n",
              "    <tr>\n",
              "      <th>4</th>\n",
              "      <td>0004aac84e0df4da2b147fca70cf8255</td>\n",
              "      <td>2504</td>\n",
              "      <td>1</td>\n",
              "      <td>196.89</td>\n",
              "    </tr>\n",
              "  </tbody>\n",
              "</table>\n",
              "</div>"
            ],
            "text/plain": [
              "                 customer_unique_id  Recency  Frequency  Monetary\n",
              "0  0000366f3b9a7992bf8c76cfdf3221e2     2327          1    141.90\n",
              "1  0000b849f77a49e4a4ce2b2a4ca5be3f     2330          1     27.19\n",
              "2  0000f46a3911fa3c0805444483337064     2753          1     86.22\n",
              "3  0000f6ccb0745a6a4b88665a16c9f078     2537          1     43.62\n",
              "4  0004aac84e0df4da2b147fca70cf8255     2504          1    196.89"
            ]
          },
          "execution_count": 813,
          "metadata": {},
          "output_type": "execute_result"
        }
      ],
      "source": [
        "snapshot_date = pd.to_datetime('2024-09-23')\n",
        "\n",
        "rfm_data = all_data_df.groupby('customer_unique_id').agg({\n",
        "    'order_purchase_timestamp': lambda x: (snapshot_date - pd.to_datetime(x).max()).days,  \n",
        "    'order_id': 'nunique',  \n",
        "    'total_cost': 'sum'  \n",
        "}).reset_index()\n",
        "\n",
        "rfm_data.columns = ['customer_unique_id', 'Recency', 'Frequency', 'Monetary']\n",
        "\n",
        "rfm_data.head()"
      ]
    },
    {
      "cell_type": "markdown",
      "metadata": {},
      "source": [
        "langkah berikutnya adalah saya memberi skor berdasarkan kuantil (1-5) untuk Recency, Frequency, dan Monetary. skor tertinggi berarti menunjukkan nilai yang lebih baik"
      ]
    },
    {
      "cell_type": "code",
      "execution_count": 814,
      "metadata": {},
      "outputs": [
        {
          "data": {
            "text/html": [
              "<div>\n",
              "<style scoped>\n",
              "    .dataframe tbody tr th:only-of-type {\n",
              "        vertical-align: middle;\n",
              "    }\n",
              "\n",
              "    .dataframe tbody tr th {\n",
              "        vertical-align: top;\n",
              "    }\n",
              "\n",
              "    .dataframe thead th {\n",
              "        text-align: right;\n",
              "    }\n",
              "</style>\n",
              "<table border=\"1\" class=\"dataframe\">\n",
              "  <thead>\n",
              "    <tr style=\"text-align: right;\">\n",
              "      <th></th>\n",
              "      <th>customer_unique_id</th>\n",
              "      <th>R_Score</th>\n",
              "      <th>F_Score</th>\n",
              "      <th>M_Score</th>\n",
              "    </tr>\n",
              "  </thead>\n",
              "  <tbody>\n",
              "    <tr>\n",
              "      <th>0</th>\n",
              "      <td>0000366f3b9a7992bf8c76cfdf3221e2</td>\n",
              "      <td>4</td>\n",
              "      <td>1</td>\n",
              "      <td>4</td>\n",
              "    </tr>\n",
              "    <tr>\n",
              "      <th>1</th>\n",
              "      <td>0000b849f77a49e4a4ce2b2a4ca5be3f</td>\n",
              "      <td>4</td>\n",
              "      <td>1</td>\n",
              "      <td>1</td>\n",
              "    </tr>\n",
              "    <tr>\n",
              "      <th>2</th>\n",
              "      <td>0000f46a3911fa3c0805444483337064</td>\n",
              "      <td>1</td>\n",
              "      <td>1</td>\n",
              "      <td>2</td>\n",
              "    </tr>\n",
              "    <tr>\n",
              "      <th>3</th>\n",
              "      <td>0000f6ccb0745a6a4b88665a16c9f078</td>\n",
              "      <td>2</td>\n",
              "      <td>1</td>\n",
              "      <td>1</td>\n",
              "    </tr>\n",
              "    <tr>\n",
              "      <th>4</th>\n",
              "      <td>0004aac84e0df4da2b147fca70cf8255</td>\n",
              "      <td>2</td>\n",
              "      <td>1</td>\n",
              "      <td>4</td>\n",
              "    </tr>\n",
              "  </tbody>\n",
              "</table>\n",
              "</div>"
            ],
            "text/plain": [
              "                 customer_unique_id R_Score F_Score M_Score\n",
              "0  0000366f3b9a7992bf8c76cfdf3221e2       4       1       4\n",
              "1  0000b849f77a49e4a4ce2b2a4ca5be3f       4       1       1\n",
              "2  0000f46a3911fa3c0805444483337064       1       1       2\n",
              "3  0000f6ccb0745a6a4b88665a16c9f078       2       1       1\n",
              "4  0004aac84e0df4da2b147fca70cf8255       2       1       4"
            ]
          },
          "execution_count": 814,
          "metadata": {},
          "output_type": "execute_result"
        }
      ],
      "source": [
        "rfm_data['R_Score'] = pd.qcut(rfm_data['Recency'], 5, labels=[5, 4, 3, 2, 1])\n",
        "\n",
        "rfm_data['F_Score'] = pd.qcut(rfm_data['Frequency'].rank(method='first'), 5, labels=[1, 2, 3, 4, 5])\n",
        "\n",
        "rfm_data['M_Score'] = pd.qcut(rfm_data['Monetary'].rank(method='first'), 5, labels=[1, 2, 3, 4, 5])\n",
        "\n",
        "rfm_data[['customer_unique_id', 'R_Score', 'F_Score', 'M_Score']].head()"
      ]
    },
    {
      "cell_type": "markdown",
      "metadata": {},
      "source": [
        "lalu, saya menggabungkan skor Recency, Frequency, dan Monetary menjadi satu dan menentukan kategori atau segmen customers berdasarkan skor gabungan"
      ]
    },
    {
      "cell_type": "code",
      "execution_count": 815,
      "metadata": {},
      "outputs": [
        {
          "data": {
            "text/html": [
              "<div>\n",
              "<style scoped>\n",
              "    .dataframe tbody tr th:only-of-type {\n",
              "        vertical-align: middle;\n",
              "    }\n",
              "\n",
              "    .dataframe tbody tr th {\n",
              "        vertical-align: top;\n",
              "    }\n",
              "\n",
              "    .dataframe thead th {\n",
              "        text-align: right;\n",
              "    }\n",
              "</style>\n",
              "<table border=\"1\" class=\"dataframe\">\n",
              "  <thead>\n",
              "    <tr style=\"text-align: right;\">\n",
              "      <th></th>\n",
              "      <th>customer_unique_id</th>\n",
              "      <th>Recency</th>\n",
              "      <th>Frequency</th>\n",
              "      <th>Monetary</th>\n",
              "      <th>R_Score</th>\n",
              "      <th>F_Score</th>\n",
              "      <th>M_Score</th>\n",
              "      <th>RFM_Segment</th>\n",
              "      <th>RFM_Score</th>\n",
              "    </tr>\n",
              "  </thead>\n",
              "  <tbody>\n",
              "    <tr>\n",
              "      <th>0</th>\n",
              "      <td>0000366f3b9a7992bf8c76cfdf3221e2</td>\n",
              "      <td>2327</td>\n",
              "      <td>1</td>\n",
              "      <td>141.90</td>\n",
              "      <td>4</td>\n",
              "      <td>1</td>\n",
              "      <td>4</td>\n",
              "      <td>414</td>\n",
              "      <td>9</td>\n",
              "    </tr>\n",
              "    <tr>\n",
              "      <th>1</th>\n",
              "      <td>0000b849f77a49e4a4ce2b2a4ca5be3f</td>\n",
              "      <td>2330</td>\n",
              "      <td>1</td>\n",
              "      <td>27.19</td>\n",
              "      <td>4</td>\n",
              "      <td>1</td>\n",
              "      <td>1</td>\n",
              "      <td>411</td>\n",
              "      <td>6</td>\n",
              "    </tr>\n",
              "    <tr>\n",
              "      <th>2</th>\n",
              "      <td>0000f46a3911fa3c0805444483337064</td>\n",
              "      <td>2753</td>\n",
              "      <td>1</td>\n",
              "      <td>86.22</td>\n",
              "      <td>1</td>\n",
              "      <td>1</td>\n",
              "      <td>2</td>\n",
              "      <td>112</td>\n",
              "      <td>4</td>\n",
              "    </tr>\n",
              "    <tr>\n",
              "      <th>3</th>\n",
              "      <td>0000f6ccb0745a6a4b88665a16c9f078</td>\n",
              "      <td>2537</td>\n",
              "      <td>1</td>\n",
              "      <td>43.62</td>\n",
              "      <td>2</td>\n",
              "      <td>1</td>\n",
              "      <td>1</td>\n",
              "      <td>211</td>\n",
              "      <td>4</td>\n",
              "    </tr>\n",
              "    <tr>\n",
              "      <th>4</th>\n",
              "      <td>0004aac84e0df4da2b147fca70cf8255</td>\n",
              "      <td>2504</td>\n",
              "      <td>1</td>\n",
              "      <td>196.89</td>\n",
              "      <td>2</td>\n",
              "      <td>1</td>\n",
              "      <td>4</td>\n",
              "      <td>214</td>\n",
              "      <td>7</td>\n",
              "    </tr>\n",
              "  </tbody>\n",
              "</table>\n",
              "</div>"
            ],
            "text/plain": [
              "                 customer_unique_id  Recency  Frequency  Monetary R_Score  \\\n",
              "0  0000366f3b9a7992bf8c76cfdf3221e2     2327          1    141.90       4   \n",
              "1  0000b849f77a49e4a4ce2b2a4ca5be3f     2330          1     27.19       4   \n",
              "2  0000f46a3911fa3c0805444483337064     2753          1     86.22       1   \n",
              "3  0000f6ccb0745a6a4b88665a16c9f078     2537          1     43.62       2   \n",
              "4  0004aac84e0df4da2b147fca70cf8255     2504          1    196.89       2   \n",
              "\n",
              "  F_Score M_Score RFM_Segment  RFM_Score  \n",
              "0       1       4         414          9  \n",
              "1       1       1         411          6  \n",
              "2       1       2         112          4  \n",
              "3       1       1         211          4  \n",
              "4       1       4         214          7  "
            ]
          },
          "execution_count": 815,
          "metadata": {},
          "output_type": "execute_result"
        }
      ],
      "source": [
        "rfm_data['RFM_Segment'] = rfm_data['R_Score'].astype(str) + rfm_data['F_Score'].astype(str) + rfm_data['M_Score'].astype(str)\n",
        "\n",
        "rfm_data['RFM_Score'] = rfm_data[['R_Score', 'F_Score', 'M_Score']].sum(axis=1)\n",
        "\n",
        "rfm_data.head()"
      ]
    },
    {
      "cell_type": "markdown",
      "metadata": {},
      "source": [
        "terakhir, dibawah ini saya membuat visualisasi sederhana untuk melihat distribusi pelanggan berdasarkan RFM Score"
      ]
    },
    {
      "cell_type": "code",
      "execution_count": 817,
      "metadata": {},
      "outputs": [
        {
          "data": {
            "image/png": "[encoded data removed]",
            "text/plain": [
              "<Figure size 1000x600 with 1 Axes>"
            ]
          },
          "metadata": {},
          "output_type": "display_data"
        }
      ],
      "source": [
        "plt.figure(figsize=(10, 6))\n",
        "plt.hist(rfm_data['RFM_Score'], bins=10, color='skyblue', edgecolor='black')\n",
        "plt.title('Distribusi Skor RFM Customers', fontweight='bold')\n",
        "plt.xlabel('RFM Score')\n",
        "plt.ylabel('Jumlah Customers')\n",
        "plt.grid(True)\n",
        "\n",
        "plt.show()\n"
      ]
    },
    {
      "cell_type": "markdown",
      "metadata": {},
      "source": [
        "- Bagaimana pengaruh tingkat pembelian suatu produk di wilayah tertentu berdasarkan ukuran produk tersebut ?\n",
        "- Bagaimana pengaruh demografis wilayah customer terhadap lamanya waktu pengiriman produk tersebut ?"
      ]
    },
    {
      "cell_type": "markdown",
      "metadata": {},
      "source": [
        "**Insight:**\n",
        "- \"cama_mesa_banho\" merupakan kategori produk dengan tingkat pembelian tertinggi sebesar 9271 penjualan produk dan merupakan produk yang paling diminati customers, terutama customers dari wilayah SP kota Sao Paulo\n",
        "- rata-rata ukuran(berat dan volume) suatu produk tidak berpengaruh signifikan terhadap tingkat pembelian atau seberapa laku produk tersebut\n",
        "- novo brasil menjadi kota customers dengan rata-rata waktu pengiriman produk terlama, yaitu 148 hari. Dan RR menjadi wilayah customers dengan rata-rata waktu pengiriman produk terlama, yaitu sekitar 27 hari\n",
        "- rata-rata waktu pengiriman suatu produk memiliki dampak yang sangat signifikan terhadap jumlah pembelian yang dilakukan customers"
      ]
    },
    {
      "cell_type": "markdown",
      "metadata": {
        "id": "_WeHlCeX8DC2"
      },
      "source": [
        "## Conclusion"
      ]
    },
    {
      "cell_type": "markdown",
      "metadata": {
        "id": "ZTcyR48Y8DC2"
      },
      "source": [
        "- Conclution pertanyaan 1 : tingkat pembelian atau dalam kata lain laris atau tidaknya suatu produk tidak dipengaruhi secara signifikan berdasarkan ukuran produk tersebut. Karena, beberapa produk yang masuk ke dalam top 10 penjualan terlaris dan diminati customers, memiliki ukuran yang jauh diatas rata-rata berat dan volume keseluruhan product yang ada. salah satu contohnya adalah kategori produk \"cama_mesa_banho\". produk tersebut merupakan kategori produk dengan tingkat pembelian tertinggi sebesar 9271. Namun, rata-rata ukuran (volume) produk tersebut adalah 16611 cm^3 dan produk tersebut berukuran (volume) lebih besar jika dibandingkan dengan rata-rata volume total product yang ada, yaitu 15220 cm^3. jadi, kemungkinan nya adalah tingkat pembelian produk dipengaruhi oleh hal-hal yang lainnya, misal seperti lamanya waktu pengiriman yang didasari oleh demografis customer atau harga dan biaya pengiriman produk tersebut.\n",
        "\n",
        "- Conclution pertanyaan 2 : rata-rata waktu pengiriman suatu produk memiliki dampak yang sangat signifikan terhadap jumlah pembelian produk yang dilakukan customers. karena berdasarkan pada visualisasi scatter plot diatas, waktu pengiriman produk yang lama atau tinggi, cenderung memiliki jumlah pembelian yang sedikit jika dibandingkan dengan waktu pengiriman yang cepat. dan penyebab dari lamanya waktu pengiriman dapat disebabkan oleh jarak demografis customers dengan penjual yang memang sangat jauh. kasus tersebut juga terjadi terhadap customer yang berwilayah di RR. wilayah RR menjadi wilayah dengan waktu pengiriman produk paling lama, yaitu sekitar 27 hari. dengan pengiriman produk yang lama pada wilayah tersebut, jumlah penjualan produk di wilayah tersebut juga kecil, yaitu di angka 42 penjualan saja jika dibandingkan dengan wilayah-wilayah lain yang memiliki waktu pengiriman yang lebih singkat."
      ]
    }
  ],
  "metadata": {
    "colab": {
      "provenance": []
    },
    "kernelspec": {
      "display_name": "Python 3",
      "language": "python",
      "name": "python3"
    },
    "language_info": {
      "codemirror_mode": {
        "name": "ipython",
        "version": 3
      },
      "file_extension": ".py",
      "mimetype": "text/x-python",
      "name": "python",
      "nbconvert_exporter": "python",
      "pygments_lexer": "ipython3",
      "version": "3.9.18"
    },
    "orig_nbformat": 4,
    "vscode": {
      "interpreter": {
        "hash": "972b3bf27e332e87b5379f2791f6ef9dfc79c71018c370b0d7423235e20fe4d7"
      }
    }
  },
  "nbformat": 4,
  "nbformat_minor": 0
}
